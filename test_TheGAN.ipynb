{
 "cells": [
  {
   "cell_type": "code",
   "execution_count": 1,
   "metadata": {
    "collapsed": true
   },
   "outputs": [],
   "source": [
    "import numpy as np\n",
    "import ot\n",
    "import torch\n",
    "from math import sqrt\n",
    "\n",
    "from TheGAN import LevyGAN"
   ]
  },
  {
   "cell_type": "code",
   "execution_count": 2,
   "outputs": [
    {
     "name": "stdout",
     "output_type": "stream",
     "text": [
      "blub\n"
     ]
    },
    {
     "name": "stderr",
     "output_type": "stream",
     "text": [
      "/home/andy/anaconda3/envs/GAN/lib/python3.10/site-packages/ot/lp/solver_1d.py:41: UserWarning: The use of `x.T` on tensors of dimension other than 2 to reverse their shape is deprecated and it will throw an error in a future release. Consider `x.mT` to transpose batches of matricesor `x.permute(*torch.arange(x.ndim - 1, -1, -1))` to reverse the dimensions of a tensor. (Triggered internally at  /opt/conda/conda-bld/pytorch_1659484746364/work/aten/src/ATen/native/TensorShape.cpp:2981.)\n",
      "  cws = cws.T.contiguous()\n"
     ]
    },
    {
     "name": "stdout",
     "output_type": "stream",
     "text": [
      "epoch: 0/2, iter: 0, gradient norm: 0.78503, discriminator dist: -14.32564, st_dev error:  0.13414, joint_wass_dist:  0.51445\n",
      "errs: ['0.0284', '0.0301', '0.0286', '0.0341', '0.0377', '0.0261'], ch_err: ['0.4945', '0.4952', '0.2258', '0.4806', '0.2018', '0.2133'] \n",
      "epoch: 0/2, iter: 100, gradient norm: 0.98492, discriminator dist: -13.80314, st_dev error:  0.14148, joint_wass_dist:  0.46446\n",
      "errs: ['0.0553', '0.0513', '0.0659', '0.0669', '0.0838', '0.0592'], ch_err: ['0.4572', '0.4564', '0.1732', '0.4431', '0.1743', '0.1722'] \n",
      "epoch: 0/2, iter: 200, gradient norm: 0.97327, discriminator dist: -14.01418, st_dev error:  0.14289, joint_wass_dist:  0.46718\n",
      "errs: ['0.0668', '0.0564', '0.0741', '0.0728', '0.0927', '0.0657'], ch_err: ['0.4515', '0.4492', '0.1663', '0.4407', '0.1697', '0.1658'] \n",
      "epoch: 0/2, iter: 300, gradient norm: 0.89909, discriminator dist: -14.20497, st_dev error:  0.14338, joint_wass_dist:  0.47277\n",
      "errs: ['0.0694', '0.0591', '0.0708', '0.0739', '0.0954', '0.0664'], ch_err: ['0.4466', '0.4431', '0.1697', '0.4386', '0.1651', '0.1637'] \n",
      "epoch: 0/2, iter: 400, gradient norm: 0.84984, discriminator dist: -14.11991, st_dev error:  0.14304, joint_wass_dist:  0.47356\n",
      "errs: ['0.0712', '0.0606', '0.0624', '0.0721', '0.0924', '0.0650'], ch_err: ['0.4453', '0.4440', '0.1747', '0.4402', '0.1692', '0.1641'] \n",
      "epoch: 0/2, iter: 500, gradient norm: 1.03259, discriminator dist: -13.93879, st_dev error:  0.14214, joint_wass_dist:  0.47560\n",
      "errs: ['0.0702', '0.0584', '0.0432', '0.0711', '0.0937', '0.0663'], ch_err: ['0.4426', '0.4441', '0.1991', '0.4435', '0.1684', '0.1651'] \n",
      "epoch: 0/2, iter: 600, gradient norm: 0.98416, discriminator dist: -13.84780, st_dev error:  0.14082, joint_wass_dist:  0.47945\n",
      "errs: ['0.0699', '0.0595', '0.0287', '0.0630', '0.0919', '0.0613'], ch_err: ['0.4456', '0.4439', '0.2199', '0.4477', '0.1664', '0.1704'] \n",
      "epoch: 0/2, iter: 700, gradient norm: 1.09713, discriminator dist: -13.60983, st_dev error:  0.13976, joint_wass_dist:  0.48257\n",
      "errs: ['0.0672', '0.0472', '0.0292', '0.0611', '0.0856', '0.0513'], ch_err: ['0.4502', '0.4639', '0.2203', '0.4543', '0.1744', '0.1825'] \n",
      "epoch: 0/2, iter: 800, gradient norm: 0.80603, discriminator dist: -14.22017, st_dev error:  0.13623, joint_wass_dist:  0.55443\n",
      "errs: ['0.0519', '0.0299', '0.0329', '0.0345', '0.0768', '0.0285'], ch_err: ['0.4629', '0.5023', '0.2128', '0.4816', '0.1783', '0.2278'] \n",
      "epoch: 0/2, iter: 900, gradient norm: 0.94198, discriminator dist: -14.14893, st_dev error:  0.13506, joint_wass_dist:  0.63059\n",
      "errs: ['0.0365', '0.0310', '0.0392', '0.0277', '0.0169', '0.0432'], ch_err: ['0.5211', '0.5083', '0.2483', '0.5102', '0.2294', '0.2553'] \n",
      "epoch: 0/2, iter: 1000, gradient norm: 0.78769, discriminator dist: -14.17305, st_dev error:  0.14226, joint_wass_dist:  0.75160\n",
      "errs: ['0.1555', '0.0291', '0.0783', '0.0363', '0.0710', '0.0509'], ch_err: ['0.6385', '0.5048', '0.2889', '0.5324', '0.2739', '0.2687'] \n",
      "epoch: 0/2, iter: 1100, gradient norm: 1.07227, discriminator dist: -13.66075, st_dev error:  0.14184, joint_wass_dist:  0.73459\n",
      "errs: ['0.1247', '0.0419', '0.0466', '0.0532', '0.0703', '0.0561'], ch_err: ['0.6098', '0.5305', '0.2617', '0.5492', '0.2697', '0.2735'] \n",
      "epoch: 0/2, iter: 1200, gradient norm: 0.67208, discriminator dist: -14.37123, st_dev error:  0.13362, joint_wass_dist:  0.59817\n",
      "errs: ['0.0237', '0.0295', '0.0279', '0.0308', '0.0264', '0.0157'], ch_err: ['0.5007', '0.4965', '0.2393', '0.4808', '0.2352', '0.2367'] \n",
      "epoch: 0/2, iter: 1300, gradient norm: 0.85718, discriminator dist: -14.26517, st_dev error:  0.13875, joint_wass_dist:  0.50122\n",
      "errs: ['0.0486', '0.0484', '0.0364', '0.0611', '0.0502', '0.0403'], ch_err: ['0.4646', '0.4620', '0.2019', '0.4522', '0.1915', '0.1874'] \n"
     ]
    },
    {
     "ename": "KeyboardInterrupt",
     "evalue": "",
     "output_type": "error",
     "traceback": [
      "\u001B[0;31m---------------------------------------------------------------------------\u001B[0m",
      "\u001B[0;31mKeyboardInterrupt\u001B[0m                         Traceback (most recent call last)",
      "Input \u001B[0;32mIn [2]\u001B[0m, in \u001B[0;36m<cell line: 45>\u001B[0;34m()\u001B[0m\n\u001B[1;32m     43\u001B[0m levG \u001B[38;5;241m=\u001B[39m LevyGAN(config)\n\u001B[1;32m     44\u001B[0m levG\u001B[38;5;241m.\u001B[39mload_dicts_unstructured(\u001B[38;5;124m'\u001B[39m\u001B[38;5;124mmodel_saves/GAN1_4d_62noise_min_sum_AMAZING_Hsymgenerator.pt\u001B[39m\u001B[38;5;124m'\u001B[39m,\u001B[38;5;124m'\u001B[39m\u001B[38;5;124mmodel_saves/GAN1_4d_62noise_min_sum_AMAZING_Hsymdiscriminator.pt\u001B[39m\u001B[38;5;124m'\u001B[39m)\n\u001B[0;32m---> 45\u001B[0m \u001B[43mlevG\u001B[49m\u001B[38;5;241;43m.\u001B[39;49m\u001B[43mclassic_train\u001B[49m\u001B[43m(\u001B[49m\u001B[43mtraining_config\u001B[49m\u001B[43m)\u001B[49m\n",
      "File \u001B[0;32m~/PycharmProjects/LevyGAN/TheGAN.py:411\u001B[0m, in \u001B[0;36mLevyGAN.classic_train\u001B[0;34m(self, tr_conf)\u001B[0m\n\u001B[1;32m    409\u001B[0m     lossG \u001B[38;5;241m=\u001B[39m \u001B[38;5;28mself\u001B[39m\u001B[38;5;241m.\u001B[39mnetD(fake_data)\n\u001B[1;32m    410\u001B[0m     lossG \u001B[38;5;241m=\u001B[39m \u001B[38;5;241m-\u001B[39m lossG\u001B[38;5;241m.\u001B[39mmean(\u001B[38;5;241m0\u001B[39m)\u001B[38;5;241m.\u001B[39mview(\u001B[38;5;241m1\u001B[39m)\n\u001B[0;32m--> 411\u001B[0m     \u001B[43mlossG\u001B[49m\u001B[38;5;241;43m.\u001B[39;49m\u001B[43mbackward\u001B[49m\u001B[43m(\u001B[49m\u001B[43m)\u001B[49m\n\u001B[1;32m    412\u001B[0m     opt_g\u001B[38;5;241m.\u001B[39mstep()\n\u001B[1;32m    414\u001B[0m \u001B[38;5;28;01mif\u001B[39;00m iters \u001B[38;5;241m%\u001B[39m \u001B[38;5;241m100\u001B[39m \u001B[38;5;241m==\u001B[39m \u001B[38;5;241m0\u001B[39m:\n",
      "File \u001B[0;32m~/anaconda3/envs/GAN/lib/python3.10/site-packages/torch/_tensor.py:396\u001B[0m, in \u001B[0;36mTensor.backward\u001B[0;34m(self, gradient, retain_graph, create_graph, inputs)\u001B[0m\n\u001B[1;32m    387\u001B[0m \u001B[38;5;28;01mif\u001B[39;00m has_torch_function_unary(\u001B[38;5;28mself\u001B[39m):\n\u001B[1;32m    388\u001B[0m     \u001B[38;5;28;01mreturn\u001B[39;00m handle_torch_function(\n\u001B[1;32m    389\u001B[0m         Tensor\u001B[38;5;241m.\u001B[39mbackward,\n\u001B[1;32m    390\u001B[0m         (\u001B[38;5;28mself\u001B[39m,),\n\u001B[0;32m   (...)\u001B[0m\n\u001B[1;32m    394\u001B[0m         create_graph\u001B[38;5;241m=\u001B[39mcreate_graph,\n\u001B[1;32m    395\u001B[0m         inputs\u001B[38;5;241m=\u001B[39minputs)\n\u001B[0;32m--> 396\u001B[0m \u001B[43mtorch\u001B[49m\u001B[38;5;241;43m.\u001B[39;49m\u001B[43mautograd\u001B[49m\u001B[38;5;241;43m.\u001B[39;49m\u001B[43mbackward\u001B[49m\u001B[43m(\u001B[49m\u001B[38;5;28;43mself\u001B[39;49m\u001B[43m,\u001B[49m\u001B[43m \u001B[49m\u001B[43mgradient\u001B[49m\u001B[43m,\u001B[49m\u001B[43m \u001B[49m\u001B[43mretain_graph\u001B[49m\u001B[43m,\u001B[49m\u001B[43m \u001B[49m\u001B[43mcreate_graph\u001B[49m\u001B[43m,\u001B[49m\u001B[43m \u001B[49m\u001B[43minputs\u001B[49m\u001B[38;5;241;43m=\u001B[39;49m\u001B[43minputs\u001B[49m\u001B[43m)\u001B[49m\n",
      "File \u001B[0;32m~/anaconda3/envs/GAN/lib/python3.10/site-packages/torch/autograd/__init__.py:173\u001B[0m, in \u001B[0;36mbackward\u001B[0;34m(tensors, grad_tensors, retain_graph, create_graph, grad_variables, inputs)\u001B[0m\n\u001B[1;32m    168\u001B[0m     retain_graph \u001B[38;5;241m=\u001B[39m create_graph\n\u001B[1;32m    170\u001B[0m \u001B[38;5;66;03m# The reason we repeat same the comment below is that\u001B[39;00m\n\u001B[1;32m    171\u001B[0m \u001B[38;5;66;03m# some Python versions print out the first line of a multi-line function\u001B[39;00m\n\u001B[1;32m    172\u001B[0m \u001B[38;5;66;03m# calls in the traceback and some print out the last line\u001B[39;00m\n\u001B[0;32m--> 173\u001B[0m \u001B[43mVariable\u001B[49m\u001B[38;5;241;43m.\u001B[39;49m\u001B[43m_execution_engine\u001B[49m\u001B[38;5;241;43m.\u001B[39;49m\u001B[43mrun_backward\u001B[49m\u001B[43m(\u001B[49m\u001B[43m  \u001B[49m\u001B[38;5;66;43;03m# Calls into the C++ engine to run the backward pass\u001B[39;49;00m\n\u001B[1;32m    174\u001B[0m \u001B[43m    \u001B[49m\u001B[43mtensors\u001B[49m\u001B[43m,\u001B[49m\u001B[43m \u001B[49m\u001B[43mgrad_tensors_\u001B[49m\u001B[43m,\u001B[49m\u001B[43m \u001B[49m\u001B[43mretain_graph\u001B[49m\u001B[43m,\u001B[49m\u001B[43m \u001B[49m\u001B[43mcreate_graph\u001B[49m\u001B[43m,\u001B[49m\u001B[43m \u001B[49m\u001B[43minputs\u001B[49m\u001B[43m,\u001B[49m\n\u001B[1;32m    175\u001B[0m \u001B[43m    \u001B[49m\u001B[43mallow_unreachable\u001B[49m\u001B[38;5;241;43m=\u001B[39;49m\u001B[38;5;28;43;01mTrue\u001B[39;49;00m\u001B[43m,\u001B[49m\u001B[43m \u001B[49m\u001B[43maccumulate_grad\u001B[49m\u001B[38;5;241;43m=\u001B[39;49m\u001B[38;5;28;43;01mTrue\u001B[39;49;00m\u001B[43m)\u001B[49m\n",
      "\u001B[0;31mKeyboardInterrupt\u001B[0m: "
     ]
    }
   ],
   "source": [
    "config = {\n",
    "    'device': torch.device('cpu'),\n",
    "    'ngpu': 0,\n",
    "    'w dim': 4,\n",
    "    'a dim': 6,\n",
    "    'noise size': 62,\n",
    "    'which generator': 1,\n",
    "    'which discriminator': 1,\n",
    "    'generator symmetry mode': 'Hsym',\n",
    "    'generator last width': 6,\n",
    "    's dim': 16,\n",
    "    'leakyReLU slope': 0.2,\n",
    "    'num epochs': 20,\n",
    "    'num Chen iters': 5000,\n",
    "    'optimizer': 'Adam',\n",
    "    'lrG': 0.0001,\n",
    "    'lrD': 0.0005,\n",
    "    'beta1': 0,\n",
    "    'beta2': 0.99,\n",
    "    'Lipschitz mode': 'gp',\n",
    "    'weight clipping limit': 0.01,\n",
    "    'gp weight': 10.0,\n",
    "    'batch size': 1024,\n",
    "    'test batch size': 65536,\n",
    "    'num tests for 2d': 8,\n",
    "    'W fixed whole': [1.0, -0.5, -1.2, -0.3, 0.7, 0.2, -0.9, 0.1, 1.7]\n",
    "}\n",
    "\n",
    "training_config = {\n",
    "    'num epochs': 2,\n",
    "    'num Chen iters': 5000,\n",
    "    'optimizer': 'Adam',\n",
    "    'lrG': 0.0001,\n",
    "    'lrD': 0.0005,\n",
    "    'beta1': 0,\n",
    "    'beta2': 0.99,\n",
    "    'Lipschitz mode': 'gp',\n",
    "    'weight clipping limit': 0.01,\n",
    "    'gp weight': 10.0,\n",
    "    'batch size': 1024,\n",
    "}\n",
    "\n",
    "levG = LevyGAN(config)\n",
    "levG.load_dicts_unstructured('model_saves/GAN1_4d_62noise_min_sum_AMAZING_Hsymgenerator.pt','model_saves/GAN1_4d_62noise_min_sum_AMAZING_Hsymdiscriminator.pt')\n",
    "levG.classic_train(training_config)"
   ],
   "metadata": {
    "collapsed": false
   }
  }
 ],
 "metadata": {
  "kernelspec": {
   "display_name": "Python 3",
   "language": "python",
   "name": "python3"
  },
  "language_info": {
   "codemirror_mode": {
    "name": "ipython",
    "version": 2
   },
   "file_extension": ".py",
   "mimetype": "text/x-python",
   "name": "python",
   "nbconvert_exporter": "python",
   "pygments_lexer": "ipython2",
   "version": "2.7.6"
  }
 },
 "nbformat": 4,
 "nbformat_minor": 0
}
