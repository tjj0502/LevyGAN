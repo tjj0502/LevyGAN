{
 "cells": [
  {
   "cell_type": "code",
   "execution_count": 1,
   "metadata": {
    "collapsed": true
   },
   "outputs": [],
   "source": [
    "import numpy as np\n",
    "import ot\n",
    "import torch\n",
    "from math import sqrt\n",
    "\n",
    "from aux_functions import *\n",
    "from TheGAN import LevyGAN\n",
    "import configs_folder.configs as configs"
   ]
  },
  {
   "cell_type": "code",
   "execution_count": null,
   "outputs": [],
   "source": [
    "config = {\n",
    "    'device': torch.device('cpu'),\n",
    "    'ngpu': 0,\n",
    "    'w dim': 4,\n",
    "    'a dim': 6,\n",
    "    'noise size': 62,\n",
    "    'which generator': 4,\n",
    "    'which discriminator': 4,\n",
    "    'generator symmetry mode': 'Hsym',\n",
    "    'generator last width': 6,\n",
    "    's dim': 16,\n",
    "    'leakyReLU slope': 0.2,\n",
    "    'num epochs': 30,\n",
    "    'num Chen iters': 5000,\n",
    "    'optimizer': 'Adam',\n",
    "    'lrG': 0.00005,\n",
    "    'lrD': 0.0001,\n",
    "    'beta1': 0,\n",
    "    'beta2': 0.99,\n",
    "    'Lipschitz mode': 'gp',\n",
    "    'weight clipping limit': 0.01,\n",
    "    'gp weight': 20.0,\n",
    "    'batch size': 2048,\n",
    "    'test batch size': 16384,\n",
    "    'unfixed test batch size': 65536,\n",
    "    'joint wass dist batch size': 16384,\n",
    "    'num tests for 2d': 8,\n",
    "    'W fixed whole': [1.0, -0.5, -1.2, -0.3, 0.7, 0.2, -0.9, 0.1, 1.7],\n",
    "    'do timeing': True\n",
    "}\n",
    "\n",
    "training_config = configs.training_config\n",
    "\n",
    "levG = LevyGAN(config)\n",
    "levG.serial_number = 6\n",
    "print(\"blub\")\n",
    "beta2 = 0.98\n",
    "for beta1 in [0.05,0.5]:\n",
    "    for msch in ['_min_sum', 'min_chen']:\n",
    "        dsc = f\"beta1_{beta1:.2f}_beta2_{beta2:.3f}{msch}\"\n",
    "        levG.load_dicts(serial_num_to_load=6, descriptor=dsc)\n",
    "        print(\"loaded dicts\")\n",
    "        levG.do_tests(comp_joint_err=True, comp_grad_norm=False)\n",
    "        print(f\"{dsc}:  joint err: {levG.test_results['joint wass error']:.5f}, chen errors: {make_pretty(levG.test_results['chen errors'])}\")\n"
   ],
   "metadata": {
    "collapsed": false,
    "pycharm": {
     "is_executing": true
    }
   }
  },
  {
   "cell_type": "code",
   "execution_count": null,
   "outputs": [],
   "source": [],
   "metadata": {
    "collapsed": false,
    "pycharm": {
     "is_executing": true
    }
   }
  },
  {
   "cell_type": "code",
   "execution_count": null,
   "outputs": [],
   "source": [],
   "metadata": {
    "collapsed": false,
    "pycharm": {
     "is_executing": true
    }
   }
  }
 ],
 "metadata": {
  "kernelspec": {
   "display_name": "Python 3",
   "language": "python",
   "name": "python3"
  },
  "language_info": {
   "codemirror_mode": {
    "name": "ipython",
    "version": 2
   },
   "file_extension": ".py",
   "mimetype": "text/x-python",
   "name": "python",
   "nbconvert_exporter": "python",
   "pygments_lexer": "ipython2",
   "version": "2.7.6"
  }
 },
 "nbformat": 4,
 "nbformat_minor": 0
}
