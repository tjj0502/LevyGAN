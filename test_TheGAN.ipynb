{
 "cells": [
  {
   "cell_type": "code",
   "execution_count": 7,
   "metadata": {
    "collapsed": true
   },
   "outputs": [],
   "source": [
    "import numpy as np\n",
    "import ot\n",
    "import torch\n",
    "from math import sqrt\n",
    "import timeit\n",
    "\n",
    "from aux_functions import *\n",
    "from TheGAN import LevyGAN\n",
    "import configs_folder.configs as configs"
   ]
  },
  {
   "cell_type": "code",
   "execution_count": 10,
   "outputs": [
    {
     "name": "stdout",
     "output_type": "stream",
     "text": [
      "2.1650694419986394\n"
     ]
    }
   ],
   "source": [
    "actual_bsz = 65536\n",
    "_s_dim = 16\n",
    "total_len = actual_bsz * _s_dim\n",
    "\n",
    "start_time = timeit.default_timer()\n",
    "for i in range(100):\n",
    "    result = torch.randperm(actual_bsz * _s_dim)[:actual_bsz]\n",
    "\n",
    "elapsed = timeit.default_timer() - start_time\n",
    "print(elapsed)"
   ],
   "metadata": {
    "collapsed": false
   }
  },
  {
   "cell_type": "code",
   "execution_count": 11,
   "outputs": [
    {
     "name": "stdout",
     "output_type": "stream",
     "text": [
      "1.098054696998588\n"
     ]
    }
   ],
   "source": [
    "start_time = timeit.default_timer()\n",
    "for i in range(100):\n",
    "    idx = 0\n",
    "    result = []\n",
    "    for i in range(actual_bsz):\n",
    "        result.append(idx)\n",
    "        idx = (idx + actual_bsz + 1) % total_len\n",
    "\n",
    "elapsed = timeit.default_timer() - start_time\n",
    "print(elapsed)"
   ],
   "metadata": {
    "collapsed": false
   }
  },
  {
   "cell_type": "code",
   "execution_count": 2,
   "outputs": [
    {
     "name": "stdout",
     "output_type": "stream",
     "text": [
      "blub\n",
      "loaded dicts\n",
      "65536\n",
      "torch.Size([1048576, 10])\n"
     ]
    },
    {
     "name": "stderr",
     "output_type": "stream",
     "text": [
      "/home/andy/anaconda3/envs/GAN/lib/python3.10/site-packages/ot/lp/solver_1d.py:41: UserWarning: The use of `x.T` on tensors of dimension other than 2 to reverse their shape is deprecated and it will throw an error in a future release. Consider `x.mT` to transpose batches of matricesor `x.permute(*torch.arange(x.ndim - 1, -1, -1))` to reverse the dimensions of a tensor. (Triggered internally at  /opt/conda/conda-bld/pytorch_1659484746364/work/aten/src/ATen/native/TensorShape.cpp:2981.)\n",
      "  cws = cws.T.contiguous()\n"
     ]
    },
    {
     "name": "stdout",
     "output_type": "stream",
     "text": [
      "beta1_0.05_beta2_0.980_min_sum: chen errors: ['0.4903', '0.4896', '0.2182', '0.4989', '0.2216', '0.2310']\n",
      "loaded dicts\n",
      "65536\n",
      "torch.Size([1048576, 10])\n",
      "beta1_0.05_beta2_0.980min_chen: chen errors: ['0.4428', '0.4521', '0.1645', '0.4542', '0.2168', '0.1754']\n",
      "loaded dicts\n",
      "65536\n",
      "torch.Size([1048576, 10])\n",
      "beta1_0.50_beta2_0.980_min_sum: chen errors: ['0.4950', '0.5012', '0.2236', '0.5027', '0.2285', '0.2199']\n",
      "loaded dicts\n",
      "65536\n",
      "torch.Size([1048576, 10])\n",
      "beta1_0.50_beta2_0.980min_chen: chen errors: ['0.4701', '0.4684', '0.1606', '0.4622', '0.2317', '0.1812']\n"
     ]
    }
   ],
   "source": [
    "config = {\n",
    "    'device': torch.device('cpu'),\n",
    "    'ngpu': 0,\n",
    "    'w dim': 4,\n",
    "    'a dim': 6,\n",
    "    'noise size': 62,\n",
    "    'which generator': 4,\n",
    "    'which discriminator': 4,\n",
    "    'generator symmetry mode': 'Hsym',\n",
    "    'generator last width': 6,\n",
    "    's dim': 16,\n",
    "    'leakyReLU slope': 0.2,\n",
    "    'num epochs': 30,\n",
    "    'num Chen iters': 5000,\n",
    "    'optimizer': 'Adam',\n",
    "    'lrG': 0.00005,\n",
    "    'lrD': 0.0001,\n",
    "    'beta1': 0,\n",
    "    'beta2': 0.99,\n",
    "    'Lipschitz mode': 'gp',\n",
    "    'weight clipping limit': 0.01,\n",
    "    'gp weight': 20.0,\n",
    "    'batch size': 2048,\n",
    "    'test batch size': 16384,\n",
    "    'unfixed test batch size': 65536,\n",
    "    'joint wass dist batch size': 8192,\n",
    "    'num tests for 2d': 8,\n",
    "    'W fixed whole': [1.0, -0.5, -1.2, -0.3, 0.7, 0.2, -0.9, 0.1, 1.7],\n",
    "    'do timeing': False\n",
    "}\n",
    "\n",
    "training_config = configs.training_config\n",
    "\n",
    "levG = LevyGAN(config)\n",
    "levG.serial_number = 6\n",
    "print(\"blub\")\n",
    "beta2 = 0.98\n",
    "for beta1 in [0.05,0.5]:\n",
    "    for msch in ['_min_sum', 'min_chen']:\n",
    "        dsc = f\"beta1_{beta1:.2f}_beta2_{beta2:.3f}{msch}\"\n",
    "        levG.load_dicts(serial_num_to_load=6, descriptor=dsc)\n",
    "        print(\"loaded dicts\")\n",
    "        levG.do_tests(comp_joint_err=False, comp_grad_norm=False)\n",
    "        print(f\"{dsc}: chen errors: {make_pretty(levG.test_results['chen errors'])}\")\n"
   ],
   "metadata": {
    "collapsed": false
   }
  },
  {
   "cell_type": "markdown",
   "source": [
    "beta1_0.05_beta2_0.980_min_sum:  joint err: 0.45982, chen errors: ['0.4920', '0.4912', '0.2205', '0.4960', '0.2204', '0.2306']\n",
    "beta1_0.05_beta2_0.980min_chen:  joint err: 0.38241, chen errors: ['0.4405', '0.4509', '0.1649', '0.4532', '0.2158', '0.1753']\n",
    "beta1_0.50_beta2_0.980_min_sum:  joint err: 0.48113, chen errors: ['0.4937', '0.5019', '0.2218', '0.4981', '0.2285', '0.2204']\n",
    "beta1_0.50_beta2_0.980min_chen:  joint err: 0.38037, chen errors: ['0.4708', '0.4636', '0.1610', '0.4650', '0.2306', '0.1820']"
   ],
   "metadata": {
    "collapsed": false
   }
  },
  {
   "cell_type": "code",
   "execution_count": 2,
   "outputs": [
    {
     "name": "stdout",
     "output_type": "stream",
     "text": [
      "[0, 1, 2, 23, 24, 25, 46, 47, 48, 69, 70, 71, 92, 93, 94, 115, 116, 117, 138, 139, 140]\n"
     ]
    }
   ],
   "source": [
    "print(select_pruning_indices(8,20))"
   ],
   "metadata": {
    "collapsed": false
   }
  },
  {
   "cell_type": "code",
   "execution_count": null,
   "outputs": [],
   "source": [],
   "metadata": {
    "collapsed": false
   }
  }
 ],
 "metadata": {
  "kernelspec": {
   "display_name": "Python 3",
   "language": "python",
   "name": "python3"
  },
  "language_info": {
   "codemirror_mode": {
    "name": "ipython",
    "version": 2
   },
   "file_extension": ".py",
   "mimetype": "text/x-python",
   "name": "python",
   "nbconvert_exporter": "python",
   "pygments_lexer": "ipython2",
   "version": "2.7.6"
  }
 },
 "nbformat": 4,
 "nbformat_minor": 0
}
