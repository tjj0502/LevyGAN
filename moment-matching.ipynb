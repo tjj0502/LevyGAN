{
 "cells": [
  {
   "cell_type": "code",
   "execution_count": 2,
   "metadata": {
    "collapsed": true
   },
   "outputs": [],
   "source": [
    "import numpy as np\n",
    "from math import sqrt\n",
    "import ot\n",
    "import torch\n",
    "from aux_functions import a_idx, w_indices, list_pairs, fast_w_indices, gen_4mom_approx, joint_wass_dist, \\\n",
    "    chen_error_3step, gen_2mom_approx"
   ]
  },
  {
   "cell_type": "markdown",
   "source": [
    "## Demonstration of the random variable which matches the first 4 moments of Levy Area\n",
    "\n",
    "There is also a simple version which just matches the variances conditional on the W increment"
   ],
   "metadata": {
    "collapsed": false
   }
  },
  {
   "cell_type": "code",
   "execution_count": 3,
   "outputs": [
    {
     "name": "stdout",
     "output_type": "stream",
     "text": [
      "(1048576, 6)\n",
      "(1048576, 6)\n",
      "(1048576, 10)\n",
      "(1048576, 6)\n"
     ]
    }
   ],
   "source": [
    "samples = np.genfromtxt('samples/samples_4-dim.csv', dtype=float, delimiter=',')\n",
    "W = samples[:,:4]\n",
    "a_true = samples[:,4:10]\n",
    "bsz = samples.shape[0]\n",
    "generated4mom = gen_4mom_approx(4, bsz, _W=W)\n",
    "generated2mom = gen_2mom_approx(4, bsz, _W = W)\n",
    "print(generated2mom.shape)\n",
    "print(a_true.shape)\n",
    "a_generated4mom = generated4mom[:, 4:10]\n",
    "a_generated2mom = generated2mom[:, 4:10]"
   ],
   "metadata": {
    "collapsed": false
   }
  },
  {
   "cell_type": "code",
   "execution_count": 4,
   "outputs": [
    {
     "name": "stdout",
     "output_type": "stream",
     "text": [
      "[0.0031215251014375177, 0.0031286148594010174, 0.002799245139591539, 0.0023474843729451474]\n"
     ]
    }
   ],
   "source": [
    "err = [sqrt(ot.wasserstein_1d(a_true[:,i], a_generated4mom[:, i], p=2)) for i in range(4)]\n",
    "print(err)"
   ],
   "metadata": {
    "collapsed": false
   }
  },
  {
   "cell_type": "code",
   "execution_count": 5,
   "outputs": [
    {
     "name": "stdout",
     "output_type": "stream",
     "text": [
      "[0.020255162715319474, 0.020892199738661764, 0.019990485264570586, 0.020879712144683007]\n"
     ]
    }
   ],
   "source": [
    "err = [sqrt(ot.wasserstein_1d(a_true[:,i], a_generated2mom[:, i], p=2)) for i in range(4)]\n",
    "print(err)"
   ],
   "metadata": {
    "collapsed": false
   }
  },
  {
   "cell_type": "code",
   "execution_count": null,
   "outputs": [],
   "source": [
    "joint_err = joint_wass_dist(a_true[:10000], a_generated4mom[:10000])\n",
    "print(joint_err)"
   ],
   "metadata": {
    "collapsed": false
   }
  },
  {
   "cell_type": "code",
   "execution_count": null,
   "outputs": [],
   "source": [
    "joint_err = joint_wass_dist(a_true[:10000], a_generated2mom[:10000])\n",
    "print(joint_err)"
   ],
   "metadata": {
    "collapsed": false
   }
  },
  {
   "cell_type": "code",
   "execution_count": 6,
   "outputs": [
    {
     "name": "stderr",
     "output_type": "stream",
     "text": [
      "/home/andy/anaconda3/envs/GAN/lib/python3.10/site-packages/ot/lp/solver_1d.py:41: UserWarning: The use of `x.T` on tensors of dimension other than 2 to reverse their shape is deprecated and it will throw an error in a future release. Consider `x.mT` to transpose batches of matricesor `x.permute(*torch.arange(x.ndim - 1, -1, -1))` to reverse the dimensions of a tensor. (Triggered internally at  /opt/conda/conda-bld/pytorch_1659484746364/work/aten/src/ATen/native/TensorShape.cpp:2981.)\n",
      "  cws = cws.T.contiguous()\n"
     ]
    },
    {
     "data": {
      "text/plain": "[0.004951666707495244,\n 0.004260804939288557,\n 0.006073591261431599,\n 0.004256758201574434,\n 0.0037463570063839013,\n 0.004579091179078815]"
     },
     "execution_count": 6,
     "metadata": {},
     "output_type": "execute_result"
    }
   ],
   "source": [
    "chen_error_3step(torch.tensor(generated4mom), 4)"
   ],
   "metadata": {
    "collapsed": false
   }
  },
  {
   "cell_type": "code",
   "execution_count": 7,
   "outputs": [
    {
     "data": {
      "text/plain": "[0.0203326034907954,\n 0.020349840209122966,\n 0.0192789607661177,\n 0.020413672606116158,\n 0.021174692502185056,\n 0.021143816707986113]"
     },
     "execution_count": 7,
     "metadata": {},
     "output_type": "execute_result"
    }
   ],
   "source": [
    "chen_error_3step(torch.tensor(generated2mom), 4)"
   ],
   "metadata": {
    "collapsed": false
   }
  },
  {
   "cell_type": "code",
   "execution_count": 15,
   "outputs": [
    {
     "name": "stdout",
     "output_type": "stream",
     "text": [
      "[1.579106373915369, 1.7491439135684765, 0.7755069488819607, 0.2970762917417284, 0.6300433356077066, 0.9556161485227307]\n",
      "[0.6855371773011667, 0.8728218431655124, 0.6792613635869718, 0.3424686665771858, 0.3330802511130423, 0.5892138251004625]\n",
      "[0.2926293346559024, 0.5133589592015104, 0.37866906530957267, 0.37807700926750976, 0.7878212085130621, 0.523815929773942]\n",
      "[0.3110732099583151, 0.48072410645335495, 0.2955486886294051, 0.23681649268528532, 0.34615181384164784, 0.42521430440324176]\n",
      "[0.2190133480747593, 0.3329750837341759, 0.28209583884590717, 0.2070628831157042, 0.23950657807758327, 0.34769026101359596]\n",
      "[0.15207078257083714, 0.2388946261375201, 0.2814233856986867, 0.09007977025412223, 0.15056206610920939, 0.15311031202970166]\n",
      "[0.15038071798280922, 0.1036931980012431, 0.11447480709068787, 0.10933745698307124, 0.10156064781149961, 0.19993150846479993]\n",
      "[0.1394637973799588, 0.1289490764362969, 0.10166678926393448, 0.08028604711998757, 0.09670541152742018, 0.10255232305619993]\n",
      "[0.06161632888103196, 0.047550165046663984, 0.07850159937639764, 0.0847699890836533, 0.06893377092121523, 0.0780294785176078]\n",
      "[0.06767272224106674, 0.07240606401957525, 0.04217978676686501, 0.060595859938547186, 0.06366084742542821, 0.04775480281519484]\n",
      "[0.040151298419775674, 0.05271036919115615, 0.03830182412349, 0.03010362895341829, 0.037394530871303684, 0.05223613023649176]\n",
      "[0.03282482755313029, 0.024862705313574398, 0.038167616368386434, 0.027531887221156123, 0.04650993827046239, 0.031257179238507696]\n",
      "[0.029898590489205526, 0.01903763581680161, 0.028852169080250078, 0.017487992995849074, 0.02529742930404833, 0.024620577336499277]\n",
      "[0.011931761620306706, 0.01269139831508679, 0.012601336546321945, 0.01839859492008683, 0.01745713152253841, 0.015184551276354022]\n",
      "[0.010734988024696773, 0.010766468453444063, 0.008721878940078922, 0.013113647265298114, 0.011402963581944578, 0.014959304792512205]\n",
      "[0.012991562773270507, 0.008796122591507595, 0.008394831030736011, 0.00863274325222389, 0.007259101959647793, 0.009731146502567074]\n",
      "[0.0049785482220216755, 0.004896958284334888, 0.004867206736287042, 0.0059223220480966255, 0.005451290504115663, 0.004901534023927908]\n",
      "[0.004371619131315977, 0.004298987927473398, 0.004492919478276879, 0.0046697913910000825, 0.003738038269148018, 0.0042466757101872945]\n"
     ]
    }
   ],
   "source": [
    "for exp in range(3,21):\n",
    "    bsz = 2**exp\n",
    "    print(chen_error_3step(torch.tensor(samples[:bsz]), 4))"
   ],
   "metadata": {
    "collapsed": false
   }
  },
  {
   "cell_type": "markdown",
   "source": [
    "## A utility for calculating the empirical fourth moments of a set of samples"
   ],
   "metadata": {
    "collapsed": false
   }
  },
  {
   "cell_type": "code",
   "execution_count": 8,
   "outputs": [
    {
     "name": "stdout",
     "output_type": "stream",
     "text": [
      "[(0, 0, 0, 0), (0, 0, 0, 1), (0, 0, 0, 2), (0, 0, 1, 1), (0, 0, 1, 2), (0, 0, 2, 2), (0, 1, 1, 1), (0, 1, 1, 2), (0, 1, 2, 2), (0, 2, 2, 2), (1, 1, 1, 1), (1, 1, 1, 2), (1, 1, 2, 2), (1, 2, 2, 2), (2, 2, 2, 2)]\n"
     ]
    }
   ],
   "source": [
    "def four_combos(n: int):\n",
    "    lst = []\n",
    "    for i in range(n):\n",
    "        for j in range(i,n):\n",
    "            for k in range(j,n):\n",
    "                for l in range(k,n):\n",
    "                    lst.append((i,j,k,l))\n",
    "    return lst\n",
    "\n",
    "def fourth_moments(input_samples: np.ndarray):\n",
    "    dim = input_samples.shape[1]\n",
    "    lst = four_combos(dim)\n",
    "    res = []\n",
    "    for i,j,k,l in lst:\n",
    "        col = input_samples[:, i] * input_samples[:, j] * input_samples[:, k] * input_samples[:, l]\n",
    "        res.append(col.mean())\n",
    "    return res\n",
    "\n",
    "\n",
    "w2 = np.concatenate((W,W,W,W), axis=0)\n",
    "print(w2.shape)\n",
    "combo_list = four_combos(3)\n",
    "moms = fourth_moments(generated4mom)\n",
    "moms2 = fourth_moments(a_true)\n",
    "for i in range(len(combo_list)):\n",
    "    print(f\"combo: {combo_list[i]}, 4_match_RV moment: {moms[i] :.7f}, samples moment: {moms2[i] :.7f}\")"
   ],
   "metadata": {
    "collapsed": false
   }
  },
  {
   "cell_type": "code",
   "execution_count": 10,
   "outputs": [
    {
     "name": "stdout",
     "output_type": "stream",
     "text": [
      "(262144, 3)\n"
     ]
    }
   ],
   "source": [
    "w2 = np.concatenate((W,W,W,W), axis=0)\n",
    "print(w2.shape)"
   ],
   "metadata": {
    "collapsed": false
   }
  },
  {
   "cell_type": "code",
   "execution_count": 11,
   "outputs": [
    {
     "name": "stdout",
     "output_type": "stream",
     "text": [
      "combo: (0, 0, 0, 0), 4_match_RV moment: 0.1350575, samples moment: 0.1357276\n",
      "combo: (0, 0, 0, 1), 4_match_RV moment: 0.0336348, samples moment: 0.0357896\n",
      "combo: (0, 0, 0, 2), 4_match_RV moment: 0.0655758, samples moment: 0.0649001\n",
      "combo: (0, 0, 1, 1), 4_match_RV moment: 0.0722153, samples moment: 0.0728633\n",
      "combo: (0, 0, 1, 2), 4_match_RV moment: 0.0007437, samples moment: 0.0013768\n",
      "combo: (0, 0, 2, 2), 4_match_RV moment: 0.0717766, samples moment: 0.0717662\n",
      "combo: (0, 1, 1, 1), 4_match_RV moment: 0.0481259, samples moment: 0.0485544\n",
      "combo: (0, 1, 1, 2), 4_match_RV moment: 0.0280197, samples moment: 0.0279942\n",
      "combo: (0, 1, 2, 2), 4_match_RV moment: 0.0045032, samples moment: 0.0053913\n",
      "combo: (0, 2, 2, 2), 4_match_RV moment: 0.0753795, samples moment: 0.0750950\n",
      "combo: (1, 1, 1, 1), 4_match_RV moment: 0.2946441, samples moment: 0.2966960\n",
      "combo: (1, 1, 1, 2), 4_match_RV moment: -0.0395968, samples moment: -0.0387191\n",
      "combo: (1, 1, 2, 2), 4_match_RV moment: 0.0827522, samples moment: 0.0817711\n",
      "combo: (1, 2, 2, 2), 4_match_RV moment: -0.0326196, samples moment: -0.0313659\n",
      "combo: (2, 2, 2, 2), 4_match_RV moment: 0.1849340, samples moment: 0.1824808\n"
     ]
    }
   ],
   "source": [
    "generated4mom = gen_4mom_approx(3, 4 * bsz, _W=w2)\n",
    "moms = fourth_moments(generated4mom)\n",
    "for i in range(len(combo_list)):\n",
    "    print(f\"combo: {combo_list[i]}, 4_match_RV moment: {moms[i] :.7f}, samples moment: {moms2[i] :.7f}\")"
   ],
   "metadata": {
    "collapsed": false
   }
  }
 ],
 "metadata": {
  "kernelspec": {
   "display_name": "Python 3",
   "language": "python",
   "name": "python3"
  },
  "language_info": {
   "codemirror_mode": {
    "name": "ipython",
    "version": 2
   },
   "file_extension": ".py",
   "mimetype": "text/x-python",
   "name": "python",
   "nbconvert_exporter": "python",
   "pygments_lexer": "ipython2",
   "version": "2.7.6"
  }
 },
 "nbformat": 4,
 "nbformat_minor": 0
}
