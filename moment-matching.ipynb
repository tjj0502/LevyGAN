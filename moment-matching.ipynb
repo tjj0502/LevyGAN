{
 "cells": [
  {
   "cell_type": "code",
   "execution_count": 26,
   "metadata": {
    "collapsed": true
   },
   "outputs": [
    {
     "name": "stdout",
     "output_type": "stream",
     "text": [
      "[1.93908841 0.03832014 1.51146853]\n",
      "[-0.12554142 -0.06621361  0.03543413]\n",
      "[ 0.00099471 -0.00210933  0.00122218]\n",
      "[0.26314663 0.11830186 0.39329631]\n"
     ]
    }
   ],
   "source": [
    "import numpy as np\n",
    "from math import sqrt\n",
    "\n",
    "w_dim = 3\n",
    "a_dim = int(w_dim*(w_dim - 1)//2)\n",
    "W = np.random.randn(w_dim)\n",
    "H = 1/12 * np.random.randn(w_dim)\n",
    "K = 1/720 * np.random.randn(w_dim)\n",
    "C = np.random.exponential(8/15, size=(w_dim,))\n",
    "\n",
    "print(W)\n",
    "print(H)\n",
    "print(K)\n",
    "print(C)"
   ]
  },
  {
   "cell_type": "code",
   "execution_count": 27,
   "outputs": [
    {
     "name": "stdout",
     "output_type": "stream",
     "text": [
      "[(0, 1), (0, 2), (0, 3), (0, 4), (1, 2), (1, 3), (1, 4), (2, 3), (2, 4), (3, 4), None, None, None]\n"
     ]
    }
   ],
   "source": [
    "def a_idx(i: int, j: int, _w_dim):\n",
    "    if i == j:\n",
    "        return None\n",
    "    idx = 0\n",
    "    for k in range(_w_dim):\n",
    "        for l in range(k+1, _w_dim):\n",
    "            if (i == k and j == l) or (j == k and i == l):\n",
    "                return idx\n",
    "            else:\n",
    "                idx += 1\n",
    "\n",
    "def w_indices(a_i: int, _w_dim):\n",
    "    if a_i >= int(_w_dim*(_w_dim - 1)//2) or a_i < 0:\n",
    "        return None\n",
    "    idx = 0\n",
    "    for k in range(_w_dim):\n",
    "        for l in range(k+1, _w_dim):\n",
    "            if idx == a_i:\n",
    "                return k, l\n",
    "            else:\n",
    "                idx += 1\n",
    "\n",
    "def list_pairs(_w_dim: int):\n",
    "    lst = []\n",
    "    for k in range(_w_dim):\n",
    "        for l in range(k+1, _w_dim):\n",
    "            lst.append((k,l))\n",
    "    return lst\n",
    "pair_lists = [list_pairs(wd) for wd in range(30)]\n",
    "\n",
    "\n",
    "def fast_w_indices(a_i: int, _w_dim: int):\n",
    "    if a_i >= int(_w_dim*(_w_dim - 1)//2) or a_i < 0 or _w_dim < 2:\n",
    "        return None\n",
    "    if _w_dim < len(pair_lists):\n",
    "        return pair_lists[_w_dim][a_i]\n",
    "    else:\n",
    "        return w_indices(a_i, _w_dim)\n",
    "\n",
    "print([fast_w_indices(i, 5) for i in range(13)])"
   ],
   "metadata": {
    "collapsed": false
   }
  },
  {
   "cell_type": "code",
   "execution_count": 28,
   "outputs": [],
   "source": [
    "# Generate ksi\n",
    "p = 21130/25621\n",
    "c = sqrt(1/3) - 8/15\n",
    "\n",
    "ber = np.random.binomial(1, p = p, size=(a_dim,))\n",
    "uni = np.random.uniform(-sqrt(3), sqrt(3), size=(a_dim,))\n",
    "rademacher = np.ones(a_dim) - 2* np.random.binomial(1, 0.5, size= (a_dim,))\n",
    "ksi = ber*uni + (1-ber)*rademacher\n"
   ],
   "metadata": {
    "collapsed": false
   }
  },
  {
   "cell_type": "code",
   "execution_count": 29,
   "outputs": [
    {
     "name": "stdout",
     "output_type": "stream",
     "text": [
      "[0.07327990241783074, 0.12002048438583897, 0.08738426389767474]\n"
     ]
    }
   ],
   "source": [
    "def sigma(i: int, j: int):\n",
    "    return sqrt(3/28*(C[i] + c)*(C[j] + c) + 1/28*((12*K[i])**2 + (12*K[j])**2))\n",
    "\n",
    "sig = []\n",
    "for k in range(w_dim):\n",
    "    for l in range(k+1, w_dim):\n",
    "        sig.append(sigma(k,l))\n",
    "\n",
    "print(sig)"
   ],
   "metadata": {
    "collapsed": false
   }
  },
  {
   "cell_type": "code",
   "execution_count": 30,
   "outputs": [
    {
     "name": "stdout",
     "output_type": "stream",
     "text": [
      "[ 0.0549302  -0.12002048 -0.10986279]\n"
     ]
    }
   ],
   "source": [
    "res = np.array(sig) * ksi\n",
    "print(res)"
   ],
   "metadata": {
    "collapsed": false
   }
  },
  {
   "cell_type": "code",
   "execution_count": 31,
   "outputs": [
    {
     "name": "stdout",
     "output_type": "stream",
     "text": [
      "[ 0.74959432 -1.         -1.25723765]\n"
     ]
    }
   ],
   "source": [
    "print(ksi)"
   ],
   "metadata": {
    "collapsed": false
   }
  },
  {
   "cell_type": "code",
   "execution_count": 41,
   "outputs": [
    {
     "name": "stdout",
     "output_type": "stream",
     "text": [
      "[[-1.10530845  1.4897569   0.31536049]\n",
      " [-0.40357178  0.37900206 -1.47201362]\n",
      " [-0.03689588 -0.19652217 -0.61886711]\n",
      " [-1.         -1.41862029  0.23846889]\n",
      " [-1.36851659  1.41591402  1.1431877 ]]\n",
      "shape: 5, k: 0, l: 1, sig: [0.0283069  0.46541773 0.13462885 0.06288323 0.11041406]\n",
      "shape: 5, k: 0, l: 2, sig: [0.11408845 0.17922834 0.12450243 0.27475238 0.09972826]\n",
      "shape: 5, k: 1, l: 2, sig: [0.09784813 0.21429375 0.13404342 0.14695043 0.08380169]\n",
      "[[-0.16987286  0.16646962  0.26070803]\n",
      " [-0.21429492  0.05468135 -0.36318466]\n",
      " [-0.10393036 -0.02059426 -0.07821499]\n",
      " [-0.06012626 -0.43156355 -0.0047571 ]\n",
      " [-0.15444398  0.07362423  0.15012622]]\n"
     ]
    }
   ],
   "source": [
    "def gen_4mom_approx(_w_dim: int, _batch_size: int, _W: np.ndarray = None, _K: np.ndarray = None, _H: np.ndarray = None):\n",
    "    _a_dim = int(_w_dim*(_w_dim - 1)//2)\n",
    "\n",
    "    lst = []\n",
    "    for k in range(_w_dim):\n",
    "        for l in range(k+1, _w_dim):\n",
    "            lst.append((k,l))\n",
    "\n",
    "    if _W == None:\n",
    "        __W = np.random.randn(_batch_size, _w_dim)\n",
    "    else:\n",
    "        __W = _W\n",
    "\n",
    "    if _H == None:\n",
    "        __H = 1/12 * np.random.randn(_batch_size, _w_dim)\n",
    "    else:\n",
    "        __H = _H\n",
    "\n",
    "    if _K == None:\n",
    "        __K = 1/720 * np.random.randn(_batch_size, _w_dim)\n",
    "    else:\n",
    "        __K = _K\n",
    "\n",
    "    squared_K = np.square(__K)\n",
    "    C = np.random.exponential(8/15, size=(_batch_size, _w_dim))\n",
    "\n",
    "    p = 21130/25621\n",
    "    c = sqrt(1/3) - 8/15\n",
    "\n",
    "    ber = np.random.binomial(1, p = p, size=(_batch_size, a_dim))\n",
    "    uni = np.random.uniform(-sqrt(3), sqrt(3), size=(_batch_size, a_dim))\n",
    "    rademacher = np.ones(a_dim) - 2* np.random.binomial(1, 0.5, size= (_batch_size, a_dim))\n",
    "    ksi = ber*uni + (1-ber)*rademacher\n",
    "    print(ksi)\n",
    "    def sigma(i: int, j: int):\n",
    "        return np.sqrt(3/28*(C[:,i] + c)*(C[:,j] + c) + 144/28*(squared_K[:,i] + squared_K[:,j]))\n",
    "\n",
    "    idx = 0\n",
    "    for k in range(_w_dim):\n",
    "        for l in range(k+1, _w_dim):\n",
    "            sig = sigma(k, l)\n",
    "            print(f\"shape: {sig.size}, k: {k}, l: {l}, sig: {sig}\")\n",
    "\n",
    "            # now calculate a from ksi and sigma (but store a in ksi)\n",
    "            ksi[:, idx] *= sig\n",
    "\n",
    "            # calculate the whole thing\n",
    "            ksi[:, idx] += __H[:,k]*__W[:,l] - __W[:,k]*__H[:,l] + 12*(__K[:,k]*__H[:,l] - __H[:,k]*__K[:,l])\n",
    "            idx += 1\n",
    "\n",
    "    return ksi\n",
    "\n",
    "print(gen_4mom_approx(3, 5))"
   ],
   "metadata": {
    "collapsed": false
   }
  },
  {
   "cell_type": "code",
   "execution_count": null,
   "outputs": [],
   "source": [],
   "metadata": {
    "collapsed": false,
    "pycharm": {
     "is_executing": true
    }
   }
  },
  {
   "cell_type": "code",
   "execution_count": 37,
   "outputs": [],
   "source": [],
   "metadata": {
    "collapsed": false
   }
  }
 ],
 "metadata": {
  "kernelspec": {
   "display_name": "Python 3",
   "language": "python",
   "name": "python3"
  },
  "language_info": {
   "codemirror_mode": {
    "name": "ipython",
    "version": 2
   },
   "file_extension": ".py",
   "mimetype": "text/x-python",
   "name": "python",
   "nbconvert_exporter": "python",
   "pygments_lexer": "ipython2",
   "version": "2.7.6"
  }
 },
 "nbformat": 4,
 "nbformat_minor": 0
}
