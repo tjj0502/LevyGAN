{
 "cells": [
  {
   "cell_type": "code",
   "execution_count": 1,
   "metadata": {
    "collapsed": true
   },
   "outputs": [],
   "source": [
    "import numpy as np\n",
    "from math import sqrt\n",
    "import ot\n",
    "import torch\n",
    "from aux_functions import a_idx, w_indices, list_pairs, fast_w_indices, gen_4mom_approx, joint_wass_dist, \\\n",
    "    chen_error_3step, gen_2mom_approx, make_pretty"
   ]
  },
  {
   "cell_type": "markdown",
   "source": [
    "## Demonstration of the random variable which matches the first 4 moments of Levy Area\n",
    "\n",
    "There is also a simple version which just matches the variances conditional on the W increment"
   ],
   "metadata": {
    "collapsed": false
   }
  },
  {
   "cell_type": "code",
   "execution_count": 2,
   "outputs": [
    {
     "name": "stdout",
     "output_type": "stream",
     "text": [
      "(32768, 6)\n"
     ]
    }
   ],
   "source": [
    "a_true = np.genfromtxt('samples/samples_4-dim.csv', dtype=float, delimiter=',')[:(2*16384),4:10]\n",
    "\n",
    "# generated4mom = gen_4mom_approx(4, bsz, _W=W)\n",
    "# generated2mom = gen_2mom_approx(4, bsz, _W = W)\n",
    "# print(generated2mom.shape)\n",
    "print(a_true.shape)\n",
    "# a_generated4mom = generated4mom[:, 4:10]\n",
    "# a_generated2mom = generated2mom[:, 4:10]"
   ],
   "metadata": {
    "collapsed": false
   }
  },
  {
   "cell_type": "code",
   "execution_count": 4,
   "outputs": [
    {
     "name": "stdout",
     "output_type": "stream",
     "text": [
      "[0.0031215251014375177, 0.0031286148594010174, 0.002799245139591539, 0.0023474843729451474]\n"
     ]
    }
   ],
   "source": [
    "err = [sqrt(ot.wasserstein_1d(a_true[:,i], a_generated4mom[:, i], p=2)) for i in range(4)]\n",
    "print(err)"
   ],
   "metadata": {
    "collapsed": false
   }
  },
  {
   "cell_type": "code",
   "execution_count": 5,
   "outputs": [
    {
     "name": "stdout",
     "output_type": "stream",
     "text": [
      "[0.020255162715319474, 0.020892199738661764, 0.019990485264570586, 0.020879712144683007]\n"
     ]
    }
   ],
   "source": [
    "err = [sqrt(ot.wasserstein_1d(a_true[:,i], a_generated2mom[:, i], p=2)) for i in range(4)]\n",
    "print(err)"
   ],
   "metadata": {
    "collapsed": false
   }
  },
  {
   "cell_type": "code",
   "execution_count": null,
   "outputs": [],
   "source": [
    "joint_err = joint_wass_dist(a_true[:16384], a_true[16384:(2*16384)])\n",
    "print(joint_err)"
   ],
   "metadata": {
    "collapsed": false,
    "pycharm": {
     "is_executing": true
    }
   }
  },
  {
   "cell_type": "code",
   "execution_count": null,
   "outputs": [],
   "source": [
    "joint_err = joint_wass_dist(a_true[:10000], a_generated2mom[:10000])\n",
    "print(joint_err)"
   ],
   "metadata": {
    "collapsed": false
   }
  },
  {
   "cell_type": "code",
   "execution_count": 6,
   "outputs": [
    {
     "name": "stderr",
     "output_type": "stream",
     "text": [
      "/home/andy/anaconda3/envs/GAN/lib/python3.10/site-packages/ot/lp/solver_1d.py:41: UserWarning: The use of `x.T` on tensors of dimension other than 2 to reverse their shape is deprecated and it will throw an error in a future release. Consider `x.mT` to transpose batches of matricesor `x.permute(*torch.arange(x.ndim - 1, -1, -1))` to reverse the dimensions of a tensor. (Triggered internally at  /opt/conda/conda-bld/pytorch_1659484746364/work/aten/src/ATen/native/TensorShape.cpp:2981.)\n",
      "  cws = cws.T.contiguous()\n"
     ]
    },
    {
     "data": {
      "text/plain": "[0.004951666707495244,\n 0.004260804939288557,\n 0.006073591261431599,\n 0.004256758201574434,\n 0.0037463570063839013,\n 0.004579091179078815]"
     },
     "execution_count": 6,
     "metadata": {},
     "output_type": "execute_result"
    }
   ],
   "source": [
    "chen_error_3step(torch.tensor(generated4mom), 4)"
   ],
   "metadata": {
    "collapsed": false
   }
  },
  {
   "cell_type": "code",
   "execution_count": 7,
   "outputs": [
    {
     "data": {
      "text/plain": "[0.0203326034907954,\n 0.020349840209122966,\n 0.0192789607661177,\n 0.020413672606116158,\n 0.021174692502185056,\n 0.021143816707986113]"
     },
     "execution_count": 7,
     "metadata": {},
     "output_type": "execute_result"
    }
   ],
   "source": [
    "chen_error_3step(torch.tensor(generated2mom), 4)"
   ],
   "metadata": {
    "collapsed": false
   }
  },
  {
   "cell_type": "code",
   "execution_count": 4,
   "outputs": [
    {
     "name": "stdout",
     "output_type": "stream",
     "text": [
      "bsz: 8  ch errors: ['1.5791', '1.7491', '0.7755', '0.2971', '0.6300', '0.9556']\n",
      "bsz: 16  ch errors: ['0.6855', '0.8728', '0.6793', '0.3425', '0.3331', '0.5892']\n",
      "bsz: 32  ch errors: ['0.2926', '0.5134', '0.3787', '0.3781', '0.7878', '0.5238']\n",
      "bsz: 64  ch errors: ['0.3111', '0.4807', '0.2955', '0.2368', '0.3462', '0.4252']\n",
      "bsz: 128  ch errors: ['0.2190', '0.3330', '0.2821', '0.2071', '0.2395', '0.3477']\n",
      "bsz: 256  ch errors: ['0.1521', '0.2389', '0.2814', '0.0901', '0.1506', '0.1531']\n",
      "bsz: 512  ch errors: ['0.1504', '0.1037', '0.1145', '0.1093', '0.1016', '0.1999']\n",
      "bsz: 1024  ch errors: ['0.1395', '0.1289', '0.1017', '0.0803', '0.0967', '0.1026']\n",
      "bsz: 2048  ch errors: ['0.0616', '0.0476', '0.0785', '0.0848', '0.0689', '0.0780']\n",
      "bsz: 4096  ch errors: ['0.0677', '0.0724', '0.0422', '0.0606', '0.0637', '0.0478']\n",
      "bsz: 8192  ch errors: ['0.0402', '0.0527', '0.0383', '0.0301', '0.0374', '0.0522']\n",
      "bsz: 16384  ch errors: ['0.0328', '0.0249', '0.0382', '0.0275', '0.0465', '0.0313']\n",
      "bsz: 32768  ch errors: ['0.0299', '0.0190', '0.0289', '0.0175', '0.0253', '0.0246']\n",
      "bsz: 65536  ch errors: ['0.0119', '0.0127', '0.0126', '0.0184', '0.0175', '0.0152']\n",
      "bsz: 131072  ch errors: ['0.0107', '0.0108', '0.0087', '0.0131', '0.0114', '0.0150']\n",
      "bsz: 262144  ch errors: ['0.0130', '0.0088', '0.0084', '0.0086', '0.0073', '0.0097']\n",
      "bsz: 524288  ch errors: ['0.0050', '0.0049', '0.0049', '0.0059', '0.0055', '0.0049']\n",
      "bsz: 1048576  ch errors: ['0.0044', '0.0043', '0.0045', '0.0047', '0.0037', '0.0042']\n"
     ]
    }
   ],
   "source": [
    "for exp in range(3,21):\n",
    "    bsz = 2**exp\n",
    "    print(f\"bsz: {bsz}  ch errors: {make_pretty(chen_error_3step(torch.tensor(samples[:bsz]), 4))}\")"
   ],
   "metadata": {
    "collapsed": false
   }
  },
  {
   "cell_type": "code",
   "execution_count": null,
   "outputs": [],
   "source": [
    "for exp in range(3,21):\n",
    "    bsz = 2**exp\n",
    "    print(f\"bsz: {bsz}  ch errors: {make_pretty(chen_error_3step(torch.tensor(samples[:bsz]), 4))}\")"
   ],
   "metadata": {
    "collapsed": false
   }
  },
  {
   "cell_type": "markdown",
   "source": [
    "## A utility for calculating the empirical fourth moments of a set of samples"
   ],
   "metadata": {
    "collapsed": false
   }
  },
  {
   "cell_type": "code",
   "execution_count": 8,
   "outputs": [
    {
     "name": "stdout",
     "output_type": "stream",
     "text": [
      "[(0, 0, 0, 0), (0, 0, 0, 1), (0, 0, 0, 2), (0, 0, 1, 1), (0, 0, 1, 2), (0, 0, 2, 2), (0, 1, 1, 1), (0, 1, 1, 2), (0, 1, 2, 2), (0, 2, 2, 2), (1, 1, 1, 1), (1, 1, 1, 2), (1, 1, 2, 2), (1, 2, 2, 2), (2, 2, 2, 2)]\n"
     ]
    }
   ],
   "source": [
    "def four_combos(n: int):\n",
    "    lst = []\n",
    "    for i in range(n):\n",
    "        for j in range(i,n):\n",
    "            for k in range(j,n):\n",
    "                for l in range(k,n):\n",
    "                    lst.append((i,j,k,l))\n",
    "    return lst\n",
    "\n",
    "def fourth_moments(input_samples: np.ndarray):\n",
    "    dim = input_samples.shape[1]\n",
    "    lst = four_combos(dim)\n",
    "    res = []\n",
    "    for i,j,k,l in lst:\n",
    "        col = input_samples[:, i] * input_samples[:, j] * input_samples[:, k] * input_samples[:, l]\n",
    "        res.append(col.mean())\n",
    "    return res\n",
    "\n",
    "\n",
    "w2 = np.concatenate((W,W,W,W), axis=0)\n",
    "print(w2.shape)\n",
    "combo_list = four_combos(3)\n",
    "moms = fourth_moments(generated4mom)\n",
    "moms2 = fourth_moments(a_true)\n",
    "for i in range(len(combo_list)):\n",
    "    print(f\"combo: {combo_list[i]}, 4_match_RV moment: {moms[i] :.7f}, samples moment: {moms2[i] :.7f}\")"
   ],
   "metadata": {
    "collapsed": false
   }
  },
  {
   "cell_type": "code",
   "execution_count": 10,
   "outputs": [
    {
     "name": "stdout",
     "output_type": "stream",
     "text": [
      "(262144, 3)\n"
     ]
    }
   ],
   "source": [
    "w2 = np.concatenate((W,W,W,W), axis=0)\n",
    "print(w2.shape)"
   ],
   "metadata": {
    "collapsed": false
   }
  },
  {
   "cell_type": "code",
   "execution_count": 11,
   "outputs": [
    {
     "name": "stdout",
     "output_type": "stream",
     "text": [
      "combo: (0, 0, 0, 0), 4_match_RV moment: 0.1350575, samples moment: 0.1357276\n",
      "combo: (0, 0, 0, 1), 4_match_RV moment: 0.0336348, samples moment: 0.0357896\n",
      "combo: (0, 0, 0, 2), 4_match_RV moment: 0.0655758, samples moment: 0.0649001\n",
      "combo: (0, 0, 1, 1), 4_match_RV moment: 0.0722153, samples moment: 0.0728633\n",
      "combo: (0, 0, 1, 2), 4_match_RV moment: 0.0007437, samples moment: 0.0013768\n",
      "combo: (0, 0, 2, 2), 4_match_RV moment: 0.0717766, samples moment: 0.0717662\n",
      "combo: (0, 1, 1, 1), 4_match_RV moment: 0.0481259, samples moment: 0.0485544\n",
      "combo: (0, 1, 1, 2), 4_match_RV moment: 0.0280197, samples moment: 0.0279942\n",
      "combo: (0, 1, 2, 2), 4_match_RV moment: 0.0045032, samples moment: 0.0053913\n",
      "combo: (0, 2, 2, 2), 4_match_RV moment: 0.0753795, samples moment: 0.0750950\n",
      "combo: (1, 1, 1, 1), 4_match_RV moment: 0.2946441, samples moment: 0.2966960\n",
      "combo: (1, 1, 1, 2), 4_match_RV moment: -0.0395968, samples moment: -0.0387191\n",
      "combo: (1, 1, 2, 2), 4_match_RV moment: 0.0827522, samples moment: 0.0817711\n",
      "combo: (1, 2, 2, 2), 4_match_RV moment: -0.0326196, samples moment: -0.0313659\n",
      "combo: (2, 2, 2, 2), 4_match_RV moment: 0.1849340, samples moment: 0.1824808\n"
     ]
    }
   ],
   "source": [
    "generated4mom = gen_4mom_approx(3, 4 * bsz, _W=w2)\n",
    "moms = fourth_moments(generated4mom)\n",
    "for i in range(len(combo_list)):\n",
    "    print(f\"combo: {combo_list[i]}, 4_match_RV moment: {moms[i] :.7f}, samples moment: {moms2[i] :.7f}\")"
   ],
   "metadata": {
    "collapsed": false
   }
  }
 ],
 "metadata": {
  "kernelspec": {
   "display_name": "Python 3",
   "language": "python",
   "name": "python3"
  },
  "language_info": {
   "codemirror_mode": {
    "name": "ipython",
    "version": 2
   },
   "file_extension": ".py",
   "mimetype": "text/x-python",
   "name": "python",
   "nbconvert_exporter": "python",
   "pygments_lexer": "ipython2",
   "version": "2.7.6"
  }
 },
 "nbformat": 4,
 "nbformat_minor": 0
}
