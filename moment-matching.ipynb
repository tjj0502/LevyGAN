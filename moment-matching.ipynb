{
 "cells": [
  {
   "cell_type": "code",
   "execution_count": 53,
   "metadata": {
    "collapsed": true
   },
   "outputs": [],
   "source": [
    "import numpy as np\n",
    "from math import sqrt\n",
    "import ot"
   ]
  },
  {
   "cell_type": "code",
   "execution_count": 49,
   "outputs": [
    {
     "name": "stdout",
     "output_type": "stream",
     "text": [
      "[[ 0.21319312  0.10747754 -0.21131219]\n",
      " [ 0.18869785 -0.0516751  -0.07077597]\n",
      " [-0.07774102 -0.21811654 -0.37720795]\n",
      " [-0.00880003 -0.06745311  0.17446786]\n",
      " [ 0.03712373  0.01866568 -0.19683424]]\n"
     ]
    }
   ],
   "source": [
    "def gen_4mom_approx(_w_dim: int, _batch_size: int, _W: np.ndarray = None, _K: np.ndarray = None, _H: np.ndarray = None):\n",
    "\n",
    "    _a_dim = int(_w_dim*(_w_dim - 1)//2)\n",
    "\n",
    "    lst = []\n",
    "    for k in range(_w_dim):\n",
    "        for l in range(k+1, _w_dim):\n",
    "            lst.append((k,l))\n",
    "\n",
    "    if _W is None:\n",
    "        __W = np.random.randn(_batch_size, _w_dim)\n",
    "    else:\n",
    "        __W = _W\n",
    "\n",
    "    if _H is None:\n",
    "        __H = 1/12 * np.random.randn(_batch_size, _w_dim)\n",
    "    else:\n",
    "        __H = _H\n",
    "\n",
    "    if _K is None:\n",
    "        __K = 1/720 * np.random.randn(_batch_size, _w_dim)\n",
    "    else:\n",
    "        __K = _K\n",
    "\n",
    "    squared_K = np.square(__K)\n",
    "    C = np.random.exponential(8/15, size=(_batch_size, _w_dim))\n",
    "\n",
    "    p = 21130/25621\n",
    "    c = sqrt(1/3) - 8/15\n",
    "\n",
    "    ber = np.random.binomial(1, p = p, size=(_batch_size, _a_dim))\n",
    "    uni = np.random.uniform(-sqrt(3), sqrt(3), size=(_batch_size, _a_dim))\n",
    "    rademacher = np.ones(_a_dim) - 2* np.random.binomial(1, 0.5, size= (_batch_size, _a_dim))\n",
    "    ksi = ber*uni + (1-ber)*rademacher\n",
    "    #print(ksi)\n",
    "    def sigma(i: int, j: int):\n",
    "        return np.sqrt(3/28*(C[:,i] + c)*(C[:,j] + c) + 144/28*(squared_K[:,i] + squared_K[:,j]))\n",
    "\n",
    "    idx = 0\n",
    "    for k in range(_w_dim):\n",
    "        for l in range(k+1, _w_dim):\n",
    "            sig = sigma(k, l)\n",
    "            #print(f\"shape: {sig.shape}, k: {k}, l: {l}, sig: {sig}\")\n",
    "\n",
    "            # now calculate a from ksi and sigma (but store a in ksi)\n",
    "            ksi[:, idx] *= sig\n",
    "\n",
    "            # calculate the whole thing\n",
    "            ksi[:, idx] += __H[:,k]*__W[:,l] - __W[:,k]*__H[:,l] + 12*(__K[:,k]*__H[:,l] - __H[:,k]*__K[:,l])\n",
    "            idx += 1\n",
    "\n",
    "    return ksi\n",
    "\n",
    "print(gen_4mom_approx(3, 5))"
   ],
   "metadata": {
    "collapsed": false
   }
  },
  {
   "cell_type": "code",
   "execution_count": 50,
   "outputs": [
    {
     "name": "stderr",
     "output_type": "stream",
     "text": [
      "/tmp/ipykernel_11558/40691991.py:1: DeprecationWarning: `np.float` is a deprecated alias for the builtin `float`. To silence this warning, use `float` by itself. Doing this will not modify any behavior and is safe. If you specifically wanted the numpy scalar type, use `np.float64` here.\n",
      "Deprecated in NumPy 1.20; for more details and guidance: https://numpy.org/devdocs/release/1.20.0-notes.html#deprecations\n",
      "  samples = np.genfromtxt('samples/fixed_samples_3-dim.csv', dtype=np.float, delimiter=',')\n"
     ]
    },
    {
     "name": "stdout",
     "output_type": "stream",
     "text": [
      "(65536, 6)\n"
     ]
    }
   ],
   "source": [
    "samples = np.genfromtxt('samples/fixed_samples_3-dim.csv', dtype=np.float, delimiter=',')\n",
    "W = samples[:,:3]\n",
    "a_true = samples[:,3:6]\n",
    "print(samples.shape)\n",
    "bsz = samples.shape[0]\n",
    "generated = gen_4mom_approx(3,bsz,_W=W)\n"
   ],
   "metadata": {
    "collapsed": false
   }
  },
  {
   "cell_type": "code",
   "execution_count": 51,
   "outputs": [
    {
     "name": "stdout",
     "output_type": "stream",
     "text": [
      "(65536, 3)\n"
     ]
    }
   ],
   "source": [
    "print(generated.shape)"
   ],
   "metadata": {
    "collapsed": false
   }
  },
  {
   "cell_type": "code",
   "execution_count": 54,
   "outputs": [
    {
     "name": "stdout",
     "output_type": "stream",
     "text": [
      "[0.22306273091689732, 0.30748067361934256, 0.2555661935985148]\n"
     ]
    }
   ],
   "source": [
    "err = [sqrt(ot.wasserstein_1d(a_true[:,i],generated[:,i],p=2)) for i in range(3)]\n",
    "print(err)"
   ],
   "metadata": {
    "collapsed": false
   }
  }
 ],
 "metadata": {
  "kernelspec": {
   "display_name": "Python 3",
   "language": "python",
   "name": "python3"
  },
  "language_info": {
   "codemirror_mode": {
    "name": "ipython",
    "version": 2
   },
   "file_extension": ".py",
   "mimetype": "text/x-python",
   "name": "python",
   "nbconvert_exporter": "python",
   "pygments_lexer": "ipython2",
   "version": "2.7.6"
  }
 },
 "nbformat": 4,
 "nbformat_minor": 0
}
