{
 "cells": [
  {
   "cell_type": "code",
   "execution_count": 3,
   "metadata": {
    "collapsed": true
   },
   "outputs": [],
   "source": [
    "import numpy as np\n",
    "from math import sqrt\n",
    "import ot"
   ]
  },
  {
   "cell_type": "code",
   "execution_count": 3,
   "outputs": [],
   "source": [],
   "metadata": {
    "collapsed": false
   }
  },
  {
   "cell_type": "code",
   "execution_count": 4,
   "outputs": [
    {
     "name": "stdout",
     "output_type": "stream",
     "text": [
      "[[ 0.08026749 -0.18760197 -0.83153504]\n",
      " [-0.19349161  0.97246473  0.71429675]\n",
      " [ 0.1669679  -0.06310642  0.2563318 ]\n",
      " [ 0.0818803   0.08882198  0.07325867]\n",
      " [-0.15384353  0.30631268 -1.14700493]]\n"
     ]
    }
   ],
   "source": [
    "def gen_4mom_approx(_w_dim: int, _batch_size: int, _W: np.ndarray = None, _K: np.ndarray = None, _H: np.ndarray = None):\n",
    "\n",
    "    _a_dim = int(_w_dim*(_w_dim - 1)//2)\n",
    "\n",
    "    lst = []\n",
    "    for k in range(_w_dim):\n",
    "        for l in range(k+1, _w_dim):\n",
    "            lst.append((k,l))\n",
    "\n",
    "    if _W is None:\n",
    "        __W = np.random.randn(_batch_size, _w_dim)\n",
    "    else:\n",
    "        __W = _W\n",
    "\n",
    "    if _H is None:\n",
    "        __H = sqrt(1/12) * np.random.randn(_batch_size, _w_dim)\n",
    "    else:\n",
    "        __H = _H\n",
    "\n",
    "    if _K is None:\n",
    "        __K = sqrt(1/720) * np.random.randn(_batch_size, _w_dim)\n",
    "    else:\n",
    "        __K = _K\n",
    "\n",
    "    squared_K = np.square(__K)\n",
    "    C = np.random.exponential(8/15, size=(_batch_size, _w_dim))\n",
    "\n",
    "    p = 21130/25621\n",
    "    c = sqrt(1/3) - 8/15\n",
    "\n",
    "    ber = np.random.binomial(1, p = p, size=(_batch_size, _a_dim))\n",
    "    uni = np.random.uniform(-sqrt(3), sqrt(3), size=(_batch_size, _a_dim))\n",
    "    rademacher = np.ones(_a_dim) - 2* np.random.binomial(1, 0.5, size= (_batch_size, _a_dim))\n",
    "    ksi = ber*uni + (1-ber)*rademacher\n",
    "    #print(ksi)\n",
    "    def sigma(i: int, j: int):\n",
    "        return np.sqrt(3/28*(C[:,i] + c)*(C[:,j] + c) + 144/28*(squared_K[:,i] + squared_K[:,j]))\n",
    "\n",
    "    idx = 0\n",
    "    for k in range(_w_dim):\n",
    "        for l in range(k+1, _w_dim):\n",
    "            sig = sigma(k, l)\n",
    "            #print(f\"shape: {sig.shape}, k: {k}, l: {l}, sig: {sig}\")\n",
    "\n",
    "            # now calculate a from ksi and sigma (but store a in ksi)\n",
    "            ksi[:, idx] *= sig\n",
    "\n",
    "            # calculate the whole thing\n",
    "            ksi[:, idx] += __H[:,k]*__W[:,l] - __W[:,k]*__H[:,l] + 12*(__K[:,k]*__H[:,l] - __H[:,k]*__K[:,l])\n",
    "            idx += 1\n",
    "\n",
    "    return ksi\n",
    "\n",
    "print(gen_4mom_approx(3, 5))"
   ],
   "metadata": {
    "collapsed": false
   }
  },
  {
   "cell_type": "code",
   "execution_count": 5,
   "outputs": [
    {
     "name": "stderr",
     "output_type": "stream",
     "text": [
      "/tmp/ipykernel_19802/1455709601.py:1: DeprecationWarning: `np.float` is a deprecated alias for the builtin `float`. To silence this warning, use `float` by itself. Doing this will not modify any behavior and is safe. If you specifically wanted the numpy scalar type, use `np.float64` here.\n",
      "Deprecated in NumPy 1.20; for more details and guidance: https://numpy.org/devdocs/release/1.20.0-notes.html#deprecations\n",
      "  samples = np.genfromtxt('samples/fixed_samples_3-dim.csv', dtype=np.float, delimiter=',')\n"
     ]
    },
    {
     "name": "stdout",
     "output_type": "stream",
     "text": [
      "(65536, 6)\n"
     ]
    }
   ],
   "source": [
    "samples = np.genfromtxt('samples/fixed_samples_3-dim.csv', dtype=np.float, delimiter=',')\n",
    "W = samples[:,:3]\n",
    "a_true = samples[:,3:6]\n",
    "print(samples.shape)\n",
    "bsz = samples.shape[0]\n",
    "generated = gen_4mom_approx(3,bsz,_W=W)\n"
   ],
   "metadata": {
    "collapsed": false
   }
  },
  {
   "cell_type": "code",
   "execution_count": 6,
   "outputs": [
    {
     "name": "stdout",
     "output_type": "stream",
     "text": [
      "(65536, 3)\n"
     ]
    }
   ],
   "source": [
    "print(generated.shape)"
   ],
   "metadata": {
    "collapsed": false
   }
  },
  {
   "cell_type": "code",
   "execution_count": 7,
   "outputs": [
    {
     "name": "stdout",
     "output_type": "stream",
     "text": [
      "[0.005665698090499184, 0.005825378048434068, 0.005386683451518001]\n"
     ]
    }
   ],
   "source": [
    "err = [sqrt(ot.wasserstein_1d(a_true[:,i],generated[:,i],p=2)) for i in range(3)]\n",
    "print(err)"
   ],
   "metadata": {
    "collapsed": false
   }
  },
  {
   "cell_type": "code",
   "execution_count": 8,
   "outputs": [
    {
     "name": "stdout",
     "output_type": "stream",
     "text": [
      "[(0, 0, 0, 0), (0, 0, 0, 1), (0, 0, 0, 2), (0, 0, 1, 1), (0, 0, 1, 2), (0, 0, 2, 2), (0, 1, 1, 1), (0, 1, 1, 2), (0, 1, 2, 2), (0, 2, 2, 2), (1, 1, 1, 1), (1, 1, 1, 2), (1, 1, 2, 2), (1, 2, 2, 2), (2, 2, 2, 2)]\n"
     ]
    }
   ],
   "source": [
    "def four_combos(n: int):\n",
    "    lst = []\n",
    "    for i in range(n):\n",
    "        for j in range(i,n):\n",
    "            for k in range(j,n):\n",
    "                for l in range(k,n):\n",
    "                    lst.append((i,j,k,l))\n",
    "    return lst\n",
    "\n",
    "print(four_combos(3))"
   ],
   "metadata": {
    "collapsed": false
   }
  },
  {
   "cell_type": "code",
   "execution_count": 12,
   "outputs": [
    {
     "name": "stdout",
     "output_type": "stream",
     "text": [
      "combo: (0, 0, 0, 0), 4_match_RV moment: 0.1322672, samples moment: 0.1357276\n",
      "combo: (0, 0, 0, 1), 4_match_RV moment: 0.0327312, samples moment: 0.0357896\n",
      "combo: (0, 0, 0, 2), 4_match_RV moment: 0.0665591, samples moment: 0.0649001\n",
      "combo: (0, 0, 1, 1), 4_match_RV moment: 0.0712622, samples moment: 0.0728633\n",
      "combo: (0, 0, 1, 2), 4_match_RV moment: 0.0007492, samples moment: 0.0013768\n",
      "combo: (0, 0, 2, 2), 4_match_RV moment: 0.0733880, samples moment: 0.0717662\n",
      "combo: (0, 1, 1, 1), 4_match_RV moment: 0.0485160, samples moment: 0.0485544\n",
      "combo: (0, 1, 1, 2), 4_match_RV moment: 0.0281755, samples moment: 0.0279942\n",
      "combo: (0, 1, 2, 2), 4_match_RV moment: 0.0036255, samples moment: 0.0053913\n",
      "combo: (0, 2, 2, 2), 4_match_RV moment: 0.0786498, samples moment: 0.0750950\n",
      "combo: (1, 1, 1, 1), 4_match_RV moment: 0.2963159, samples moment: 0.2966960\n",
      "combo: (1, 1, 1, 2), 4_match_RV moment: -0.0402266, samples moment: -0.0387191\n",
      "combo: (1, 1, 2, 2), 4_match_RV moment: 0.0813640, samples moment: 0.0817711\n",
      "combo: (1, 2, 2, 2), 4_match_RV moment: -0.0337816, samples moment: -0.0313659\n",
      "combo: (2, 2, 2, 2), 4_match_RV moment: 0.1894299, samples moment: 0.1824808\n"
     ]
    }
   ],
   "source": [
    "def fourth_moments(input: np.ndarray):\n",
    "    lst = four_combos(3)\n",
    "    res = []\n",
    "    for i,j,k,l in lst:\n",
    "        col = input[:,i]*input[:,j]*input[:,k]*input[:,l]\n",
    "        res.append(col.mean())\n",
    "    return res\n",
    "\n",
    "\n",
    "w2 = np.concatenate((W,W,W,W), axis=0)\n",
    "print(w2.shape)\n",
    "combo_list = four_combos(3)\n",
    "moms = fourth_moments(generated)\n",
    "moms2 = fourth_moments(a_true)\n",
    "for i in range(len(combo_list)):\n",
    "    print(f\"combo: {combo_list[i]}, 4_match_RV moment: {moms[i] :.7f}, samples moment: {moms2[i] :.7f}\")"
   ],
   "metadata": {
    "collapsed": false
   }
  },
  {
   "cell_type": "code",
   "execution_count": 13,
   "outputs": [
    {
     "name": "stdout",
     "output_type": "stream",
     "text": [
      "(262144, 3)\n"
     ]
    }
   ],
   "source": [
    "w2 = np.concatenate((W,W,W,W), axis=0)\n",
    "print(w2.shape)"
   ],
   "metadata": {
    "collapsed": false
   }
  },
  {
   "cell_type": "code",
   "execution_count": 15,
   "outputs": [
    {
     "name": "stdout",
     "output_type": "stream",
     "text": [
      "combo: (0, 0, 0, 0), 4_match_RV moment: 0.1345208, samples moment: 0.1357276\n",
      "combo: (0, 0, 0, 1), 4_match_RV moment: 0.0322235, samples moment: 0.0357896\n",
      "combo: (0, 0, 0, 2), 4_match_RV moment: 0.0671989, samples moment: 0.0649001\n",
      "combo: (0, 0, 1, 1), 4_match_RV moment: 0.0723331, samples moment: 0.0728633\n",
      "combo: (0, 0, 1, 2), 4_match_RV moment: -0.0001302, samples moment: 0.0013768\n",
      "combo: (0, 0, 2, 2), 4_match_RV moment: 0.0746322, samples moment: 0.0717662\n",
      "combo: (0, 1, 1, 1), 4_match_RV moment: 0.0477691, samples moment: 0.0485544\n",
      "combo: (0, 1, 1, 2), 4_match_RV moment: 0.0281756, samples moment: 0.0279942\n",
      "combo: (0, 1, 2, 2), 4_match_RV moment: 0.0034754, samples moment: 0.0053913\n",
      "combo: (0, 2, 2, 2), 4_match_RV moment: 0.0796670, samples moment: 0.0750950\n",
      "combo: (1, 1, 1, 1), 4_match_RV moment: 0.2946939, samples moment: 0.2966960\n",
      "combo: (1, 1, 1, 2), 4_match_RV moment: -0.0403792, samples moment: -0.0387191\n",
      "combo: (1, 1, 2, 2), 4_match_RV moment: 0.0830674, samples moment: 0.0817711\n",
      "combo: (1, 2, 2, 2), 4_match_RV moment: -0.0340083, samples moment: -0.0313659\n",
      "combo: (2, 2, 2, 2), 4_match_RV moment: 0.1910864, samples moment: 0.1824808\n"
     ]
    }
   ],
   "source": [
    "generated = gen_4mom_approx(3,4*bsz,_W=w2)\n",
    "moms = fourth_moments(generated)\n",
    "for i in range(len(combo_list)):\n",
    "    print(f\"combo: {combo_list[i]}, 4_match_RV moment: {moms[i] :.7f}, samples moment: {moms2[i] :.7f}\")"
   ],
   "metadata": {
    "collapsed": false
   }
  },
  {
   "cell_type": "code",
   "execution_count": null,
   "outputs": [],
   "source": [],
   "metadata": {
    "collapsed": false
   }
  }
 ],
 "metadata": {
  "kernelspec": {
   "display_name": "Python 3",
   "language": "python",
   "name": "python3"
  },
  "language_info": {
   "codemirror_mode": {
    "name": "ipython",
    "version": 2
   },
   "file_extension": ".py",
   "mimetype": "text/x-python",
   "name": "python",
   "nbconvert_exporter": "python",
   "pygments_lexer": "ipython2",
   "version": "2.7.6"
  }
 },
 "nbformat": 4,
 "nbformat_minor": 0
}
