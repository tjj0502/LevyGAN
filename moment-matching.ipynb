{
 "cells": [
  {
   "cell_type": "code",
   "execution_count": 1,
   "metadata": {
    "collapsed": true
   },
   "outputs": [],
   "source": [
    "import numpy as np\n",
    "from math import sqrt\n",
    "import ot\n",
    "import torch\n",
    "from aux_functions import a_idx, w_indices, list_pairs, fast_w_indices, gen_4mom_approx, joint_wass_dist, \\\n",
    "    chen_error_3step, gen_2mom_approx, make_pretty"
   ]
  },
  {
   "cell_type": "markdown",
   "source": [
    "## Demonstration of the random variable which matches the first 4 moments of Levy Area\n",
    "\n",
    "There is also a simple version which just matches the variances conditional on the W increment"
   ],
   "metadata": {
    "collapsed": false
   }
  },
  {
   "cell_type": "code",
   "execution_count": 2,
   "outputs": [
    {
     "name": "stdout",
     "output_type": "stream",
     "text": [
      "(32768, 6)\n"
     ]
    }
   ],
   "source": [
    "data = np.genfromtxt('samples/samples_4-dim.csv', dtype=float, delimiter=',')\n",
    "a_true = data[:(2*16384),4:10]\n",
    "W = data[:(2*16384),:4]\n",
    "bsz = 2*16384\n",
    "generated4mom = gen_4mom_approx(4, bsz, _W=W)\n",
    "generated2mom = gen_2mom_approx(4, bsz, _W = W)\n",
    "a_generated4mom = generated4mom[:, 4:10]\n",
    "a_generated2mom = generated2mom[:, 4:10]"
   ],
   "metadata": {
    "collapsed": false
   }
  },
  {
   "cell_type": "code",
   "execution_count": 4,
   "outputs": [
    {
     "name": "stdout",
     "output_type": "stream",
     "text": [
      "[0.0031215251014375177, 0.0031286148594010174, 0.002799245139591539, 0.0023474843729451474]\n"
     ]
    }
   ],
   "source": [
    "err = [sqrt(ot.wasserstein_1d(a_true[:,i], a_generated4mom[:, i], p=2)) for i in range(4)]\n",
    "print(err)"
   ],
   "metadata": {
    "collapsed": false
   }
  },
  {
   "cell_type": "code",
   "execution_count": 5,
   "outputs": [
    {
     "name": "stdout",
     "output_type": "stream",
     "text": [
      "[0.020255162715319474, 0.020892199738661764, 0.019990485264570586, 0.020879712144683007]\n"
     ]
    }
   ],
   "source": [
    "err = [sqrt(ot.wasserstein_1d(a_true[:,i], a_generated2mom[:, i], p=2)) for i in range(4)]\n",
    "print(err)"
   ],
   "metadata": {
    "collapsed": false
   }
  },
  {
   "cell_type": "code",
   "execution_count": null,
   "outputs": [],
   "source": [
    "joint_err = joint_wass_dist(a_true[:16384], a_true[16384:(2*16384)])\n",
    "print(joint_err)"
   ],
   "metadata": {
    "collapsed": false,
    "pycharm": {
     "is_executing": true
    }
   }
  },
  {
   "cell_type": "code",
   "execution_count": null,
   "outputs": [],
   "source": [
    "joint_err = joint_wass_dist(a_true[:10000], a_generated2mom[:10000])\n",
    "print(joint_err)"
   ],
   "metadata": {
    "collapsed": false
   }
  },
  {
   "cell_type": "markdown",
   "source": [
    "## A utility for calculating the empirical fourth moments of a set of samples"
   ],
   "metadata": {
    "collapsed": false
   }
  },
  {
   "cell_type": "code",
   "execution_count": 8,
   "outputs": [
    {
     "name": "stdout",
     "output_type": "stream",
     "text": [
      "[(0, 0, 0, 0), (0, 0, 0, 1), (0, 0, 0, 2), (0, 0, 1, 1), (0, 0, 1, 2), (0, 0, 2, 2), (0, 1, 1, 1), (0, 1, 1, 2), (0, 1, 2, 2), (0, 2, 2, 2), (1, 1, 1, 1), (1, 1, 1, 2), (1, 1, 2, 2), (1, 2, 2, 2), (2, 2, 2, 2)]\n"
     ]
    }
   ],
   "source": [
    "def four_combos(n: int):\n",
    "    lst = []\n",
    "    for i in range(n):\n",
    "        for j in range(i,n):\n",
    "            for k in range(j,n):\n",
    "                for l in range(k,n):\n",
    "                    lst.append((i,j,k,l))\n",
    "    return lst\n",
    "\n",
    "def fourth_moments(input_samples: np.ndarray):\n",
    "    dim = input_samples.shape[1]\n",
    "    lst = four_combos(dim)\n",
    "    res = []\n",
    "    for i,j,k,l in lst:\n",
    "        col = input_samples[:, i] * input_samples[:, j] * input_samples[:, k] * input_samples[:, l]\n",
    "        res.append(col.mean())\n",
    "    return res\n",
    "\n",
    "\n",
    "w2 = np.concatenate((W,W,W,W), axis=0)\n",
    "print(w2.shape)\n",
    "combo_list = four_combos(3)\n",
    "moms = fourth_moments(generated4mom)\n",
    "moms2 = fourth_moments(a_true)\n",
    "for i in range(len(combo_list)):\n",
    "    print(f\"combo: {combo_list[i]}, 4_match_RV moment: {moms[i] :.7f}, samples moment: {moms2[i] :.7f}\")"
   ],
   "metadata": {
    "collapsed": false
   }
  },
  {
   "cell_type": "code",
   "execution_count": 10,
   "outputs": [
    {
     "name": "stdout",
     "output_type": "stream",
     "text": [
      "(262144, 3)\n"
     ]
    }
   ],
   "source": [
    "w2 = np.concatenate((W,W,W,W), axis=0)\n",
    "print(w2.shape)"
   ],
   "metadata": {
    "collapsed": false
   }
  },
  {
   "cell_type": "code",
   "execution_count": 11,
   "outputs": [
    {
     "name": "stdout",
     "output_type": "stream",
     "text": [
      "combo: (0, 0, 0, 0), 4_match_RV moment: 0.1350575, samples moment: 0.1357276\n",
      "combo: (0, 0, 0, 1), 4_match_RV moment: 0.0336348, samples moment: 0.0357896\n",
      "combo: (0, 0, 0, 2), 4_match_RV moment: 0.0655758, samples moment: 0.0649001\n",
      "combo: (0, 0, 1, 1), 4_match_RV moment: 0.0722153, samples moment: 0.0728633\n",
      "combo: (0, 0, 1, 2), 4_match_RV moment: 0.0007437, samples moment: 0.0013768\n",
      "combo: (0, 0, 2, 2), 4_match_RV moment: 0.0717766, samples moment: 0.0717662\n",
      "combo: (0, 1, 1, 1), 4_match_RV moment: 0.0481259, samples moment: 0.0485544\n",
      "combo: (0, 1, 1, 2), 4_match_RV moment: 0.0280197, samples moment: 0.0279942\n",
      "combo: (0, 1, 2, 2), 4_match_RV moment: 0.0045032, samples moment: 0.0053913\n",
      "combo: (0, 2, 2, 2), 4_match_RV moment: 0.0753795, samples moment: 0.0750950\n",
      "combo: (1, 1, 1, 1), 4_match_RV moment: 0.2946441, samples moment: 0.2966960\n",
      "combo: (1, 1, 1, 2), 4_match_RV moment: -0.0395968, samples moment: -0.0387191\n",
      "combo: (1, 1, 2, 2), 4_match_RV moment: 0.0827522, samples moment: 0.0817711\n",
      "combo: (1, 2, 2, 2), 4_match_RV moment: -0.0326196, samples moment: -0.0313659\n",
      "combo: (2, 2, 2, 2), 4_match_RV moment: 0.1849340, samples moment: 0.1824808\n"
     ]
    }
   ],
   "source": [
    "generated4mom = gen_4mom_approx(3, 4 * bsz, _W=w2)\n",
    "moms = fourth_moments(generated4mom)\n",
    "for i in range(len(combo_list)):\n",
    "    print(f\"combo: {combo_list[i]}, 4_match_RV moment: {moms[i] :.7f}, samples moment: {moms2[i] :.7f}\")"
   ],
   "metadata": {
    "collapsed": false
   }
  }
 ],
 "metadata": {
  "kernelspec": {
   "display_name": "Python 3",
   "language": "python",
   "name": "python3"
  },
  "language_info": {
   "codemirror_mode": {
    "name": "ipython",
    "version": 2
   },
   "file_extension": ".py",
   "mimetype": "text/x-python",
   "name": "python",
   "nbconvert_exporter": "python",
   "pygments_lexer": "ipython2",
   "version": "2.7.6"
  }
 },
 "nbformat": 4,
 "nbformat_minor": 0
}
