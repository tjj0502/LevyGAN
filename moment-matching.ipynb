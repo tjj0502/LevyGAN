{
 "cells": [
  {
   "cell_type": "code",
   "execution_count": 1,
   "metadata": {
    "collapsed": true
   },
   "outputs": [],
   "source": [
    "import numpy as np\n",
    "from math import sqrt\n",
    "import ot\n",
    "import torch\n",
    "from TheGAN import LevyGAN\n",
    "from aux_functions import *\n",
    "import timeit"
   ]
  },
  {
   "cell_type": "markdown",
   "source": [
    "## Demonstration of the random variable which matches the first 4 moments of Levy Area\n",
    "\n",
    "There is also a simple version which just matches the variances conditional on the W increment"
   ],
   "metadata": {
    "collapsed": false
   }
  },
  {
   "cell_type": "code",
   "execution_count": 2,
   "outputs": [
    {
     "name": "stdout",
     "output_type": "stream",
     "text": [
      "(262144, 6)\n"
     ]
    }
   ],
   "source": [
    "w_dim = 3\n",
    "a_dim = int((w_dim * (w_dim - 1)) // 2)\n",
    "bsz = 262144\n",
    "data = np.genfromtxt(f'samples/fixed_samples_{w_dim}-dim_big.csv', dtype=float, delimiter=',')\n",
    "a_true = data[:, w_dim:(w_dim + a_dim)]\n",
    "W = data[:, :w_dim]\n",
    "W_torch = torch.tensor(W, dtype=torch.float)\n",
    "print(data.shape)"
   ],
   "metadata": {
    "collapsed": false
   }
  },
  {
   "cell_type": "code",
   "execution_count": null,
   "outputs": [],
   "source": [
    "mid_prec_samples = np.genfromtxt(f'samples/mid_prec_fixed_samples_{w_dim}-dim.csv', dtype=float,delimiter=',') # 0.68s\n",
    "a_mid_prec = mid_prec_samples[:, w_dim:(w_dim + a_dim)]"
   ],
   "metadata": {
    "collapsed": false
   }
  },
  {
   "cell_type": "code",
   "execution_count": 6,
   "outputs": [
    {
     "name": "stdout",
     "output_type": "stream",
     "text": [
      "1.296301570999276\n"
     ]
    }
   ],
   "source": [
    "start_time = timeit.default_timer()\n",
    "generated2mom = gen_2mom_approx(w_dim, bsz, _W = W)\n",
    "a_generated2mom = generated2mom[:, w_dim:(w_dim + a_dim)]\n",
    "elapsed = timeit.default_timer() - start_time\n",
    "print(elapsed)"
   ],
   "metadata": {
    "collapsed": false
   }
  },
  {
   "cell_type": "code",
   "execution_count": 4,
   "outputs": [
    {
     "name": "stdout",
     "output_type": "stream",
     "text": [
      "0.14728145300068718\n"
     ]
    }
   ],
   "source": [
    "start_time = timeit.default_timer()\n",
    "generated4mom = gen_4mom_approx(w_dim, bsz, _W=W)\n",
    "a_generated4mom = generated4mom[:, w_dim:(w_dim + a_dim)]\n",
    "elapsed = timeit.default_timer() - start_time\n",
    "print(elapsed)"
   ],
   "metadata": {
    "collapsed": false
   }
  },
  {
   "cell_type": "code",
   "execution_count": 4,
   "outputs": [
    {
     "name": "stdout",
     "output_type": "stream",
     "text": [
      "0.07527714800016838\n"
     ]
    }
   ],
   "source": [
    "T, M, S = generate_tms(w_dim, torch.device('cpu'))\n",
    "start_time = timeit.default_timer()\n",
    "h = sqrt(1 / 12) * torch.randn((bsz, w_dim), dtype=torch.float)\n",
    "wth = aux_compute_wth(W_torch, h, S, T, w_dim).detach()\n",
    "b = sqrt(1 / 12) * torch.randn((bsz, w_dim), dtype=torch.float)\n",
    "a_wthmb = aux_compute_wthmb(wth, b, M, w_dim)\n",
    "elapsed = timeit.default_timer() - start_time\n",
    "a_wthmb_np = a_wthmb.numpy()\n",
    "print(elapsed)"
   ],
   "metadata": {
    "collapsed": false
   }
  },
  {
   "cell_type": "code",
   "execution_count": 3,
   "outputs": [
    {
     "name": "stdout",
     "output_type": "stream",
     "text": [
      "EVAL TIME: 0.5236519610007235\n"
     ]
    }
   ],
   "source": [
    "levG = LevyGAN()\n",
    "levG.do_timeing = True\n",
    "levG.load_dicts(serial_num_to_load=1, descriptor=\"_max_scr\")\n",
    "a_gan = levG.eval(W_torch)"
   ],
   "metadata": {
    "collapsed": false
   }
  },
  {
   "cell_type": "code",
   "execution_count": 3,
   "outputs": [
    {
     "name": "stdout",
     "output_type": "stream",
     "text": [
      "[0.0314, 0.0277, 0.0289]\n"
     ]
    }
   ],
   "source": [
    "err = [sqrt(ot.wasserstein_1d(a_true[:,i], a_generated2mom[:, i], p=2)) for i in range(a_dim)]\n",
    "print(make_pretty(err))"
   ],
   "metadata": {
    "collapsed": false
   }
  },
  {
   "cell_type": "code",
   "execution_count": 4,
   "outputs": [
    {
     "name": "stdout",
     "output_type": "stream",
     "text": [
      "[0.0037, 0.0035, 0.0039]\n"
     ]
    }
   ],
   "source": [
    "err = [sqrt(ot.wasserstein_1d(a_true[:,i], a_generated4mom[:, i], p=2)) for i in range(a_dim)]\n",
    "print(make_pretty(err))"
   ],
   "metadata": {
    "collapsed": false
   }
  },
  {
   "cell_type": "code",
   "execution_count": 5,
   "outputs": [
    {
     "name": "stdout",
     "output_type": "stream",
     "text": [
      "[0.0031, 0.0028, 0.0034]\n"
     ]
    }
   ],
   "source": [
    "err = [sqrt(ot.wasserstein_1d(a_true[:,i], a_mid_prec[:, i], p=2)) for i in range(a_dim)]\n",
    "print(make_pretty(err))"
   ],
   "metadata": {
    "collapsed": false
   }
  },
  {
   "cell_type": "code",
   "execution_count": 18,
   "outputs": [
    {
     "name": "stdout",
     "output_type": "stream",
     "text": [
      "[0.03, 0.0273, 0.029]\n"
     ]
    }
   ],
   "source": [
    "err = [sqrt(ot.wasserstein_1d(a_true[:,i], a_wthmb_np[:, i], p=2)) for i in range(a_dim)]\n",
    "print(make_pretty(err))"
   ],
   "metadata": {
    "collapsed": false
   }
  },
  {
   "cell_type": "code",
   "execution_count": null,
   "outputs": [],
   "source": [
    "err = [sqrt(ot.wasserstein_1d(a_true[:,i], a_gan[:, i], p=2)) for i in range(a_dim)]\n",
    "print(make_pretty(err))"
   ],
   "metadata": {
    "collapsed": false
   }
  },
  {
   "cell_type": "code",
   "execution_count": 3,
   "outputs": [
    {
     "name": "stdout",
     "output_type": "stream",
     "text": [
      "0.227711139218486\n"
     ]
    }
   ],
   "source": [
    "joint_err = joint_wass_dist(a_true[:16384], a_generated2mom[:16384])\n",
    "print(joint_err)"
   ],
   "metadata": {
    "collapsed": false
   }
  },
  {
   "cell_type": "code",
   "execution_count": 3,
   "outputs": [
    {
     "name": "stdout",
     "output_type": "stream",
     "text": [
      "0.08777318220273997\n"
     ]
    }
   ],
   "source": [
    "joint_err = joint_wass_dist(a_true[:16384], a_generated4mom[:16384])\n",
    "print(joint_err)"
   ],
   "metadata": {
    "collapsed": false
   }
  },
  {
   "cell_type": "code",
   "execution_count": 3,
   "outputs": [
    {
     "name": "stdout",
     "output_type": "stream",
     "text": [
      "0.08548501584219308\n"
     ]
    }
   ],
   "source": [
    "joint_err = joint_wass_dist(a_true[:16384], a_mid_prec[:16384])\n",
    "print(joint_err)"
   ],
   "metadata": {
    "collapsed": false
   }
  },
  {
   "cell_type": "code",
   "execution_count": 15,
   "outputs": [
    {
     "name": "stdout",
     "output_type": "stream",
     "text": [
      "0.10378455706401561\n"
     ]
    }
   ],
   "source": [
    "joint_err = joint_wass_dist(a_true[:16384], a_wthmb_np[:16384])\n",
    "print(joint_err)"
   ],
   "metadata": {
    "collapsed": false
   }
  },
  {
   "cell_type": "code",
   "execution_count": null,
   "outputs": [],
   "source": [
    "joint_err = joint_wass_dist(a_true[:16384], a_gan[:16384])\n",
    "print(joint_err)"
   ],
   "metadata": {
    "collapsed": false
   }
  },
  {
   "cell_type": "markdown",
   "source": [
    "## A utility for calculating the empirical fourth moments of a set of samples"
   ],
   "metadata": {
    "collapsed": false
   }
  },
  {
   "cell_type": "code",
   "execution_count": null,
   "outputs": [],
   "source": [
    "def four_combos(n: int):\n",
    "    lst = []\n",
    "    for i in range(n):\n",
    "        for j in range(i,n):\n",
    "            for k in range(j,n):\n",
    "                for l in range(k,n):\n",
    "                    lst.append((i,j,k,l))\n",
    "    return lst\n",
    "\n",
    "def fourth_moments(input_samples: np.ndarray):\n",
    "    dim = input_samples.shape[1]\n",
    "    lst = four_combos(dim)\n",
    "    res = []\n",
    "    for i,j,k,l in lst:\n",
    "        col = input_samples[:, i] * input_samples[:, j] * input_samples[:, k] * input_samples[:, l]\n",
    "        res.append(col.mean())\n",
    "    return res\n",
    "\n",
    "combo_list = four_combos(6)\n",
    "moms = fourth_moments(a_generated4mom)\n",
    "moms2 = fourth_moments(a_true)"
   ],
   "metadata": {
    "collapsed": false
   }
  },
  {
   "cell_type": "code",
   "execution_count": 32,
   "outputs": [
    {
     "name": "stdout",
     "output_type": "stream",
     "text": [
      "mom: (0, 0, 0, 0), 4_mom_RV: 0.1346635, samples: 0.1347481\n",
      "mom: (0, 0, 0, 1), 4_mom_RV: 0.0335340, samples: 0.0328427\n",
      "mom: (0, 0, 0, 2), 4_mom_RV: 0.0083241, samples: 0.0084791\n",
      "mom: (0, 0, 0, 3), 4_mom_RV: 0.0659578, samples: 0.0663669\n",
      "mom: (0, 0, 0, 4), 4_mom_RV: 0.0166638, samples: 0.0164522\n",
      "mom: (0, 0, 0, 5), 4_mom_RV: 0.0000592, samples: -0.0001937\n",
      "mom: (0, 0, 1, 1), 4_mom_RV: 0.0717887, samples: 0.0713913\n",
      "mom: (0, 0, 1, 2), 4_mom_RV: 0.0079290, samples: 0.0079163\n",
      "mom: (0, 0, 1, 3), 4_mom_RV: 0.0011992, samples: 0.0007711\n",
      "mom: (0, 0, 1, 4), 4_mom_RV: 0.0025173, samples: 0.0024212\n",
      "mom: (0, 0, 1, 5), 4_mom_RV: 0.0054178, samples: 0.0054886\n",
      "mom: (0, 0, 2, 2), 4_mom_RV: 0.0419814, samples: 0.0421878\n",
      "mom: (0, 0, 2, 3), 4_mom_RV: 0.0025456, samples: 0.0026153\n",
      "mom: (0, 0, 2, 4), 4_mom_RV: -0.0085327, samples: -0.0084858\n",
      "mom: (0, 0, 2, 5), 4_mom_RV: -0.0219468, samples: -0.0219955\n",
      "mom: (0, 0, 3, 3), 4_mom_RV: 0.0722696, samples: 0.0732025\n",
      "mom: (0, 0, 3, 4), 4_mom_RV: 0.0115913, samples: 0.0115433\n",
      "mom: (0, 0, 3, 5), 4_mom_RV: -0.0026523, samples: -0.0028812\n",
      "mom: (0, 0, 4, 4), 4_mom_RV: 0.0293099, samples: 0.0294154\n",
      "mom: (0, 0, 4, 5), 4_mom_RV: 0.0111222, samples: 0.0109711\n",
      "mom: (0, 0, 5, 5), 4_mom_RV: 0.0393898, samples: 0.0395025\n",
      "mom: (0, 1, 1, 1), 4_mom_RV: 0.0482830, samples: 0.0469661\n",
      "mom: (0, 1, 1, 2), 4_mom_RV: 0.0069223, samples: 0.0070905\n",
      "mom: (0, 1, 1, 3), 4_mom_RV: 0.0277564, samples: 0.0279154\n",
      "mom: (0, 1, 1, 4), 4_mom_RV: 0.0080957, samples: 0.0077857\n",
      "mom: (0, 1, 1, 5), 4_mom_RV: 0.0024671, samples: 0.0023738\n",
      "mom: (0, 1, 2, 2), 4_mom_RV: 0.0111464, samples: 0.0111003\n",
      "mom: (0, 1, 2, 3), 4_mom_RV: 0.0025384, samples: 0.0024600\n",
      "mom: (0, 1, 2, 4), 4_mom_RV: -0.0012849, samples: -0.0012286\n",
      "mom: (0, 1, 2, 5), 4_mom_RV: -0.0047508, samples: -0.0045801\n",
      "mom: (0, 1, 3, 3), 4_mom_RV: 0.0048041, samples: 0.0045039\n",
      "mom: (0, 1, 3, 4), 4_mom_RV: 0.0003389, samples: 0.0004466\n",
      "mom: (0, 1, 3, 5), 4_mom_RV: 0.0017494, samples: 0.0018023\n",
      "mom: (0, 1, 4, 4), 4_mom_RV: 0.0073212, samples: 0.0071230\n",
      "mom: (0, 1, 4, 5), 4_mom_RV: 0.0075610, samples: 0.0083201\n",
      "mom: (0, 1, 5, 5), 4_mom_RV: 0.0123690, samples: 0.0119507\n",
      "mom: (0, 2, 2, 2), 4_mom_RV: 0.0076152, samples: 0.0078844\n",
      "mom: (0, 2, 2, 3), 4_mom_RV: 0.0205525, samples: 0.0208388\n",
      "mom: (0, 2, 2, 4), 4_mom_RV: 0.0041655, samples: 0.0041560\n",
      "mom: (0, 2, 2, 5), 4_mom_RV: -0.0023497, samples: -0.0024870\n",
      "mom: (0, 2, 3, 3), 4_mom_RV: 0.0031573, samples: 0.0033500\n",
      "mom: (0, 2, 3, 4), 4_mom_RV: -0.0037898, samples: -0.0038328\n",
      "mom: (0, 2, 3, 5), 4_mom_RV: -0.0144447, samples: -0.0154573\n",
      "mom: (0, 2, 4, 4), 4_mom_RV: -0.0004281, samples: -0.0002276\n",
      "mom: (0, 2, 4, 5), 4_mom_RV: -0.0019794, samples: -0.0018293\n",
      "mom: (0, 2, 5, 5), 4_mom_RV: 0.0028903, samples: 0.0030613\n",
      "mom: (0, 3, 3, 3), 4_mom_RV: 0.0761509, samples: 0.0776993\n",
      "mom: (0, 3, 3, 4), 4_mom_RV: 0.0125328, samples: 0.0122197\n",
      "mom: (0, 3, 3, 5), 4_mom_RV: -0.0022428, samples: -0.0026982\n",
      "mom: (0, 3, 4, 4), 4_mom_RV: 0.0159032, samples: 0.0160649\n",
      "mom: (0, 3, 4, 5), 4_mom_RV: 0.0047155, samples: 0.0047363\n",
      "mom: (0, 3, 5, 5), 4_mom_RV: 0.0242352, samples: 0.0245153\n",
      "mom: (0, 4, 4, 4), 4_mom_RV: 0.0112287, samples: 0.0106266\n",
      "mom: (0, 4, 4, 5), 4_mom_RV: 0.0027389, samples: 0.0023650\n",
      "mom: (0, 4, 5, 5), 4_mom_RV: 0.0063447, samples: 0.0060108\n",
      "mom: (0, 5, 5, 5), 4_mom_RV: 0.0002007, samples: -0.0000874\n",
      "mom: (1, 1, 1, 1), 4_mom_RV: 0.2965747, samples: 0.2961705\n",
      "mom: (1, 1, 1, 2), 4_mom_RV: 0.0289745, samples: 0.0284006\n",
      "mom: (1, 1, 1, 3), 4_mom_RV: -0.0392673, samples: -0.0402045\n",
      "mom: (1, 1, 1, 4), 4_mom_RV: 0.0000098, samples: -0.0000307\n",
      "mom: (1, 1, 1, 5), 4_mom_RV: 0.0234339, samples: 0.0238251\n",
      "mom: (1, 1, 2, 2), 4_mom_RV: 0.0646911, samples: 0.0641391\n",
      "mom: (1, 1, 2, 3), 4_mom_RV: -0.0025366, samples: -0.0022637\n",
      "mom: (1, 1, 2, 4), 4_mom_RV: -0.0134908, samples: -0.0130969\n",
      "mom: (1, 1, 2, 5), 4_mom_RV: -0.0311218, samples: -0.0304387\n",
      "mom: (1, 1, 3, 3), 4_mom_RV: 0.0813605, samples: 0.0821406\n",
      "mom: (1, 1, 3, 4), 4_mom_RV: 0.0094361, samples: 0.0093931\n",
      "mom: (1, 1, 3, 5), 4_mom_RV: -0.0058323, samples: -0.0060900\n",
      "mom: (1, 1, 4, 4), 4_mom_RV: 0.0319970, samples: 0.0318511\n",
      "mom: (1, 1, 4, 5), 4_mom_RV: 0.0163005, samples: 0.0157339\n",
      "mom: (1, 1, 5, 5), 4_mom_RV: 0.0760148, samples: 0.0752527\n",
      "mom: (1, 2, 2, 2), 4_mom_RV: 0.0187718, samples: 0.0186975\n",
      "mom: (1, 2, 2, 3), 4_mom_RV: -0.0087200, samples: -0.0085760\n",
      "mom: (1, 2, 2, 4), 4_mom_RV: -0.0026146, samples: -0.0024671\n",
      "mom: (1, 2, 2, 5), 4_mom_RV: -0.0009446, samples: -0.0008394\n",
      "mom: (1, 2, 3, 3), 4_mom_RV: 0.0075514, samples: 0.0076597\n",
      "mom: (1, 2, 3, 4), 4_mom_RV: 0.0070934, samples: 0.0077940\n",
      "mom: (1, 2, 3, 5), 4_mom_RV: 0.0039668, samples: 0.0037714\n",
      "mom: (1, 2, 4, 4), 4_mom_RV: 0.0043504, samples: 0.0044284\n",
      "mom: (1, 2, 4, 5), 4_mom_RV: 0.0005118, samples: 0.0005210\n",
      "mom: (1, 2, 5, 5), 4_mom_RV: 0.0023689, samples: 0.0024036\n",
      "mom: (1, 3, 3, 3), 4_mom_RV: -0.0315015, samples: -0.0317070\n",
      "mom: (1, 3, 3, 4), 4_mom_RV: -0.0023376, samples: -0.0024645\n",
      "mom: (1, 3, 3, 5), 4_mom_RV: 0.0071892, samples: 0.0072234\n",
      "mom: (1, 3, 4, 4), 4_mom_RV: -0.0060236, samples: -0.0059939\n",
      "mom: (1, 3, 4, 5), 4_mom_RV: -0.0014831, samples: -0.0012572\n",
      "mom: (1, 3, 5, 5), 4_mom_RV: -0.0107022, samples: -0.0108492\n",
      "mom: (1, 4, 4, 4), 4_mom_RV: 0.0000545, samples: -0.0000097\n",
      "mom: (1, 4, 4, 5), 4_mom_RV: 0.0036450, samples: 0.0035653\n",
      "mom: (1, 4, 5, 5), 4_mom_RV: 0.0025632, samples: 0.0024050\n",
      "mom: (1, 5, 5, 5), 4_mom_RV: 0.0182006, samples: 0.0179042\n",
      "mom: (2, 2, 2, 2), 4_mom_RV: 0.1173095, samples: 0.1170856\n",
      "mom: (2, 2, 2, 3), 4_mom_RV: -0.0002080, samples: 0.0000427\n",
      "mom: (2, 2, 2, 4), 4_mom_RV: -0.0259343, samples: -0.0258855\n",
      "mom: (2, 2, 2, 5), 4_mom_RV: -0.0623290, samples: -0.0621828\n",
      "mom: (2, 2, 3, 3), 4_mom_RV: 0.0388828, samples: 0.0391484\n",
      "mom: (2, 2, 3, 4), 4_mom_RV: 0.0062497, samples: 0.0062116\n",
      "mom: (2, 2, 3, 5), 4_mom_RV: -0.0024176, samples: -0.0026085\n",
      "mom: (2, 2, 4, 4), 4_mom_RV: 0.0295244, samples: 0.0296032\n",
      "mom: (2, 2, 4, 5), 4_mom_RV: 0.0187358, samples: 0.0186250\n",
      "mom: (2, 2, 5, 5), 4_mom_RV: 0.0667400, samples: 0.0668054\n",
      "mom: (2, 3, 3, 3), 4_mom_RV: 0.0001380, samples: 0.0002778\n",
      "mom: (2, 3, 3, 4), 4_mom_RV: -0.0108161, samples: -0.0107236\n",
      "mom: (2, 3, 3, 5), 4_mom_RV: -0.0257135, samples: -0.0259217\n",
      "mom: (2, 3, 4, 4), 4_mom_RV: -0.0025683, samples: -0.0024020\n",
      "mom: (2, 3, 4, 5), 4_mom_RV: -0.0025604, samples: -0.0024320\n",
      "mom: (2, 3, 5, 5), 4_mom_RV: 0.0024835, samples: 0.0025419\n",
      "mom: (2, 4, 4, 4), 4_mom_RV: -0.0181037, samples: -0.0179361\n",
      "mom: (2, 4, 4, 5), 4_mom_RV: -0.0186186, samples: -0.0185406\n",
      "mom: (2, 4, 5, 5), 4_mom_RV: -0.0202362, samples: -0.0200837\n",
      "mom: (2, 5, 5, 5), 4_mom_RV: -0.0732192, samples: -0.0734835\n",
      "mom: (3, 3, 3, 3), 4_mom_RV: 0.1847032, samples: 0.1883872\n",
      "mom: (3, 3, 3, 4), 4_mom_RV: 0.0231552, samples: 0.0226237\n",
      "mom: (3, 3, 3, 5), 4_mom_RV: -0.0090344, samples: -0.0101538\n",
      "mom: (3, 3, 4, 4), 4_mom_RV: 0.0350943, samples: 0.0352416\n",
      "mom: (3, 3, 4, 5), 4_mom_RV: 0.0122274, samples: 0.0121608\n",
      "mom: (3, 3, 5, 5), 4_mom_RV: 0.0588683, samples: 0.0596246\n",
      "mom: (3, 4, 4, 4), 4_mom_RV: 0.0131518, samples: 0.0129137\n",
      "mom: (3, 4, 4, 5), 4_mom_RV: 0.0013491, samples: 0.0009720\n",
      "mom: (3, 4, 5, 5), 4_mom_RV: 0.0061913, samples: 0.0059095\n",
      "mom: (3, 5, 5, 5), 4_mom_RV: -0.0088935, samples: -0.0091443\n",
      "mom: (4, 4, 4, 4), 4_mom_RV: 0.0514883, samples: 0.0512904\n",
      "mom: (4, 4, 4, 5), 4_mom_RV: 0.0218123, samples: 0.0214849\n",
      "mom: (4, 4, 5, 5), 4_mom_RV: 0.0364651, samples: 0.0364373\n",
      "mom: (4, 5, 5, 5), 4_mom_RV: 0.0367953, samples: 0.0365031\n",
      "mom: (5, 5, 5, 5), 4_mom_RV: 0.1672516, samples: 0.1673274\n",
      "0.03686503906884343\n",
      "0.00029257967514955107\n"
     ]
    }
   ],
   "source": [
    "combo_list = four_combos(6)\n",
    "abs_sum = 0\n",
    "for i in range(len(combo_list)):\n",
    "    abs_sum += abs(moms[i] - moms2[i])\n",
    "    print(f\"mom: {combo_list[i]}, 4_mom_RV: {moms[i] :.7f}, samples: {moms2[i] :.7f}\")\n",
    "print(abs_sum)\n",
    "print(abs_sum/len(combo_list))"
   ],
   "metadata": {
    "collapsed": false
   }
  },
  {
   "cell_type": "code",
   "execution_count": 29,
   "outputs": [
    {
     "ename": "TypeError",
     "evalue": "unsupported operand type(s) for -: 'list' and 'list'",
     "output_type": "error",
     "traceback": [
      "\u001B[0;31m---------------------------------------------------------------------------\u001B[0m",
      "\u001B[0;31mTypeError\u001B[0m                                 Traceback (most recent call last)",
      "Input \u001B[0;32mIn [29]\u001B[0m, in \u001B[0;36m<cell line: 1>\u001B[0;34m()\u001B[0m\n\u001B[0;32m----> 1\u001B[0m \u001B[38;5;28mprint\u001B[39m(make_pretty(\u001B[43mmoms\u001B[49m\u001B[43m \u001B[49m\u001B[38;5;241;43m-\u001B[39;49m\u001B[43m \u001B[49m\u001B[43mmoms2\u001B[49m))\n",
      "\u001B[0;31mTypeError\u001B[0m: unsupported operand type(s) for -: 'list' and 'list'"
     ]
    }
   ],
   "source": [
    "print(make_pretty(moms - moms2))"
   ],
   "metadata": {
    "collapsed": false
   }
  },
  {
   "cell_type": "code",
   "execution_count": 20,
   "outputs": [
    {
     "name": "stdout",
     "output_type": "stream",
     "text": [
      "(1048576, 4)\n"
     ]
    }
   ],
   "source": [
    "w2 = np.concatenate((W,W,W,W), axis=0)\n",
    "print(w2.shape)"
   ],
   "metadata": {
    "collapsed": false
   }
  },
  {
   "cell_type": "code",
   "execution_count": 24,
   "outputs": [
    {
     "name": "stdout",
     "output_type": "stream",
     "text": [
      "moment: (0, 0, 0, 0), 4_mom_RV: 0.1342995, samples: 0.1360724\n",
      "moment: (0, 0, 0, 1), 4_mom_RV: 0.0331013, samples: 0.0338491\n",
      "moment: (0, 0, 0, 2), 4_mom_RV: 0.0661390, samples: 0.0082963\n",
      "moment: (0, 0, 1, 1), 4_mom_RV: 0.0711489, samples: 0.0661575\n",
      "moment: (0, 0, 1, 2), 4_mom_RV: 0.0008355, samples: 0.0169508\n",
      "moment: (0, 0, 2, 2), 4_mom_RV: 0.0727376, samples: 0.0004610\n",
      "moment: (0, 1, 1, 1), 4_mom_RV: 0.0478692, samples: 0.0721430\n",
      "moment: (0, 1, 1, 2), 4_mom_RV: 0.0274638, samples: 0.0084095\n",
      "moment: (0, 1, 2, 2), 4_mom_RV: 0.0046850, samples: 0.0007835\n",
      "moment: (0, 2, 2, 2), 4_mom_RV: 0.0768439, samples: 0.0026474\n",
      "moment: (1, 1, 1, 1), 4_mom_RV: 0.2929890, samples: 0.0055236\n",
      "moment: (1, 1, 1, 2), 4_mom_RV: -0.0394454, samples: 0.0430429\n",
      "moment: (1, 1, 2, 2), 4_mom_RV: 0.0813562, samples: 0.0021761\n",
      "moment: (1, 2, 2, 2), 4_mom_RV: -0.0318231, samples: -0.0087013\n",
      "moment: (2, 2, 2, 2), 4_mom_RV: 0.1861091, samples: -0.0224802\n"
     ]
    }
   ],
   "source": [
    "generated4mom = gen_4mom_approx(3, bsz*4, _W=w2)\n",
    "a_generated4mom = generated4mom[:, 4:10]\n",
    "moms = fourth_moments(a_generated4mom)\n",
    "for i in range(len(combo_list)):\n",
    "    print(f\"moment: {combo_list[i]}, 4_mom_RV: {moms[i] :.7f}, samples: {moms2[i] :.7f}\")"
   ],
   "metadata": {
    "collapsed": false
   }
  },
  {
   "cell_type": "code",
   "execution_count": null,
   "outputs": [],
   "source": [],
   "metadata": {
    "collapsed": false
   }
  }
 ],
 "metadata": {
  "kernelspec": {
   "display_name": "Python 3",
   "language": "python",
   "name": "python3"
  },
  "language_info": {
   "codemirror_mode": {
    "name": "ipython",
    "version": 2
   },
   "file_extension": ".py",
   "mimetype": "text/x-python",
   "name": "python",
   "nbconvert_exporter": "python",
   "pygments_lexer": "ipython2",
   "version": "2.7.6"
  }
 },
 "nbformat": 4,
 "nbformat_minor": 0
}
