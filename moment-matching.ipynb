{
 "cells": [
  {
   "cell_type": "code",
   "execution_count": 1,
   "metadata": {
    "collapsed": true
   },
   "outputs": [],
   "source": [
    "import numpy as np\n",
    "from math import sqrt\n",
    "import ot\n",
    "import torch\n",
    "import aux_functions"
   ]
  },
  {
   "cell_type": "code",
   "execution_count": 2,
   "outputs": [],
   "source": [
    "def a_idx(i: int, j: int, _w_dim):\n",
    "    if i == j:\n",
    "        return None\n",
    "    idx = 0\n",
    "    for k in range(_w_dim):\n",
    "        for l in range(k+1, _w_dim):\n",
    "            if (i == k and j == l) or (j == k and i == l):\n",
    "                return idx\n",
    "            else:\n",
    "                idx += 1\n",
    "\n",
    "def w_indices(a_i: int, _w_dim):\n",
    "    if a_i >= int(_w_dim*(_w_dim - 1)//2) or a_i < 0:\n",
    "        return None\n",
    "    idx = 0\n",
    "    for k in range(_w_dim):\n",
    "        for l in range(k+1, _w_dim):\n",
    "            if idx == a_i:\n",
    "                return k, l\n",
    "            else:\n",
    "                idx += 1\n",
    "\n",
    "def list_pairs(_w_dim: int):\n",
    "    lst = []\n",
    "    for k in range(_w_dim):\n",
    "        for l in range(k+1, _w_dim):\n",
    "            lst.append((k,l))\n",
    "    return lst\n",
    "pair_lists = [list_pairs(wd) for wd in range(30)]\n",
    "\n",
    "\n",
    "def fast_w_indices(a_i: int, _w_dim: int):\n",
    "    if a_i >= int(_w_dim*(_w_dim - 1)//2) or a_i < 0 or _w_dim < 2:\n",
    "        return None\n",
    "    if _w_dim < len(pair_lists):\n",
    "        return pair_lists[_w_dim][a_i]\n",
    "    else:\n",
    "        return w_indices(a_i, _w_dim)"
   ],
   "metadata": {
    "collapsed": false
   }
  },
  {
   "cell_type": "code",
   "execution_count": 3,
   "outputs": [
    {
     "name": "stdout",
     "output_type": "stream",
     "text": [
      "[[-0.4159377  -0.03736672  0.25547058]\n",
      " [-1.06641229 -0.14146951 -0.04425991]\n",
      " [-0.30824583  0.41563677 -0.68640744]\n",
      " [ 0.15223566 -0.03635092 -0.51462266]\n",
      " [-0.14455896 -0.40167325 -0.17983259]]\n"
     ]
    }
   ],
   "source": [
    "def gen_4mom_approx(_w_dim: int, _batch_size: int, _W: np.ndarray = None, _K: np.ndarray = None, _H: np.ndarray = None):\n",
    "\n",
    "    _a_dim = int(_w_dim*(_w_dim - 1)//2)\n",
    "\n",
    "    lst = []\n",
    "    for k in range(_w_dim):\n",
    "        for l in range(k+1, _w_dim):\n",
    "            lst.append((k,l))\n",
    "\n",
    "    if _W is None:\n",
    "        __W = np.random.randn(_batch_size, _w_dim)\n",
    "    else:\n",
    "        __W = _W\n",
    "\n",
    "    if _H is None:\n",
    "        __H = sqrt(1/12) * np.random.randn(_batch_size, _w_dim)\n",
    "    else:\n",
    "        __H = _H\n",
    "\n",
    "    if _K is None:\n",
    "        __K = sqrt(1/720) * np.random.randn(_batch_size, _w_dim)\n",
    "    else:\n",
    "        __K = _K\n",
    "\n",
    "    squared_K = np.square(__K)\n",
    "    C = np.random.exponential(8/15, size=(_batch_size, _w_dim))\n",
    "\n",
    "    p = 21130/25621\n",
    "    c = sqrt(1/3) - 8/15\n",
    "\n",
    "    ber = np.random.binomial(1, p = p, size=(_batch_size, _a_dim))\n",
    "    uni = np.random.uniform(-sqrt(3), sqrt(3), size=(_batch_size, _a_dim))\n",
    "    rademacher = np.ones(_a_dim) - 2* np.random.binomial(1, 0.5, size= (_batch_size, _a_dim))\n",
    "    ksi = ber*uni + (1-ber)*rademacher\n",
    "\n",
    "    #print(ksi)\n",
    "\n",
    "\n",
    "    def sigma(i: int, j: int):\n",
    "        return np.sqrt(3/28*(C[:,i] + c)*(C[:,j] + c) + 144/28*(squared_K[:,i] + squared_K[:,j]))\n",
    "\n",
    "    idx = 0\n",
    "    for k in range(_w_dim):\n",
    "        for l in range(k+1, _w_dim):\n",
    "            sig = sigma(k, l)\n",
    "            #print(f\"shape: {sig.shape}, k: {k}, l: {l}, sig: {sig}\")\n",
    "\n",
    "            # now calculate a from ksi and sigma (but store a in ksi)\n",
    "            ksi[:, idx] *= sig\n",
    "\n",
    "            # calculate the whole thing\n",
    "            ksi[:, idx] += __H[:,k]*__W[:,l] - __W[:,k]*__H[:,l] + 12*(__K[:,k]*__H[:,l] - __H[:,k]*__K[:,l])\n",
    "            idx += 1\n",
    "\n",
    "    return ksi\n",
    "\n",
    "print(gen_4mom_approx(3, 5))"
   ],
   "metadata": {
    "collapsed": false
   }
  },
  {
   "cell_type": "code",
   "execution_count": 4,
   "outputs": [
    {
     "name": "stderr",
     "output_type": "stream",
     "text": [
      "/tmp/ipykernel_14848/1692654423.py:1: DeprecationWarning: `np.float` is a deprecated alias for the builtin `float`. To silence this warning, use `float` by itself. Doing this will not modify any behavior and is safe. If you specifically wanted the numpy scalar type, use `np.float64` here.\n",
      "Deprecated in NumPy 1.20; for more details and guidance: https://numpy.org/devdocs/release/1.20.0-notes.html#deprecations\n",
      "  samples = np.genfromtxt('samples/fixed_samples_4-dim.csv', dtype=np.float, delimiter=',')\n"
     ]
    },
    {
     "name": "stdout",
     "output_type": "stream",
     "text": [
      "(65536, 10)\n"
     ]
    }
   ],
   "source": [
    "samples = np.genfromtxt('samples/fixed_samples_4-dim.csv', dtype=np.float, delimiter=',')\n",
    "W = samples[:,:4]\n",
    "a_true = samples[:,4:10]\n",
    "print(samples.shape)\n",
    "bsz = samples.shape[0]\n",
    "generated = gen_4mom_approx(4,bsz,_W=W)\n"
   ],
   "metadata": {
    "collapsed": false
   }
  },
  {
   "cell_type": "code",
   "execution_count": 5,
   "outputs": [
    {
     "name": "stdout",
     "output_type": "stream",
     "text": [
      "(65536, 6)\n"
     ]
    }
   ],
   "source": [
    "print(generated.shape)"
   ],
   "metadata": {
    "collapsed": false
   }
  },
  {
   "cell_type": "code",
   "execution_count": 6,
   "outputs": [
    {
     "name": "stdout",
     "output_type": "stream",
     "text": [
      "[0.005918662187765701, 0.007572179703706825, 0.0049248601010889684, 0.007173870300729153]\n"
     ]
    }
   ],
   "source": [
    "err = [sqrt(ot.wasserstein_1d(a_true[:,i],generated[:,i],p=2)) for i in range(4)]\n",
    "print(err)"
   ],
   "metadata": {
    "collapsed": false
   }
  },
  {
   "cell_type": "code",
   "execution_count": 8,
   "outputs": [
    {
     "name": "stdout",
     "output_type": "stream",
     "text": [
      "0.3306195260239328\n"
     ]
    }
   ],
   "source": [
    "jerr = aux_functions.joint_wass_dist(a_true[:10000], generated[:10000])\n",
    "print(jerr)"
   ],
   "metadata": {
    "collapsed": false
   }
  },
  {
   "cell_type": "code",
   "execution_count": 8,
   "outputs": [
    {
     "name": "stdout",
     "output_type": "stream",
     "text": [
      "[(0, 0, 0, 0), (0, 0, 0, 1), (0, 0, 0, 2), (0, 0, 1, 1), (0, 0, 1, 2), (0, 0, 2, 2), (0, 1, 1, 1), (0, 1, 1, 2), (0, 1, 2, 2), (0, 2, 2, 2), (1, 1, 1, 1), (1, 1, 1, 2), (1, 1, 2, 2), (1, 2, 2, 2), (2, 2, 2, 2)]\n"
     ]
    }
   ],
   "source": [
    "def four_combos(n: int):\n",
    "    lst = []\n",
    "    for i in range(n):\n",
    "        for j in range(i,n):\n",
    "            for k in range(j,n):\n",
    "                for l in range(k,n):\n",
    "                    lst.append((i,j,k,l))\n",
    "    return lst\n",
    "\n",
    "print(four_combos(3))"
   ],
   "metadata": {
    "collapsed": false
   }
  },
  {
   "cell_type": "code",
   "execution_count": 9,
   "outputs": [
    {
     "name": "stdout",
     "output_type": "stream",
     "text": [
      "(262144, 3)\n",
      "combo: (0, 0, 0, 0), 4_match_RV moment: 0.1361759, samples moment: 0.1357276\n",
      "combo: (0, 0, 0, 1), 4_match_RV moment: 0.0326981, samples moment: 0.0357896\n",
      "combo: (0, 0, 0, 2), 4_match_RV moment: 0.0666188, samples moment: 0.0649001\n",
      "combo: (0, 0, 1, 1), 4_match_RV moment: 0.0726994, samples moment: 0.0728633\n",
      "combo: (0, 0, 1, 2), 4_match_RV moment: 0.0008516, samples moment: 0.0013768\n",
      "combo: (0, 0, 2, 2), 4_match_RV moment: 0.0723352, samples moment: 0.0717662\n",
      "combo: (0, 1, 1, 1), 4_match_RV moment: 0.0501095, samples moment: 0.0485544\n",
      "combo: (0, 1, 1, 2), 4_match_RV moment: 0.0278908, samples moment: 0.0279942\n",
      "combo: (0, 1, 2, 2), 4_match_RV moment: 0.0042910, samples moment: 0.0053913\n",
      "combo: (0, 2, 2, 2), 4_match_RV moment: 0.0760783, samples moment: 0.0750950\n",
      "combo: (1, 1, 1, 1), 4_match_RV moment: 0.3016073, samples moment: 0.2966960\n",
      "combo: (1, 1, 1, 2), 4_match_RV moment: -0.0382996, samples moment: -0.0387191\n",
      "combo: (1, 1, 2, 2), 4_match_RV moment: 0.0815085, samples moment: 0.0817711\n",
      "combo: (1, 2, 2, 2), 4_match_RV moment: -0.0324271, samples moment: -0.0313659\n",
      "combo: (2, 2, 2, 2), 4_match_RV moment: 0.1837428, samples moment: 0.1824808\n"
     ]
    }
   ],
   "source": [
    "def fourth_moments(input: np.ndarray):\n",
    "    lst = four_combos(3)\n",
    "    res = []\n",
    "    for i,j,k,l in lst:\n",
    "        col = input[:,i]*input[:,j]*input[:,k]*input[:,l]\n",
    "        res.append(col.mean())\n",
    "    return res\n",
    "\n",
    "\n",
    "w2 = np.concatenate((W,W,W,W), axis=0)\n",
    "print(w2.shape)\n",
    "combo_list = four_combos(3)\n",
    "moms = fourth_moments(generated)\n",
    "moms2 = fourth_moments(a_true)\n",
    "for i in range(len(combo_list)):\n",
    "    print(f\"combo: {combo_list[i]}, 4_match_RV moment: {moms[i] :.7f}, samples moment: {moms2[i] :.7f}\")"
   ],
   "metadata": {
    "collapsed": false
   }
  },
  {
   "cell_type": "code",
   "execution_count": 10,
   "outputs": [
    {
     "name": "stdout",
     "output_type": "stream",
     "text": [
      "(262144, 3)\n"
     ]
    }
   ],
   "source": [
    "w2 = np.concatenate((W,W,W,W), axis=0)\n",
    "print(w2.shape)"
   ],
   "metadata": {
    "collapsed": false
   }
  },
  {
   "cell_type": "code",
   "execution_count": 11,
   "outputs": [
    {
     "name": "stdout",
     "output_type": "stream",
     "text": [
      "combo: (0, 0, 0, 0), 4_match_RV moment: 0.1350575, samples moment: 0.1357276\n",
      "combo: (0, 0, 0, 1), 4_match_RV moment: 0.0336348, samples moment: 0.0357896\n",
      "combo: (0, 0, 0, 2), 4_match_RV moment: 0.0655758, samples moment: 0.0649001\n",
      "combo: (0, 0, 1, 1), 4_match_RV moment: 0.0722153, samples moment: 0.0728633\n",
      "combo: (0, 0, 1, 2), 4_match_RV moment: 0.0007437, samples moment: 0.0013768\n",
      "combo: (0, 0, 2, 2), 4_match_RV moment: 0.0717766, samples moment: 0.0717662\n",
      "combo: (0, 1, 1, 1), 4_match_RV moment: 0.0481259, samples moment: 0.0485544\n",
      "combo: (0, 1, 1, 2), 4_match_RV moment: 0.0280197, samples moment: 0.0279942\n",
      "combo: (0, 1, 2, 2), 4_match_RV moment: 0.0045032, samples moment: 0.0053913\n",
      "combo: (0, 2, 2, 2), 4_match_RV moment: 0.0753795, samples moment: 0.0750950\n",
      "combo: (1, 1, 1, 1), 4_match_RV moment: 0.2946441, samples moment: 0.2966960\n",
      "combo: (1, 1, 1, 2), 4_match_RV moment: -0.0395968, samples moment: -0.0387191\n",
      "combo: (1, 1, 2, 2), 4_match_RV moment: 0.0827522, samples moment: 0.0817711\n",
      "combo: (1, 2, 2, 2), 4_match_RV moment: -0.0326196, samples moment: -0.0313659\n",
      "combo: (2, 2, 2, 2), 4_match_RV moment: 0.1849340, samples moment: 0.1824808\n"
     ]
    }
   ],
   "source": [
    "generated = gen_4mom_approx(3,4*bsz,_W=w2)\n",
    "moms = fourth_moments(generated)\n",
    "for i in range(len(combo_list)):\n",
    "    print(f\"combo: {combo_list[i]}, 4_match_RV moment: {moms[i] :.7f}, samples moment: {moms2[i] :.7f}\")"
   ],
   "metadata": {
    "collapsed": false
   }
  }
 ],
 "metadata": {
  "kernelspec": {
   "display_name": "Python 3",
   "language": "python",
   "name": "python3"
  },
  "language_info": {
   "codemirror_mode": {
    "name": "ipython",
    "version": 2
   },
   "file_extension": ".py",
   "mimetype": "text/x-python",
   "name": "python",
   "nbconvert_exporter": "python",
   "pygments_lexer": "ipython2",
   "version": "2.7.6"
  }
 },
 "nbformat": 4,
 "nbformat_minor": 0
}
