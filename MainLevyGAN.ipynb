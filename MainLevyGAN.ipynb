{
 "cells": [
  {
   "cell_type": "code",
   "execution_count": 1,
   "metadata": {
    "collapsed": true,
    "pycharm": {
     "name": "#%%\n"
    }
   },
   "outputs": [],
   "source": [
    "import torchdata.datapipes as dp\n",
    "from torch.utils.data import DataLoader\n",
    "import torch.nn as nn\n",
    "import torch\n",
    "import numpy as np\n",
    "import ot\n",
    "import matplotlib.pyplot as plt\n",
    "import timeit\n"
   ]
  },
  {
   "cell_type": "code",
   "execution_count": 2,
   "outputs": [],
   "source": [
    "device = torch.device('cpu')\n",
    "\n",
    "noise_size = 62\n",
    "\n",
    "# Number of training epochs\n",
    "num_epochs = 1\n",
    "\n",
    "# Learning rate for optimizers\n",
    "lr = 0.0002\n",
    "\n",
    "# Beta1 hyperparam for Adam optimizers\n",
    "beta1 = 0.5\n",
    "\n",
    "ngpu = 0\n",
    "\n",
    "weight_cliping_limit = 0.01\n",
    "\n",
    "batch_size = 1024\n",
    "\n",
    "test_batch_size = 65536\n",
    "\n",
    "w_dim = 5\n",
    "\n",
    "data_dim = int(w_dim*(w_dim - 1)//2)"
   ],
   "metadata": {
    "collapsed": false,
    "pycharm": {
     "name": "#%%\n"
    }
   }
  },
  {
   "cell_type": "code",
   "execution_count": 3,
   "outputs": [],
   "source": [
    "def row_processer(row):\n",
    "    return np.array(row, dtype= np.float32)\n",
    "\n",
    "filename = f\"samples/samples_{w_dim}-dim.csv\"\n",
    "datapipe = dp.iter.FileOpener([filename], mode='b')\n",
    "datapipe = datapipe.parse_csv(delimiter=',')\n",
    "datapipe = datapipe.map(row_processer)"
   ],
   "metadata": {
    "collapsed": false,
    "pycharm": {
     "name": "#%%\n"
    }
   }
  },
  {
   "cell_type": "code",
   "execution_count": 4,
   "outputs": [],
   "source": [
    "dataloader = DataLoader(dataset=datapipe, batch_size=batch_size, num_workers=2)"
   ],
   "metadata": {
    "collapsed": false,
    "pycharm": {
     "name": "#%%\n"
    }
   }
  },
  {
   "cell_type": "code",
   "execution_count": 5,
   "outputs": [
    {
     "name": "stdout",
     "output_type": "stream",
     "text": [
      "tensor([[ 0.5620,  0.2631, -0.5968,  ..., -0.1593,  0.0411,  0.3750],\n",
      "        [ 0.5172, -0.1408, -1.2289,  ..., -0.1234, -0.0321, -0.0301],\n",
      "        [ 1.4155,  1.1087,  0.6902,  ...,  1.4033,  0.3446,  0.6978],\n",
      "        ...,\n",
      "        [-0.6558,  0.7509,  1.6546,  ...,  0.7923, -0.4857,  0.7040],\n",
      "        [-1.3328,  0.8035,  0.4257,  ...,  0.4013, -0.1146, -0.1568],\n",
      "        [-1.9890, -1.5622,  0.4765,  ..., -0.2772,  0.2376,  0.0805]])\n",
      "torch.Size([1024, 15])\n"
     ]
    }
   ],
   "source": [
    "d = next(iter(dataloader))\n",
    "print(d)\n",
    "print(d.shape)\n",
    "if d.size(1) != data_dim + w_dim:\n",
    "    print(\"!!!!!!!!!!!!!!!!!!!!!!!!! WRONG DATA DIMENSIONS !!!!!!!!!!!!!!!!!!!!!!!!!!!!!!!!!!!\")"
   ],
   "metadata": {
    "collapsed": false,
    "pycharm": {
     "name": "#%%\n"
    }
   }
  },
  {
   "cell_type": "code",
   "execution_count": 6,
   "outputs": [],
   "source": [
    "def weights_init(m):\n",
    "    classname = m.__class__.__name__\n",
    "    if classname.find(\"Conv\") != -1:\n",
    "        nn.init.normal_(m.weight.data, 0.0, 0.02)\n",
    "    if classname.find(\"BatchNorm\") != -1:\n",
    "        nn.init.normal_(m.weight.data, 1.0, 0.02)\n",
    "        nn.init.constant_(m.bias.data, 0.0)"
   ],
   "metadata": {
    "collapsed": false,
    "pycharm": {
     "name": "#%%\n"
    }
   }
  },
  {
   "cell_type": "code",
   "execution_count": 7,
   "outputs": [],
   "source": [
    "class Generator(nn.Module):\n",
    "    def __init__(self):\n",
    "        super(Generator, self).__init__()\n",
    "        self.main = nn.Sequential(\n",
    "            nn.Linear(w_dim+noise_size,512),\n",
    "            nn.BatchNorm1d(512),\n",
    "            nn.ReLU(),\n",
    "\n",
    "            nn.Linear(512,512),\n",
    "            nn.BatchNorm1d(512),\n",
    "            nn.ReLU(),\n",
    "\n",
    "            nn.Linear(512,128),\n",
    "            nn.BatchNorm1d(128),\n",
    "            nn.ReLU(),\n",
    "\n",
    "            nn.Linear(128,data_dim)\n",
    "        )\n",
    "\n",
    "    def forward(self, input):\n",
    "        return self.main(input)"
   ],
   "metadata": {
    "collapsed": false,
    "pycharm": {
     "name": "#%%\n"
    }
   }
  },
  {
   "cell_type": "code",
   "execution_count": 8,
   "outputs": [],
   "source": [
    "class Discriminator(nn.Module):\n",
    "    def __init__(self):\n",
    "        super(Discriminator, self).__init__()\n",
    "        self.main = nn.Sequential(\n",
    "            nn.Linear(w_dim + data_dim,512),\n",
    "            nn.BatchNorm1d(512),\n",
    "            nn.LeakyReLU(0.2),\n",
    "\n",
    "            nn.Linear(512,512),\n",
    "            nn.BatchNorm1d(512),\n",
    "            nn.LeakyReLU(0.2),\n",
    "\n",
    "            nn.Linear(512,128),\n",
    "            nn.BatchNorm1d(128),\n",
    "            nn.LeakyReLU(0.2),\n",
    "\n",
    "            nn.Linear(128,1),\n",
    "            nn.Sigmoid()\n",
    "        )\n",
    "\n",
    "    def forward(self, input):\n",
    "        return self.main(input)"
   ],
   "metadata": {
    "collapsed": false,
    "pycharm": {
     "name": "#%%\n"
    }
   }
  },
  {
   "cell_type": "code",
   "execution_count": 9,
   "outputs": [
    {
     "data": {
      "text/plain": "Generator(\n  (main): Sequential(\n    (0): Linear(in_features=67, out_features=512, bias=True)\n    (1): BatchNorm1d(512, eps=1e-05, momentum=0.1, affine=True, track_running_stats=True)\n    (2): ReLU()\n    (3): Linear(in_features=512, out_features=512, bias=True)\n    (4): BatchNorm1d(512, eps=1e-05, momentum=0.1, affine=True, track_running_stats=True)\n    (5): ReLU()\n    (6): Linear(in_features=512, out_features=128, bias=True)\n    (7): BatchNorm1d(128, eps=1e-05, momentum=0.1, affine=True, track_running_stats=True)\n    (8): ReLU()\n    (9): Linear(in_features=128, out_features=10, bias=True)\n  )\n)"
     },
     "execution_count": 9,
     "metadata": {},
     "output_type": "execute_result"
    }
   ],
   "source": [
    "netD = Discriminator().to(device)\n",
    "netD.apply(weights_init)\n",
    "netG = Generator().to(device)\n",
    "netG.apply(weights_init)"
   ],
   "metadata": {
    "collapsed": false,
    "pycharm": {
     "name": "#%%\n"
    }
   }
  },
  {
   "cell_type": "code",
   "execution_count": 10,
   "outputs": [],
   "source": [
    "optG = torch.optim.Adam(netG.parameters(),lr = lr, betas=(beta1,0.999))\n",
    "optD = torch.optim.Adam(netD.parameters(), lr = lr, betas=(beta1,0.999))\n",
    "\n",
    "W_fixed: torch.Tensor = torch.tensor([1.0,-0.5,-1.2,-0.3,0.7,0.2,-0.9,0.1,1.7])\n",
    "W_fixed = W_fixed[:w_dim].unsqueeze(1).transpose(1,0)\n",
    "W_fixed = W_fixed.expand((test_batch_size,w_dim))\n",
    "\n",
    "test_filename = f\"samples/fixed_samples_{w_dim}-dim.csv\"\n",
    "A_fixed_true = np.genfromtxt(test_filename,dtype=float,delimiter=',',)\n",
    "A_fixed_true = A_fixed_true[:,w_dim:(w_dim+data_dim)]\n",
    "\n",
    "wass_errors = []\n",
    "\n",
    "iters = 0\n",
    "\n",
    "one = torch.FloatTensor([1])\n",
    "mone = one * -1"
   ],
   "metadata": {
    "collapsed": false,
    "pycharm": {
     "name": "#%%\n"
    }
   }
  },
  {
   "cell_type": "code",
   "execution_count": 11,
   "outputs": [
    {
     "name": "stdout",
     "output_type": "stream",
     "text": [
      "epoch: 0/1, iter: 0,\n",
      " errors: ['0.0809', '0.1127', '0.0050', '0.0172', '0.1648', '0.0347', '0.1888', '0.0768', '0.0639', '0.0029']\n",
      "epoch: 0/1, iter: 100,\n",
      " errors: ['0.0722', '0.0810', '0.0050', '0.0066', '0.1457', '0.0694', '0.1981', '0.0734', '0.0409', '0.0239']\n",
      "epoch: 0/1, iter: 200,\n",
      " errors: ['0.0735', '0.0769', '0.0184', '0.0065', '0.1443', '0.0865', '0.1913', '0.0673', '0.0436', '0.0506']\n",
      "epoch: 0/1, iter: 300,\n",
      " errors: ['0.0739', '0.0812', '0.0084', '0.0102', '0.1408', '0.0646', '0.1988', '0.0670', '0.0376', '0.0322']\n",
      "epoch: 0/1, iter: 400,\n",
      " errors: ['0.0764', '0.0831', '0.0225', '0.0112', '0.1217', '0.0539', '0.1689', '0.0542', '0.0398', '0.0390']\n",
      "epoch: 0/1, iter: 500,\n",
      " errors: ['0.0641', '0.0958', '0.0347', '0.0090', '0.1111', '0.0930', '0.1492', '0.0579', '0.0318', '0.0323']\n",
      "epoch: 0/1, iter: 600,\n",
      " errors: ['0.0602', '0.0933', '0.0197', '0.0118', '0.1015', '0.0849', '0.1657', '0.0619', '0.0314', '0.0302']\n",
      "epoch: 0/1, iter: 700,\n",
      " errors: ['0.0667', '0.0921', '0.0181', '0.0189', '0.0983', '0.0663', '0.1547', '0.0451', '0.0288', '0.0390']\n",
      "epoch: 0/1, iter: 800,\n",
      " errors: ['0.0585', '0.0850', '0.0113', '0.0179', '0.0955', '0.0544', '0.1358', '0.0432', '0.0283', '0.0421']\n",
      "epoch: 0/1, iter: 900,\n",
      " errors: ['0.0650', '0.0962', '0.0212', '0.0121', '0.1073', '0.0551', '0.1357', '0.0520', '0.0189', '0.0322']\n",
      "epoch: 0/1, iter: 1000,\n",
      " errors: ['0.0648', '0.1058', '0.0168', '0.0106', '0.0994', '0.0557', '0.1518', '0.0456', '0.0204', '0.0308']\n",
      "epoch: 0/1, iter: 1100,\n",
      " errors: ['0.0673', '0.1201', '0.0092', '0.0108', '0.1046', '0.0604', '0.1501', '0.0499', '0.0183', '0.0238']\n",
      "epoch: 0/1, iter: 1200,\n",
      " errors: ['0.0704', '0.1121', '0.0104', '0.0130', '0.1120', '0.0567', '0.1503', '0.0440', '0.0224', '0.0215']\n",
      "epoch: 0/1, iter: 1300,\n",
      " errors: ['0.0698', '0.1158', '0.0095', '0.0131', '0.1035', '0.0538', '0.1652', '0.0411', '0.0198', '0.0267']\n",
      "epoch: 0/1, iter: 1400,\n",
      " errors: ['0.0652', '0.1268', '0.0118', '0.0136', '0.1094', '0.0557', '0.1523', '0.0489', '0.0138', '0.0253']\n",
      "epoch: 0/1, iter: 1500,\n",
      " errors: ['0.0728', '0.1367', '0.0111', '0.0150', '0.1028', '0.0353', '0.1640', '0.0441', '0.0194', '0.0264']\n",
      "epoch: 0/1, iter: 1600,\n",
      " errors: ['0.0789', '0.1205', '0.0078', '0.0154', '0.1173', '0.0521', '0.1717', '0.0409', '0.0156', '0.0292']\n",
      "epoch: 0/1, iter: 1700,\n",
      " errors: ['0.0748', '0.1542', '0.0078', '0.0134', '0.1027', '0.0592', '0.1720', '0.0355', '0.0125', '0.0324']\n",
      "epoch: 0/1, iter: 1800,\n",
      " errors: ['0.0840', '0.1486', '0.0120', '0.0128', '0.1113', '0.0501', '0.1756', '0.0357', '0.0159', '0.0268']\n",
      "epoch: 0/1, iter: 1900,\n",
      " errors: ['0.0845', '0.1370', '0.0174', '0.0182', '0.1056', '0.0430', '0.1817', '0.0330', '0.0189', '0.0296']\n",
      "epoch: 0/1, iter: 2000,\n",
      " errors: ['0.0891', '0.1377', '0.0125', '0.0267', '0.1026', '0.0440', '0.1945', '0.0346', '0.0202', '0.0249']\n"
     ]
    }
   ],
   "source": [
    "for epoch in range(num_epochs):\n",
    "\n",
    "    for i, data in enumerate(dataloader):\n",
    "        netD.zero_grad()\n",
    "\n",
    "        for p in netD.parameters():\n",
    "            p.data.clamp_(-weight_cliping_limit, weight_cliping_limit)\n",
    "\n",
    "\n",
    "        b_size = data.size(0)\n",
    "\n",
    "        out_D_real = netD(data)\n",
    "        lossDr = out_D_real.mean(0).view(1)\n",
    "        lossDr.backward(one)\n",
    "\n",
    "        W = data[:,:w_dim]\n",
    "        A_real = data[:,w_dim:(w_dim + data_dim)]\n",
    "        noise = torch.randn((b_size,noise_size), dtype=torch.float, device=device)\n",
    "        gen_in = torch.cat((noise,W),1)\n",
    "        generated_A = netG(gen_in)\n",
    "        fake_in = torch.cat((W,generated_A.detach()),1)\n",
    "\n",
    "        lossDf = netD(fake_in)\n",
    "        lossDf = lossDf.mean(0).view(1)\n",
    "        lossDf.backward(mone)\n",
    "        lossD = lossDr - lossDf\n",
    "        optD.step()\n",
    "\n",
    "        if i%10==0:\n",
    "            netG.zero_grad()\n",
    "\n",
    "            fake_in = torch.cat((W,generated_A),1)\n",
    "            lossG = netD(fake_in)\n",
    "            lossG = lossG.mean(0).view(1)\n",
    "            lossG.backward(one)\n",
    "            optG.step()\n",
    "\n",
    "        if iters%100 == 0:\n",
    "\n",
    "            noise = torch.randn((test_batch_size,noise_size), dtype=torch.float, device=device)\n",
    "            g_in = torch.cat((noise,W_fixed),1)\n",
    "            A_fixed_gen = netG(g_in).detach().numpy()\n",
    "            errors = [ot.wasserstein_1d(A_fixed_true[:,i],A_fixed_gen[:,i],p=2) for i in range(data_dim)]\n",
    "            pretty_errors = [\"{0:0.4f}\".format(i) for i in errors]\n",
    "            print(f\"epoch: {epoch}/{num_epochs}, iter: {iters},\\n errors: {pretty_errors}\")\n",
    "            wass_errors.append(errors)\n",
    "\n",
    "        iters += 1"
   ],
   "metadata": {
    "collapsed": false,
    "pycharm": {
     "name": "#%%\n"
    }
   }
  },
  {
   "cell_type": "code",
   "execution_count": 12,
   "outputs": [
    {
     "name": "stderr",
     "output_type": "stream",
     "text": [
      "No artists with labels found to put in legend.  Note that artists whose label start with an underscore are ignored when legend() is called with no argument.\n"
     ]
    },
    {
     "data": {
      "text/plain": "<Figure size 720x360 with 1 Axes>",
      "image/png": "[encoded data removed]"
     },
     "metadata": {
      "needs_background": "light"
     },
     "output_type": "display_data"
    }
   ],
   "source": [
    "plt.figure(figsize=(10,5))\n",
    "plt.title(\"2-Wasserstein distance of generated samples from the original samples for fixed W increment\")\n",
    "plt.plot(wass_errors)\n",
    "plt.xlabel(\"iterations\")\n",
    "plt.ylabel(\"Wasserstein distance\")\n",
    "plt.legend()\n",
    "plt.show()"
   ],
   "metadata": {
    "collapsed": false,
    "pycharm": {
     "name": "#%%\n"
    }
   }
  },
  {
   "cell_type": "code",
   "execution_count": 13,
   "outputs": [
    {
     "name": "stdout",
     "output_type": "stream",
     "text": [
      "0.08908106917858455\n",
      "0.13774727724866473\n",
      "0.012527513446953239\n",
      "0.026671986714016254\n",
      "0.10256036500038915\n",
      "0.043994104617039786\n",
      "0.1945408933736602\n",
      "0.03461292178853844\n",
      "0.020228675943454632\n",
      "0.024874357789166086\n"
     ]
    }
   ],
   "source": [
    "\n",
    "\n",
    "for i in range(data_dim):\n",
    "    true_col = A_fixed_true[:,i]\n",
    "    generated_col = A_fixed_gen[:,i]\n",
    "    dist = ot.wasserstein_1d(true_col,generated_col,p=2)\n",
    "    print(dist)"
   ],
   "metadata": {
    "collapsed": false,
    "pycharm": {
     "name": "#%%\n"
    }
   }
  },
  {
   "cell_type": "code",
   "execution_count": 16,
   "outputs": [
    {
     "name": "stdout",
     "output_type": "stream",
     "text": [
      "34.215258249001636\n"
     ]
    }
   ],
   "source": [
    "W_fixed: torch.Tensor = torch.tensor([1.0,-0.5,-1.2,-0.3,0.7,0.2,-0.9,0.1,1.7])\n",
    "W_fixed = W_fixed[:w_dim].unsqueeze(1).transpose(1,0)\n",
    "W_fixed = W_fixed.expand((test_batch_size,w_dim))\n",
    "noise = torch.randn((test_batch_size,noise_size), dtype=torch.float, device=device)\n",
    "g_in = torch.cat((noise,W_fixed),1)\n",
    "netG.eval()\n",
    "start_time = timeit.default_timer()\n",
    "for i in range(100):\n",
    "    A_fixed_out=netG(g_in)\n",
    "\n",
    "elapsed = timeit.default_timer() - start_time\n",
    "print(elapsed)"
   ],
   "metadata": {
    "collapsed": false,
    "pycharm": {
     "name": "#%%\n"
    }
   }
  },
  {
   "cell_type": "markdown",
   "source": [
    "Takes 34.2s to generate 6553600 samples (original GAN)\n",
    "Calling iterated_integrals(h = 1.0, err = 0.0005) 6553600-times takes 100.5s"
   ],
   "metadata": {
    "collapsed": false,
    "pycharm": {
     "name": "#%% md\n"
    }
   }
  },
  {
   "cell_type": "code",
   "execution_count": 14,
   "outputs": [],
   "source": [],
   "metadata": {
    "collapsed": false,
    "pycharm": {
     "name": "#%%\n"
    }
   }
  },
  {
   "cell_type": "code",
   "execution_count": 14,
   "outputs": [],
   "source": [],
   "metadata": {
    "collapsed": false,
    "pycharm": {
     "name": "#%%\n"
    }
   }
  }
 ],
 "metadata": {
  "kernelspec": {
   "display_name": "Python 3",
   "language": "python",
   "name": "python3"
  },
  "language_info": {
   "codemirror_mode": {
    "name": "ipython",
    "version": 2
   },
   "file_extension": ".py",
   "mimetype": "text/x-python",
   "name": "python",
   "nbconvert_exporter": "python",
   "pygments_lexer": "ipython2",
   "version": "2.7.6"
  }
 },
 "nbformat": 4,
 "nbformat_minor": 0
}