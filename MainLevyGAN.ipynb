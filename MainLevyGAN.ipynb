{
 "cells": [
  {
   "cell_type": "code",
   "execution_count": 1,
   "metadata": {
    "collapsed": true,
    "pycharm": {
     "name": "#%%\n"
    }
   },
   "outputs": [],
   "source": [
    "import torchdata.datapipes as dp\n",
    "from torch.utils.data import DataLoader\n",
    "import torch.nn as nn\n",
    "import torch\n",
    "import numpy as np\n",
    "import ot\n",
    "import matplotlib.pyplot as plt\n",
    "\n"
   ]
  },
  {
   "cell_type": "code",
   "execution_count": 2,
   "outputs": [],
   "source": [
    "device = torch.device('cpu')\n",
    "\n",
    "noise_size = 62\n",
    "\n",
    "# Number of training epochs\n",
    "num_epochs = 6\n",
    "\n",
    "# Learning rate for optimizers\n",
    "lr = 0.0002\n",
    "\n",
    "# Beta1 hyperparam for Adam optimizers\n",
    "beta1 = 0.5\n",
    "\n",
    "ngpu = 0\n",
    "\n",
    "weight_cliping_limit = 0.01\n",
    "\n",
    "batch_size = 1024\n",
    "\n",
    "test_batch_size = 65536\n",
    "\n",
    "w_dim = 5\n",
    "\n",
    "data_dim = int(w_dim*(w_dim - 1)//2)"
   ],
   "metadata": {
    "collapsed": false,
    "pycharm": {
     "name": "#%%\n"
    }
   }
  },
  {
   "cell_type": "code",
   "execution_count": 3,
   "outputs": [],
   "source": [
    "def row_processer(row):\n",
    "    return np.array(row, dtype= np.float32)\n",
    "\n",
    "filename = f\"samples/samples_{w_dim}-dim.csv\"\n",
    "datapipe = dp.iter.FileOpener([filename], mode='b')\n",
    "datapipe = datapipe.parse_csv(delimiter=',')\n",
    "datapipe = datapipe.map(row_processer)"
   ],
   "metadata": {
    "collapsed": false,
    "pycharm": {
     "name": "#%%\n"
    }
   }
  },
  {
   "cell_type": "code",
   "execution_count": 4,
   "outputs": [],
   "source": [
    "dataloader = DataLoader(dataset=datapipe, batch_size=batch_size, num_workers=2)"
   ],
   "metadata": {
    "collapsed": false,
    "pycharm": {
     "name": "#%%\n"
    }
   }
  },
  {
   "cell_type": "code",
   "execution_count": 5,
   "outputs": [
    {
     "name": "stdout",
     "output_type": "stream",
     "text": [
      "tensor([[ 9.1455e-01,  6.7208e-01, -1.2374e+00,  ..., -2.3534e-02,\n",
      "         -7.0288e-03, -2.8679e-02],\n",
      "        [ 1.0073e+00,  3.4495e-01, -5.6485e-01,  ...,  1.0543e-02,\n",
      "          2.2330e-03, -2.3029e-02],\n",
      "        [-1.7327e+00, -1.5207e+00, -1.1753e+00,  ...,  1.3987e-02,\n",
      "          1.8203e-02,  6.4103e-03],\n",
      "        ...,\n",
      "        [ 8.3421e-01,  1.0176e+00,  1.1320e-01,  ...,  1.4090e-04,\n",
      "          1.2732e-03, -1.8352e-03],\n",
      "        [ 9.3480e-01, -8.9103e-01,  5.3051e-03,  ..., -1.1387e-03,\n",
      "         -9.4065e-04, -1.3659e-03],\n",
      "        [ 4.6579e-01,  1.1129e+00,  4.4970e-02,  ...,  7.8472e-04,\n",
      "         -1.4968e-03, -1.3260e-03]])\n",
      "torch.Size([1024, 15])\n"
     ]
    }
   ],
   "source": [
    "d = next(iter(dataloader))\n",
    "print(d)\n",
    "print(d.shape)\n",
    "if d.size(1) != data_dim + w_dim:\n",
    "    print(\"!!!!!!!!!!!!!!!!!!!!!!!!! WRONG DATA DIMENSIONS !!!!!!!!!!!!!!!!!!!!!!!!!!!!!!!!!!!\")"
   ],
   "metadata": {
    "collapsed": false,
    "pycharm": {
     "name": "#%%\n"
    }
   }
  },
  {
   "cell_type": "code",
   "execution_count": 6,
   "outputs": [],
   "source": [
    "def weights_init(m):\n",
    "    classname = m.__class__.__name__\n",
    "    if classname.find(\"Conv\") != -1:\n",
    "        nn.init.normal_(m.weight.data, 0.0, 0.02)\n",
    "    if classname.find(\"BatchNorm\") != -1:\n",
    "        nn.init.normal_(m.weight.data, 1.0, 0.02)\n",
    "        nn.init.constant_(m.bias.data, 0.0)"
   ],
   "metadata": {
    "collapsed": false,
    "pycharm": {
     "name": "#%%\n"
    }
   }
  },
  {
   "cell_type": "code",
   "execution_count": 7,
   "outputs": [],
   "source": [
    "class Generator(nn.Module):\n",
    "    def __init__(self):\n",
    "        super(Generator, self).__init__()\n",
    "        self.main = nn.Sequential(\n",
    "            nn.Linear(w_dim+noise_size,512),\n",
    "            nn.BatchNorm1d(512),\n",
    "            nn.ReLU(),\n",
    "\n",
    "            nn.Linear(512,512),\n",
    "            nn.BatchNorm1d(512),\n",
    "            nn.ReLU(),\n",
    "\n",
    "            nn.Linear(512,128),\n",
    "            nn.BatchNorm1d(128),\n",
    "            nn.ReLU(),\n",
    "\n",
    "            nn.Linear(128,data_dim)\n",
    "        )\n",
    "\n",
    "    def forward(self, input):\n",
    "        return self.main(input)"
   ],
   "metadata": {
    "collapsed": false,
    "pycharm": {
     "name": "#%%\n"
    }
   }
  },
  {
   "cell_type": "code",
   "execution_count": 8,
   "outputs": [],
   "source": [
    "class Discriminator(nn.Module):\n",
    "    def __init__(self):\n",
    "        super(Discriminator, self).__init__()\n",
    "        self.main = nn.Sequential(\n",
    "            nn.Linear(w_dim + data_dim,512),\n",
    "            nn.BatchNorm1d(512),\n",
    "            nn.LeakyReLU(0.2),\n",
    "\n",
    "            nn.Linear(512,512),\n",
    "            nn.BatchNorm1d(512),\n",
    "            nn.LeakyReLU(0.2),\n",
    "\n",
    "            nn.Linear(512,128),\n",
    "            nn.BatchNorm1d(128),\n",
    "            nn.LeakyReLU(0.2),\n",
    "\n",
    "            nn.Linear(128,1),\n",
    "            nn.Sigmoid()\n",
    "        )\n",
    "\n",
    "    def forward(self, input):\n",
    "        return self.main(input)"
   ],
   "metadata": {
    "collapsed": false,
    "pycharm": {
     "name": "#%%\n"
    }
   }
  },
  {
   "cell_type": "code",
   "execution_count": 9,
   "outputs": [
    {
     "data": {
      "text/plain": "Generator(\n  (main): Sequential(\n    (0): Linear(in_features=67, out_features=512, bias=True)\n    (1): BatchNorm1d(512, eps=1e-05, momentum=0.1, affine=True, track_running_stats=True)\n    (2): ReLU()\n    (3): Linear(in_features=512, out_features=512, bias=True)\n    (4): BatchNorm1d(512, eps=1e-05, momentum=0.1, affine=True, track_running_stats=True)\n    (5): ReLU()\n    (6): Linear(in_features=512, out_features=128, bias=True)\n    (7): BatchNorm1d(128, eps=1e-05, momentum=0.1, affine=True, track_running_stats=True)\n    (8): ReLU()\n    (9): Linear(in_features=128, out_features=10, bias=True)\n  )\n)"
     },
     "execution_count": 9,
     "metadata": {},
     "output_type": "execute_result"
    }
   ],
   "source": [
    "netD = Discriminator().to(device)\n",
    "netD.apply(weights_init)\n",
    "netG = Generator().to(device)\n",
    "netG.apply(weights_init)"
   ],
   "metadata": {
    "collapsed": false,
    "pycharm": {
     "name": "#%%\n"
    }
   }
  },
  {
   "cell_type": "code",
   "execution_count": 10,
   "outputs": [],
   "source": [
    "optG = torch.optim.Adam(netG.parameters(),lr = lr, betas=(beta1,0.999))\n",
    "optD = torch.optim.Adam(netD.parameters(), lr = lr, betas=(beta1,0.999))\n",
    "\n",
    "W_fixed: torch.Tensor = torch.tensor([1.0,-0.5,-1.2,-0.3,0.7,0.2,-0.9,0.1,1.7])\n",
    "W_fixed = W_fixed[:w_dim].unsqueeze(1).transpose(1,0)\n",
    "W_fixed = W_fixed.expand((test_batch_size,w_dim))\n",
    "\n",
    "test_filename = f\"samples/fixed_samples_{w_dim}-dim.csv\"\n",
    "A_fixed_true = np.genfromtxt(test_filename,dtype=float,delimiter=',',)\n",
    "A_fixed_true = A_fixed_true[:,w_dim:(w_dim+data_dim)]\n",
    "\n",
    "wass_errors = []\n",
    "\n",
    "iters = 0\n",
    "\n",
    "one = torch.FloatTensor([1])\n",
    "mone = one * -1"
   ],
   "metadata": {
    "collapsed": false,
    "pycharm": {
     "name": "#%%\n"
    }
   }
  },
  {
   "cell_type": "code",
   "execution_count": 11,
   "outputs": [
    {
     "name": "stdout",
     "output_type": "stream",
     "text": [
      "epoch: 0/6, iter: 0,\n",
      " errors: ['0.1235', '0.1695', '0.1577', '0.1709', '0.1012', '0.1801', '0.4842', '0.1575', '0.1406', '0.1745']\n",
      "epoch: 0/6, iter: 100,\n",
      " errors: ['0.0873', '0.1310', '0.1321', '0.1293', '0.0704', '0.1380', '0.4281', '0.1247', '0.1041', '0.1296']\n",
      "epoch: 0/6, iter: 200,\n",
      " errors: ['0.0860', '0.1256', '0.1395', '0.1314', '0.0734', '0.1450', '0.4234', '0.1208', '0.1030', '0.1362']\n",
      "epoch: 0/6, iter: 300,\n",
      " errors: ['0.1060', '0.1372', '0.1506', '0.1346', '0.0803', '0.1544', '0.4271', '0.1296', '0.1051', '0.1864']\n",
      "epoch: 0/6, iter: 400,\n",
      " errors: ['0.1068', '0.1589', '0.1646', '0.1273', '0.0971', '0.1611', '0.4232', '0.1225', '0.1015', '0.2163']\n",
      "epoch: 0/6, iter: 500,\n",
      " errors: ['0.1055', '0.1747', '0.1671', '0.1266', '0.1094', '0.1572', '0.4291', '0.1214', '0.1080', '0.2148']\n",
      "epoch: 0/6, iter: 600,\n",
      " errors: ['0.1092', '0.1841', '0.1711', '0.1308', '0.1271', '0.1560', '0.4402', '0.1262', '0.1140', '0.2071']\n",
      "epoch: 0/6, iter: 700,\n",
      " errors: ['0.1059', '0.1852', '0.1799', '0.1376', '0.1401', '0.1525', '0.4511', '0.1351', '0.1229', '0.2013']\n",
      "epoch: 0/6, iter: 800,\n",
      " errors: ['0.1384', '0.1629', '0.1773', '0.1255', '0.0977', '0.1529', '0.4209', '0.1466', '0.1175', '0.2805']\n",
      "epoch: 0/6, iter: 900,\n",
      " errors: ['0.1447', '0.1580', '0.2204', '0.1184', '0.1069', '0.1546', '0.4001', '0.1426', '0.1170', '0.3438']\n",
      "epoch: 0/6, iter: 1000,\n",
      " errors: ['0.1029', '0.1292', '0.1760', '0.1266', '0.1116', '0.1188', '0.3860', '0.1367', '0.1313', '0.2385']\n",
      "epoch: 0/6, iter: 1100,\n",
      " errors: ['0.0920', '0.1259', '0.1893', '0.1466', '0.1295', '0.1031', '0.3746', '0.1369', '0.1730', '0.1655']\n",
      "epoch: 0/6, iter: 1200,\n",
      " errors: ['0.1024', '0.1297', '0.1649', '0.1925', '0.1191', '0.0994', '0.3880', '0.1558', '0.2214', '0.1454']\n",
      "epoch: 0/6, iter: 1300,\n",
      " errors: ['0.0972', '0.1284', '0.1479', '0.1972', '0.1079', '0.0941', '0.3876', '0.1669', '0.2182', '0.1454']\n",
      "epoch: 0/6, iter: 1400,\n",
      " errors: ['0.0801', '0.1144', '0.1445', '0.1429', '0.0955', '0.0939', '0.3372', '0.1262', '0.1617', '0.1477']\n",
      "epoch: 0/6, iter: 1500,\n",
      " errors: ['0.0665', '0.0916', '0.1212', '0.0902', '0.0702', '0.0888', '0.3068', '0.1006', '0.1195', '0.1080']\n",
      "epoch: 0/6, iter: 1600,\n",
      " errors: ['0.0623', '0.0794', '0.1006', '0.0752', '0.0551', '0.0850', '0.2790', '0.0864', '0.1084', '0.0819']\n",
      "epoch: 0/6, iter: 1700,\n",
      " errors: ['0.0469', '0.0645', '0.0669', '0.0617', '0.0365', '0.0744', '0.2382', '0.0617', '0.0855', '0.0544']\n",
      "epoch: 0/6, iter: 1800,\n",
      " errors: ['0.0408', '0.0458', '0.0527', '0.0495', '0.0257', '0.0579', '0.1901', '0.0444', '0.0666', '0.0374']\n",
      "epoch: 0/6, iter: 1900,\n",
      " errors: ['0.0403', '0.0444', '0.0580', '0.0510', '0.0306', '0.0582', '0.1800', '0.0418', '0.0579', '0.0377']\n",
      "epoch: 0/6, iter: 2000,\n",
      " errors: ['0.0406', '0.0436', '0.0661', '0.0843', '0.0242', '0.0571', '0.1707', '0.0359', '0.0606', '0.0301']\n",
      "epoch: 1/6, iter: 2100,\n",
      " errors: ['0.0351', '0.0372', '0.0503', '0.0563', '0.0230', '0.0472', '0.1537', '0.0322', '0.0518', '0.0269']\n",
      "epoch: 1/6, iter: 2200,\n",
      " errors: ['0.0349', '0.0318', '0.0435', '0.0490', '0.0204', '0.0408', '0.1359', '0.0330', '0.0435', '0.0274']\n",
      "epoch: 1/6, iter: 2300,\n",
      " errors: ['0.0276', '0.0240', '0.0403', '0.0451', '0.0180', '0.0331', '0.1074', '0.0265', '0.0358', '0.0207']\n",
      "epoch: 1/6, iter: 2400,\n",
      " errors: ['0.0279', '0.0235', '0.0380', '0.0436', '0.0278', '0.0385', '0.0857', '0.0313', '0.0318', '0.0234']\n",
      "epoch: 1/6, iter: 2500,\n",
      " errors: ['0.0233', '0.0198', '0.0273', '0.0364', '0.0259', '0.0350', '0.0720', '0.0256', '0.0272', '0.0189']\n",
      "epoch: 1/6, iter: 2600,\n",
      " errors: ['0.0298', '0.0329', '0.0488', '0.0386', '0.0306', '0.0469', '0.0714', '0.0471', '0.0382', '0.0329']\n",
      "epoch: 1/6, iter: 2700,\n",
      " errors: ['0.0347', '0.0451', '0.0719', '0.0400', '0.0398', '0.0610', '0.0642', '0.0509', '0.0472', '0.0384']\n",
      "epoch: 1/6, iter: 2800,\n",
      " errors: ['0.0265', '0.0278', '0.0427', '0.0343', '0.0264', '0.0327', '0.0587', '0.0289', '0.0294', '0.0265']\n",
      "epoch: 1/6, iter: 2900,\n",
      " errors: ['0.0196', '0.0166', '0.0233', '0.0272', '0.0204', '0.0204', '0.0436', '0.0283', '0.0245', '0.0206']\n",
      "epoch: 1/6, iter: 3000,\n",
      " errors: ['0.0199', '0.0128', '0.0203', '0.0275', '0.0167', '0.0215', '0.0433', '0.0292', '0.0241', '0.0205']\n",
      "epoch: 1/6, iter: 3100,\n",
      " errors: ['0.0166', '0.0107', '0.0269', '0.0281', '0.0192', '0.0311', '0.0380', '0.0260', '0.0243', '0.0277']\n",
      "epoch: 1/6, iter: 3200,\n",
      " errors: ['0.0156', '0.0132', '0.0250', '0.0248', '0.0203', '0.0319', '0.0335', '0.0249', '0.0234', '0.0357']\n",
      "epoch: 1/6, iter: 3300,\n",
      " errors: ['0.0154', '0.0144', '0.0288', '0.0320', '0.0273', '0.0412', '0.0406', '0.0268', '0.0252', '0.0528']\n",
      "epoch: 1/6, iter: 3400,\n",
      " errors: ['0.0185', '0.0155', '0.0248', '0.0344', '0.0222', '0.0389', '0.0378', '0.0320', '0.0199', '0.0495']\n",
      "epoch: 1/6, iter: 3500,\n",
      " errors: ['0.0169', '0.0160', '0.0232', '0.0351', '0.0180', '0.0297', '0.0347', '0.0289', '0.0190', '0.0430']\n",
      "epoch: 1/6, iter: 3600,\n",
      " errors: ['0.0132', '0.0100', '0.0161', '0.0272', '0.0114', '0.0150', '0.0319', '0.0240', '0.0169', '0.0219']\n",
      "epoch: 1/6, iter: 3700,\n",
      " errors: ['0.0187', '0.0094', '0.0246', '0.0201', '0.0159', '0.0301', '0.0296', '0.0339', '0.0156', '0.0304']\n",
      "epoch: 1/6, iter: 3800,\n",
      " errors: ['0.0226', '0.0148', '0.0192', '0.0267', '0.0198', '0.0293', '0.0280', '0.0435', '0.0132', '0.0357']\n",
      "epoch: 1/6, iter: 3900,\n",
      " errors: ['0.0150', '0.0111', '0.0198', '0.0292', '0.0135', '0.0210', '0.0418', '0.0272', '0.0353', '0.0343']\n",
      "epoch: 1/6, iter: 4000,\n",
      " errors: ['0.0132', '0.0086', '0.0131', '0.0212', '0.0082', '0.0118', '0.0273', '0.0196', '0.0131', '0.0208']\n",
      "epoch: 2/6, iter: 4100,\n",
      " errors: ['0.0327', '0.0123', '0.0189', '0.0175', '0.0160', '0.0216', '0.0217', '0.0481', '0.0109', '0.0186']\n",
      "epoch: 2/6, iter: 4200,\n",
      " errors: ['0.0136', '0.0047', '0.0097', '0.0155', '0.0054', '0.0069', '0.0252', '0.0195', '0.0165', '0.0099']\n",
      "epoch: 2/6, iter: 4300,\n",
      " errors: ['0.0122', '0.0041', '0.0090', '0.0153', '0.0065', '0.0061', '0.0238', '0.0175', '0.0127', '0.0087']\n",
      "epoch: 2/6, iter: 4400,\n",
      " errors: ['0.0117', '0.0036', '0.0092', '0.0134', '0.0048', '0.0053', '0.0229', '0.0175', '0.0126', '0.0100']\n",
      "epoch: 2/6, iter: 4500,\n",
      " errors: ['0.0145', '0.0044', '0.0088', '0.0128', '0.0078', '0.0098', '0.0212', '0.0286', '0.0153', '0.0105']\n",
      "epoch: 2/6, iter: 4600,\n",
      " errors: ['0.0079', '0.0029', '0.0053', '0.0150', '0.0044', '0.0040', '0.0232', '0.0150', '0.0102', '0.0103']\n",
      "epoch: 2/6, iter: 4700,\n",
      " errors: ['0.0070', '0.0019', '0.0041', '0.0146', '0.0041', '0.0032', '0.0195', '0.0135', '0.0079', '0.0061']\n",
      "epoch: 2/6, iter: 4800,\n",
      " errors: ['0.0330', '0.0518', '0.0419', '0.0805', '0.0185', '0.0228', '0.0799', '0.0167', '0.0609', '0.0711']\n",
      "epoch: 2/6, iter: 4900,\n",
      " errors: ['0.0309', '0.0483', '0.0410', '0.0706', '0.0195', '0.0217', '0.0753', '0.0169', '0.0559', '0.0633']\n",
      "epoch: 2/6, iter: 5000,\n",
      " errors: ['0.0249', '0.0393', '0.0342', '0.0514', '0.0168', '0.0156', '0.0658', '0.0146', '0.0496', '0.0470']\n",
      "epoch: 2/6, iter: 5100,\n",
      " errors: ['0.0213', '0.0300', '0.0272', '0.0410', '0.0163', '0.0121', '0.0599', '0.0145', '0.0536', '0.0387']\n",
      "epoch: 2/6, iter: 5200,\n",
      " errors: ['0.0153', '0.0200', '0.0204', '0.0337', '0.0154', '0.0102', '0.0515', '0.0135', '0.0534', '0.0372']\n",
      "epoch: 2/6, iter: 5300,\n",
      " errors: ['0.0076', '0.0048', '0.0073', '0.0158', '0.0057', '0.0040', '0.0304', '0.0121', '0.0154', '0.0123']\n",
      "epoch: 2/6, iter: 5400,\n",
      " errors: ['0.0086', '0.0149', '0.0232', '0.0319', '0.0165', '0.0135', '0.0503', '0.0150', '0.0256', '0.0247']\n",
      "epoch: 2/6, iter: 5500,\n",
      " errors: ['0.0072', '0.0022', '0.0040', '0.0118', '0.0037', '0.0034', '0.0215', '0.0131', '0.0088', '0.0052']\n",
      "epoch: 2/6, iter: 5600,\n",
      " errors: ['0.0269', '0.0393', '0.0438', '0.0565', '0.0354', '0.0296', '0.0720', '0.0242', '0.0305', '0.0435']\n",
      "epoch: 2/6, iter: 5700,\n",
      " errors: ['0.0198', '0.0275', '0.0358', '0.0441', '0.0261', '0.0212', '0.0557', '0.0188', '0.0249', '0.0313']\n",
      "epoch: 2/6, iter: 5800,\n",
      " errors: ['0.0109', '0.0125', '0.0203', '0.0269', '0.0132', '0.0092', '0.0372', '0.0125', '0.0170', '0.0175']\n",
      "epoch: 2/6, iter: 5900,\n",
      " errors: ['0.0091', '0.0108', '0.0146', '0.0249', '0.0120', '0.0071', '0.0361', '0.0125', '0.0144', '0.0186']\n",
      "epoch: 2/6, iter: 6000,\n",
      " errors: ['0.0061', '0.0029', '0.0049', '0.0142', '0.0052', '0.0028', '0.0219', '0.0106', '0.0086', '0.0083']\n",
      "epoch: 2/6, iter: 6100,\n",
      " errors: ['0.0070', '0.0058', '0.0086', '0.0168', '0.0073', '0.0039', '0.0257', '0.0111', '0.0108', '0.0126']\n",
      "epoch: 3/6, iter: 6200,\n",
      " errors: ['0.0096', '0.0042', '0.0053', '0.0102', '0.0042', '0.0052', '0.0165', '0.0143', '0.0135', '0.0088']\n",
      "epoch: 3/6, iter: 6300,\n",
      " errors: ['0.0072', '0.0018', '0.0024', '0.0100', '0.0032', '0.0032', '0.0168', '0.0127', '0.0082', '0.0035']\n",
      "epoch: 3/6, iter: 6400,\n",
      " errors: ['0.0426', '0.0274', '0.0290', '0.0243', '0.0224', '0.0348', '0.0263', '0.0471', '0.0445', '0.0256']\n",
      "epoch: 3/6, iter: 6500,\n",
      " errors: ['0.0413', '0.0272', '0.0285', '0.0254', '0.0216', '0.0330', '0.0267', '0.0445', '0.0439', '0.0262']\n",
      "epoch: 3/6, iter: 6600,\n",
      " errors: ['0.0333', '0.0206', '0.0230', '0.0220', '0.0173', '0.0259', '0.0232', '0.0371', '0.0376', '0.0232']\n",
      "epoch: 3/6, iter: 6700,\n",
      " errors: ['0.0172', '0.0067', '0.0107', '0.0123', '0.0073', '0.0107', '0.0161', '0.0222', '0.0228', '0.0131']\n",
      "epoch: 3/6, iter: 6800,\n",
      " errors: ['0.0112', '0.0026', '0.0057', '0.0102', '0.0046', '0.0038', '0.0172', '0.0160', '0.0171', '0.0100']\n",
      "epoch: 3/6, iter: 6900,\n",
      " errors: ['0.0080', '0.0111', '0.0086', '0.0263', '0.0128', '0.0074', '0.0371', '0.0118', '0.0060', '0.0084']\n",
      "epoch: 3/6, iter: 7000,\n",
      " errors: ['0.0111', '0.0137', '0.0139', '0.0322', '0.0177', '0.0097', '0.0380', '0.0150', '0.0100', '0.0134']\n",
      "epoch: 3/6, iter: 7100,\n",
      " errors: ['0.0134', '0.0060', '0.0061', '0.0107', '0.0053', '0.0078', '0.0158', '0.0176', '0.0160', '0.0075']\n",
      "epoch: 3/6, iter: 7200,\n",
      " errors: ['0.0298', '0.0178', '0.0192', '0.0182', '0.0141', '0.0191', '0.0208', '0.0334', '0.0348', '0.0186']\n",
      "epoch: 3/6, iter: 7300,\n",
      " errors: ['0.0263', '0.0139', '0.0178', '0.0153', '0.0117', '0.0178', '0.0190', '0.0300', '0.0328', '0.0167']\n",
      "epoch: 3/6, iter: 7400,\n",
      " errors: ['0.0227', '0.0116', '0.0159', '0.0135', '0.0100', '0.0147', '0.0177', '0.0273', '0.0285', '0.0161']\n",
      "epoch: 3/6, iter: 7500,\n",
      " errors: ['0.0076', '0.0092', '0.0074', '0.0262', '0.0129', '0.0090', '0.0366', '0.0103', '0.0061', '0.0088']\n",
      "epoch: 3/6, iter: 7600,\n",
      " errors: ['0.0055', '0.0055', '0.0058', '0.0206', '0.0096', '0.0059', '0.0299', '0.0093', '0.0060', '0.0072']\n",
      "epoch: 3/6, iter: 7700,\n",
      " errors: ['0.0049', '0.0017', '0.0029', '0.0125', '0.0045', '0.0021', '0.0201', '0.0101', '0.0071', '0.0042']\n",
      "epoch: 3/6, iter: 7800,\n",
      " errors: ['0.0252', '0.0123', '0.0140', '0.0144', '0.0106', '0.0164', '0.0169', '0.0318', '0.0286', '0.0128']\n",
      "epoch: 3/6, iter: 7900,\n",
      " errors: ['0.0094', '0.0020', '0.0043', '0.0094', '0.0036', '0.0042', '0.0148', '0.0161', '0.0119', '0.0047']\n",
      "epoch: 3/6, iter: 8000,\n",
      " errors: ['0.0049', '0.0049', '0.0034', '0.0189', '0.0073', '0.0031', '0.0260', '0.0088', '0.0059', '0.0055']\n",
      "epoch: 3/6, iter: 8100,\n",
      " errors: ['0.0148', '0.0057', '0.0084', '0.0107', '0.0064', '0.0093', '0.0158', '0.0228', '0.0178', '0.0088']\n",
      "epoch: 4/6, iter: 8200,\n",
      " errors: ['0.0057', '0.0017', '0.0023', '0.0125', '0.0041', '0.0019', '0.0189', '0.0105', '0.0068', '0.0041']\n",
      "epoch: 4/6, iter: 8300,\n",
      " errors: ['0.0062', '0.0012', '0.0022', '0.0105', '0.0035', '0.0023', '0.0167', '0.0113', '0.0068', '0.0034']\n",
      "epoch: 4/6, iter: 8400,\n",
      " errors: ['0.0348', '0.0490', '0.0450', '0.0734', '0.0528', '0.0399', '0.0882', '0.0335', '0.0395', '0.0543']\n",
      "epoch: 4/6, iter: 8500,\n",
      " errors: ['0.0347', '0.0513', '0.0447', '0.0748', '0.0534', '0.0398', '0.0921', '0.0342', '0.0397', '0.0543']\n",
      "epoch: 4/6, iter: 8600,\n",
      " errors: ['0.0337', '0.0486', '0.0436', '0.0728', '0.0519', '0.0384', '0.0881', '0.0325', '0.0392', '0.0532']\n",
      "epoch: 4/6, iter: 8700,\n",
      " errors: ['0.0305', '0.0462', '0.0400', '0.0689', '0.0485', '0.0352', '0.0859', '0.0308', '0.0356', '0.0488']\n",
      "epoch: 4/6, iter: 8800,\n",
      " errors: ['0.0272', '0.0395', '0.0352', '0.0624', '0.0430', '0.0307', '0.0765', '0.0264', '0.0326', '0.0441']\n",
      "epoch: 4/6, iter: 8900,\n",
      " errors: ['0.0247', '0.0376', '0.0323', '0.0591', '0.0402', '0.0280', '0.0743', '0.0247', '0.0300', '0.0408']\n",
      "epoch: 4/6, iter: 9000,\n",
      " errors: ['0.0211', '0.0314', '0.0276', '0.0529', '0.0347', '0.0237', '0.0666', '0.0206', '0.0270', '0.0364']\n",
      "epoch: 4/6, iter: 9100,\n",
      " errors: ['0.0207', '0.0313', '0.0276', '0.0524', '0.0344', '0.0233', '0.0678', '0.0202', '0.0273', '0.0364']\n",
      "epoch: 4/6, iter: 9200,\n",
      " errors: ['0.0127', '0.0192', '0.0178', '0.0385', '0.0228', '0.0141', '0.0524', '0.0137', '0.0191', '0.0250']\n",
      "epoch: 4/6, iter: 9300,\n",
      " errors: ['0.0055', '0.0018', '0.0030', '0.0123', '0.0041', '0.0027', '0.0200', '0.0107', '0.0069', '0.0043']\n",
      "epoch: 4/6, iter: 9400,\n",
      " errors: ['0.0060', '0.0091', '0.0082', '0.0251', '0.0118', '0.0065', '0.0384', '0.0097', '0.0081', '0.0128']\n",
      "epoch: 4/6, iter: 9500,\n",
      " errors: ['0.0136', '0.0217', '0.0205', '0.0413', '0.0244', '0.0173', '0.0593', '0.0168', '0.0176', '0.0271']\n",
      "epoch: 4/6, iter: 9600,\n",
      " errors: ['0.0079', '0.0130', '0.0130', '0.0298', '0.0160', '0.0102', '0.0450', '0.0120', '0.0120', '0.0178']\n",
      "epoch: 4/6, iter: 9700,\n",
      " errors: ['0.0041', '0.0033', '0.0050', '0.0156', '0.0065', '0.0030', '0.0267', '0.0088', '0.0076', '0.0079']\n",
      "epoch: 4/6, iter: 9800,\n",
      " errors: ['0.0049', '0.0018', '0.0046', '0.0117', '0.0046', '0.0025', '0.0202', '0.0101', '0.0073', '0.0059']\n",
      "epoch: 4/6, iter: 9900,\n",
      " errors: ['0.0058', '0.0105', '0.0114', '0.0253', '0.0144', '0.0081', '0.0353', '0.0107', '0.0097', '0.0153']\n",
      "epoch: 4/6, iter: 10000,\n",
      " errors: ['0.0037', '0.0046', '0.0055', '0.0173', '0.0079', '0.0034', '0.0255', '0.0083', '0.0061', '0.0080']\n",
      "epoch: 4/6, iter: 10100,\n",
      " errors: ['0.0077', '0.0131', '0.0115', '0.0296', '0.0166', '0.0090', '0.0412', '0.0118', '0.0103', '0.0164']\n",
      "epoch: 4/6, iter: 10200,\n",
      " errors: ['0.0098', '0.0160', '0.0152', '0.0340', '0.0203', '0.0127', '0.0451', '0.0141', '0.0127', '0.0205']\n",
      "epoch: 5/6, iter: 10300,\n",
      " errors: ['0.0227', '0.0121', '0.0144', '0.0130', '0.0108', '0.0163', '0.0163', '0.0255', '0.0238', '0.0126']\n",
      "epoch: 5/6, iter: 10400,\n",
      " errors: ['0.0374', '0.0256', '0.0289', '0.0206', '0.0205', '0.0311', '0.0238', '0.0401', '0.0395', '0.0243']\n",
      "epoch: 5/6, iter: 10500,\n",
      " errors: ['0.0374', '0.0262', '0.0308', '0.0210', '0.0207', '0.0320', '0.0236', '0.0407', '0.0403', '0.0254']\n",
      "epoch: 5/6, iter: 10600,\n",
      " errors: ['0.0262', '0.0155', '0.0207', '0.0147', '0.0127', '0.0203', '0.0159', '0.0291', '0.0298', '0.0169']\n",
      "epoch: 5/6, iter: 10700,\n",
      " errors: ['0.0130', '0.0065', '0.0094', '0.0117', '0.0063', '0.0080', '0.0129', '0.0196', '0.0195', '0.0087']\n",
      "epoch: 5/6, iter: 10800,\n",
      " errors: ['0.0114', '0.0037', '0.0174', '0.0057', '0.0059', '0.0095', '0.0092', '0.0220', '0.0218', '0.0109']\n",
      "epoch: 5/6, iter: 10900,\n",
      " errors: ['0.0077', '0.0015', '0.0130', '0.0054', '0.0036', '0.0058', '0.0091', '0.0167', '0.0146', '0.0074']\n",
      "epoch: 5/6, iter: 11000,\n",
      " errors: ['0.0068', '0.0079', '0.0055', '0.0165', '0.0080', '0.0037', '0.0225', '0.0095', '0.0051', '0.0075']\n",
      "epoch: 5/6, iter: 11100,\n",
      " errors: ['0.0098', '0.0022', '0.0075', '0.0050', '0.0044', '0.0067', '0.0080', '0.0193', '0.0145', '0.0072']\n",
      "epoch: 5/6, iter: 11200,\n",
      " errors: ['0.0206', '0.0096', '0.0124', '0.0100', '0.0116', '0.0163', '0.0124', '0.0330', '0.0287', '0.0149']\n",
      "epoch: 5/6, iter: 11300,\n",
      " errors: ['0.0124', '0.0034', '0.0076', '0.0058', '0.0058', '0.0086', '0.0084', '0.0228', '0.0173', '0.0088']\n",
      "epoch: 5/6, iter: 11400,\n",
      " errors: ['0.0185', '0.0264', '0.0252', '0.0369', '0.0247', '0.0180', '0.0465', '0.0161', '0.0161', '0.0237']\n",
      "epoch: 5/6, iter: 11500,\n",
      " errors: ['0.0223', '0.0319', '0.0291', '0.0431', '0.0290', '0.0218', '0.0532', '0.0186', '0.0195', '0.0282']\n",
      "epoch: 5/6, iter: 11600,\n",
      " errors: ['0.0260', '0.0368', '0.0339', '0.0482', '0.0335', '0.0278', '0.0590', '0.0220', '0.0225', '0.0319']\n",
      "epoch: 5/6, iter: 11700,\n",
      " errors: ['0.0199', '0.0286', '0.0262', '0.0397', '0.0263', '0.0205', '0.0492', '0.0174', '0.0172', '0.0247']\n",
      "epoch: 5/6, iter: 11800,\n",
      " errors: ['0.0108', '0.0144', '0.0150', '0.0241', '0.0149', '0.0102', '0.0316', '0.0117', '0.0091', '0.0135']\n",
      "epoch: 5/6, iter: 11900,\n",
      " errors: ['0.0069', '0.0080', '0.0094', '0.0163', '0.0089', '0.0055', '0.0228', '0.0097', '0.0061', '0.0078']\n",
      "epoch: 5/6, iter: 12000,\n",
      " errors: ['0.0075', '0.0090', '0.0100', '0.0175', '0.0095', '0.0063', '0.0243', '0.0100', '0.0065', '0.0083']\n",
      "epoch: 5/6, iter: 12100,\n",
      " errors: ['0.0101', '0.0025', '0.0068', '0.0047', '0.0037', '0.0051', '0.0080', '0.0182', '0.0134', '0.0064']\n",
      "epoch: 5/6, iter: 12200,\n",
      " errors: ['0.0287', '0.0293', '0.0489', '0.0429', '0.0437', '0.0371', '0.0548', '0.0311', '0.0300', '0.0420']\n"
     ]
    }
   ],
   "source": [
    "for epoch in range(num_epochs):\n",
    "\n",
    "    for i, data in enumerate(dataloader):\n",
    "        netD.zero_grad()\n",
    "\n",
    "        for p in netD.parameters():\n",
    "            p.data.clamp_(-weight_cliping_limit, weight_cliping_limit)\n",
    "\n",
    "\n",
    "        b_size = data.size(0)\n",
    "\n",
    "        out_D_real = netD(data)\n",
    "        lossDr = out_D_real.mean(0).view(1)\n",
    "        lossDr.backward(one)\n",
    "\n",
    "        W = data[:,:w_dim]\n",
    "        A_real = data[:,w_dim:(w_dim + data_dim)]\n",
    "        noise = torch.randn((b_size,noise_size), dtype=torch.float, device=device)\n",
    "        gen_in = torch.cat((noise,W),1)\n",
    "        generated_A = netG(gen_in)\n",
    "        fake_in = torch.cat((W,generated_A.detach()),1)\n",
    "\n",
    "        lossDf = netD(fake_in)\n",
    "        lossDf = lossDf.mean(0).view(1)\n",
    "        lossDf.backward(mone)\n",
    "        lossD = lossDr - lossDf\n",
    "        optD.step()\n",
    "\n",
    "        if i%10==0:\n",
    "            netG.zero_grad()\n",
    "\n",
    "            fake_in = torch.cat((W,generated_A),1)\n",
    "            lossG = netD(fake_in)\n",
    "            lossG = lossG.mean(0).view(1)\n",
    "            lossG.backward(one)\n",
    "            optG.step()\n",
    "\n",
    "        if iters%100 == 0:\n",
    "\n",
    "            noise = torch.randn((test_batch_size,noise_size), dtype=torch.float, device=device)\n",
    "            g_in = torch.cat((noise,W_fixed),1)\n",
    "            A_fixed_gen = netG(g_in).detach().numpy()\n",
    "            errors = [ot.wasserstein_1d(A_fixed_true[:,i],A_fixed_gen[:,i],p=2) for i in range(data_dim)]\n",
    "            pretty_errors = [\"{0:0.4f}\".format(i) for i in errors]\n",
    "            print(f\"epoch: {epoch}/{num_epochs}, iter: {iters},\\n errors: {pretty_errors}\")\n",
    "            wass_errors.append(errors)\n",
    "\n",
    "        iters += 1"
   ],
   "metadata": {
    "collapsed": false,
    "pycharm": {
     "name": "#%%\n"
    }
   }
  },
  {
   "cell_type": "code",
   "execution_count": 12,
   "outputs": [
    {
     "name": "stderr",
     "output_type": "stream",
     "text": [
      "No artists with labels found to put in legend.  Note that artists whose label start with an underscore are ignored when legend() is called with no argument.\n"
     ]
    },
    {
     "data": {
      "text/plain": "<Figure size 720x360 with 1 Axes>",
      "image/png": "[encoded data removed]"
     },
     "metadata": {
      "needs_background": "light"
     },
     "output_type": "display_data"
    }
   ],
   "source": [
    "plt.figure(figsize=(10,5))\n",
    "plt.title(\"2-Wasserstein distance of generated samples from the original samples for fixed W increment\")\n",
    "plt.plot(wass_errors)\n",
    "plt.xlabel(\"iterations\")\n",
    "plt.ylabel(\"Wasserstein distance\")\n",
    "plt.legend()\n",
    "plt.show()"
   ],
   "metadata": {
    "collapsed": false,
    "pycharm": {
     "name": "#%%\n"
    }
   }
  },
  {
   "cell_type": "code",
   "execution_count": 15,
   "outputs": [
    {
     "name": "stdout",
     "output_type": "stream",
     "text": [
      "0.02739226736530124\n",
      "0.028295709151979195\n",
      "0.047952714300067555\n",
      "0.04085931943229795\n",
      "0.04231588662638354\n",
      "0.036230958221288995\n",
      "0.05351002444724435\n",
      "0.03030628998118454\n",
      "0.0286379082773687\n",
      "0.040540167692470944\n"
     ]
    }
   ],
   "source": [
    "\n",
    "\n",
    "for i in range(data_dim):\n",
    "    true_col = A_fixed_true[:,i]\n",
    "    generated_col = A_fixed_gen[:,i]\n",
    "    dist = ot.wasserstein_1d(true_col,generated_col,p=2)\n",
    "    print(dist)"
   ],
   "metadata": {
    "collapsed": false,
    "pycharm": {
     "name": "#%%\n"
    }
   }
  },
  {
   "cell_type": "code",
   "execution_count": 15,
   "outputs": [],
   "source": [],
   "metadata": {
    "collapsed": false,
    "pycharm": {
     "name": "#%%\n"
    }
   }
  }
 ],
 "metadata": {
  "kernelspec": {
   "display_name": "Python 3",
   "language": "python",
   "name": "python3"
  },
  "language_info": {
   "codemirror_mode": {
    "name": "ipython",
    "version": 2
   },
   "file_extension": ".py",
   "mimetype": "text/x-python",
   "name": "python",
   "nbconvert_exporter": "python",
   "pygments_lexer": "ipython2",
   "version": "2.7.6"
  }
 },
 "nbformat": 4,
 "nbformat_minor": 0
}