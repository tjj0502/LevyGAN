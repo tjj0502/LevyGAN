{
 "cells": [
  {
   "cell_type": "code",
   "execution_count": 2,
   "metadata": {
    "collapsed": true
   },
   "outputs": [],
   "source": [
    "import torchdata.datapipes as dp\n",
    "from torch.utils.data import DataLoader\n",
    "import torch.nn as nn\n",
    "import torch\n",
    "import numpy as np\n",
    "import ot\n",
    "import matplotlib.pyplot as plt\n",
    "import timeit\n",
    "import copy\n",
    "from math import sqrt\n",
    "\n",
    "from torch.autograd import grad as torch_grad"
   ]
  },
  {
   "cell_type": "code",
   "execution_count": 22,
   "outputs": [],
   "source": [
    "device = torch.device('cpu')\n",
    "noise_size = 62\n",
    "batch_size = 1024\n",
    "w_dim = 4\n",
    "a_dim = int(w_dim*(w_dim - 1)//2)\n",
    "s_dim = int(2**w_dim)"
   ],
   "metadata": {
    "collapsed": false
   }
  },
  {
   "cell_type": "code",
   "execution_count": 17,
   "outputs": [],
   "source": [
    "# calculate T and M\n",
    "\n",
    "def generate_signs(n: int):\n",
    "    lst = []\n",
    "    for i in range(2**n):\n",
    "        binary_exp = list(bin(i)[2:])\n",
    "        lst.append((n-len(binary_exp))*[0]+binary_exp)\n",
    "\n",
    "    res = 2*np.array(lst, dtype=float) - np.ones((2**n,n), dtype=float)\n",
    "    return res\n",
    "\n",
    "signs = generate_signs(w_dim)\n",
    "\n",
    "first_dim = []\n",
    "second_dim = []\n",
    "third_dim = []\n",
    "fourth_dim = []\n",
    "values = []\n",
    "M_list = []\n",
    "\n",
    "for s in range(len(signs)):\n",
    "    idx = 0\n",
    "    M_row = []\n",
    "    for i in range(w_dim):\n",
    "        for j in range(i+1,w_dim):\n",
    "            first_dim.append(s)\n",
    "            second_dim.append(idx)\n",
    "            third_dim.append(i)\n",
    "            fourth_dim.append(j)\n",
    "            values.append(-1*signs[s,j].item())\n",
    "            first_dim.append(s)\n",
    "            second_dim.append(idx)\n",
    "            third_dim.append(j)\n",
    "            fourth_dim.append(i)\n",
    "            values.append(signs[s,j].item())\n",
    "            idx+=1\n",
    "            M_row.append(signs[s,j].item() * signs[s,i].item())\n",
    "    M_list.append(M_row)\n",
    "\n",
    "indices = [first_dim,second_dim,third_dim,fourth_dim]\n",
    "T = torch.sparse_coo_tensor(indices=indices,values=values, size = (len(signs),a_dim,w_dim,w_dim)).to_dense().contiguous()\n",
    "\n",
    "M = torch.tensor(M_list).unsqueeze(1).contiguous()\n",
    "\n",
    "\n",
    "# A function that takes W, H and B (B is the Levy Area of the Brownian Bridge) and computes A = WTH+MB\n",
    "# where the hell is maribor anyway?\n",
    "def wthmb(w_in: torch.Tensor, h_in: torch.Tensor, b_in: torch.Tensor):\n",
    "    _bsz = w_in.shape[0]\n",
    "    assert w_in.shape == (_bsz,w_dim)\n",
    "    assert h_in.shape == (_bsz, w_dim)\n",
    "    assert b_in.shape == (_bsz, a_dim)\n",
    "    _W = w_in.view(1,1,_bsz,w_dim)\n",
    "    _H = h_in.view(_bsz,w_dim,1)\n",
    "    _B = b_in.view(1,_bsz,a_dim)\n",
    "    WT = torch.matmul(_W, T).permute(0,2,1,3)\n",
    "    WTH = torch.matmul(WT, _H).squeeze()\n",
    "    MB = torch.mul(M,_B)\n",
    "    return torch.flatten(WTH + MB, start_dim=0,end_dim=1)\n",
    "\n",
    "def wth(w_in: torch.Tensor, h_in: torch.Tensor):\n",
    "    _bsz = w_in.shape[0]\n",
    "    assert w_in.shape == (_bsz,w_dim)\n",
    "    assert h_in.shape == (_bsz, w_dim, 1)\n",
    "    _W = w_in.view(1,1,_bsz,w_dim)\n",
    "    WT = torch.matmul(_W, T).permute(0,2,1,3)\n",
    "    WTH = torch.flatten(torch.matmul(WT, h_in).squeeze(), start_dim=0,end_dim=1).detach()\n",
    "    return WTH\n"
   ],
   "metadata": {
    "collapsed": false
   }
  },
  {
   "cell_type": "code",
   "execution_count": 18,
   "outputs": [],
   "source": [
    "h_dim = w_dim\n",
    "W = torch.randn((batch_size,w_dim), dtype= torch.float)\n",
    "H = torch.randn((batch_size,w_dim), dtype= torch.float)\n",
    "B = torch.randn((batch_size,a_dim), dtype= torch.float)\n",
    "\n",
    "# print(W)\n",
    "# print(H)\n",
    "# print(B)"
   ],
   "metadata": {
    "collapsed": false
   }
  },
  {
   "cell_type": "code",
   "execution_count": 25,
   "outputs": [
    {
     "name": "stdout",
     "output_type": "stream",
     "text": [
      "2.7808924890000526\n"
     ]
    }
   ],
   "source": [
    "start_time = timeit.default_timer()\n",
    "for i in range(10000):\n",
    "    a = torch.randperm(batch_size*s_dim)[:batch_size]\n",
    "\n",
    "elapsed = timeit.default_timer() - start_time\n",
    "print(elapsed)\n"
   ],
   "metadata": {
    "collapsed": false
   }
  },
  {
   "cell_type": "code",
   "execution_count": null,
   "outputs": [],
   "source": [
    "class symGenerator1(nn.Module):\n",
    "    def __init__(self):\n",
    "        super(symGenerator1, self).__init__()\n",
    "        self.main = nn.Sequential(\n",
    "            nn.Linear(w_dim+noise_size,512),\n",
    "            nn.BatchNorm1d(512),\n",
    "            nn.ReLU(),\n",
    "\n",
    "            nn.Linear(512,512),\n",
    "            nn.BatchNorm1d(512),\n",
    "            nn.ReLU(),\n",
    "\n",
    "            nn.Linear(512,128),\n",
    "            nn.BatchNorm1d(128),\n",
    "            nn.ReLU(),\n",
    "            nn.Linear(128,w_dim+a_dim)\n",
    "        )\n",
    "\n",
    "    def forward(self, input):\n",
    "        w = input[:,noise_size:w_dim+noise_size]\n",
    "        x = self.main(input)\n",
    "        h = x[:,:w_dim]\n",
    "        b = x[:,w_dim:w_dim+a_dim]\n",
    "        return wthmb(w,h,b)\n",
    "\n"
   ],
   "metadata": {
    "collapsed": false
   }
  },
  {
   "cell_type": "code",
   "execution_count": null,
   "outputs": [],
   "source": [
    "class HsymGenerator1(nn.Module):\n",
    "    def __init__(self):\n",
    "        super(HsymGenerator1, self).__init__()\n",
    "        self.main = nn.Sequential(\n",
    "            nn.Linear(w_dim +noise_size,512),\n",
    "            nn.BatchNorm1d(512),\n",
    "            nn.ReLU(),\n",
    "\n",
    "            nn.Linear(512,512),\n",
    "            nn.BatchNorm1d(512),\n",
    "            nn.ReLU(),\n",
    "\n",
    "            nn.Linear(512,128),\n",
    "            nn.BatchNorm1d(128),\n",
    "            nn.ReLU(),\n",
    "            nn.Linear(128,a_dim)\n",
    "        )\n",
    "\n",
    "    def forward(self, input):\n",
    "        w = input[:,noise_size:w_dim+noise_size]\n",
    "        bsz = input.shape[0]\n",
    "        h = sqrt(1/12) * torch.randn((bsz,w_dim), dtype=torch.float)\n",
    "        noise = input[:,:noise_size]\n",
    "        x = torch.cat((noise,h),dim=1)\n",
    "        b = self.main(x)\n",
    "        return wthmb(w,h,b)\n"
   ],
   "metadata": {
    "collapsed": false
   }
  }
 ],
 "metadata": {
  "kernelspec": {
   "display_name": "Python 3",
   "language": "python",
   "name": "python3"
  },
  "language_info": {
   "codemirror_mode": {
    "name": "ipython",
    "version": 2
   },
   "file_extension": ".py",
   "mimetype": "text/x-python",
   "name": "python",
   "nbconvert_exporter": "python",
   "pygments_lexer": "ipython2",
   "version": "2.7.6"
  }
 },
 "nbformat": 4,
 "nbformat_minor": 0
}
