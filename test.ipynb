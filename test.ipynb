{
 "cells": [
  {
   "cell_type": "code",
   "execution_count": 1,
   "outputs": [],
   "source": [
    "import numpy as np\n",
    "import ot\n",
    "import torch\n",
    "from math import sqrt\n",
    "import matplotlib.pyplot as plt\n",
    "import timeit\n",
    "\n",
    "from TheGAN import LevyGAN\n",
    "from aux_functions import *"
   ],
   "metadata": {
    "collapsed": false
   }
  },
  {
   "cell_type": "code",
   "execution_count": 6,
   "outputs": [],
   "source": [
    "lines = [\"abc\", 'def', \"ghi\"]\n",
    "\n",
    "with open(\"blublek.txt\", \"a+\") as f:\n",
    "    f.writelines(lines)"
   ],
   "metadata": {
    "collapsed": false
   }
  },
  {
   "cell_type": "code",
   "execution_count": 1,
   "outputs": [
    {
     "ename": "NameError",
     "evalue": "name 'np' is not defined",
     "output_type": "error",
     "traceback": [
      "\u001B[0;31m---------------------------------------------------------------------------\u001B[0m",
      "\u001B[0;31mNameError\u001B[0m                                 Traceback (most recent call last)",
      "Input \u001B[0;32mIn [1]\u001B[0m, in \u001B[0;36m<cell line: 7>\u001B[0;34m()\u001B[0m\n\u001B[1;32m      4\u001B[0m a_dim \u001B[38;5;241m=\u001B[39m \u001B[38;5;241m6\u001B[39m\n\u001B[1;32m      5\u001B[0m \u001B[38;5;66;03m#shit_samples = torch.randn((262144,10), dtype=torch.float)\u001B[39;00m\n\u001B[1;32m      6\u001B[0m \u001B[38;5;66;03m#low_prec_samples = torch.tensor(np.genfromtxt('samples/low_prec_samples.csv', dtype=float,delimiter=','))\u001B[39;00m\n\u001B[0;32m----> 7\u001B[0m mid_prec_samples \u001B[38;5;241m=\u001B[39m \u001B[43mnp\u001B[49m\u001B[38;5;241m.\u001B[39mgenfromtxt(\u001B[38;5;124m'\u001B[39m\u001B[38;5;124msamples/mid_prec_fixed_samples.csv\u001B[39m\u001B[38;5;124m'\u001B[39m, dtype\u001B[38;5;241m=\u001B[39m\u001B[38;5;28mfloat\u001B[39m,delimiter\u001B[38;5;241m=\u001B[39m\u001B[38;5;124m'\u001B[39m\u001B[38;5;124m,\u001B[39m\u001B[38;5;124m'\u001B[39m)\n\u001B[1;32m      8\u001B[0m high_prec_samples \u001B[38;5;241m=\u001B[39m np\u001B[38;5;241m.\u001B[39mgenfromtxt(\u001B[38;5;124m'\u001B[39m\u001B[38;5;124msamples/high_prec_fixed_samples.csv\u001B[39m\u001B[38;5;124m'\u001B[39m, dtype\u001B[38;5;241m=\u001B[39m\u001B[38;5;28mfloat\u001B[39m,delimiter\u001B[38;5;241m=\u001B[39m\u001B[38;5;124m'\u001B[39m\u001B[38;5;124m,\u001B[39m\u001B[38;5;124m'\u001B[39m)\n\u001B[1;32m      9\u001B[0m \u001B[38;5;28mprint\u001B[39m(mid_prec_samples\u001B[38;5;241m.\u001B[39mshape)\n",
      "\u001B[0;31mNameError\u001B[0m: name 'np' is not defined"
     ]
    }
   ],
   "source": [
    "# PROOF THAT CHEN RELATION WORKS\n",
    "\n",
    "w_dim = 4\n",
    "a_dim = 6\n",
    "#shit_samples = torch.randn((262144,10), dtype=torch.float)\n",
    "#low_prec_samples = torch.tensor(np.genfromtxt('samples/low_prec_samples.csv', dtype=float,delimiter=','))\n",
    "mid_prec_samples = np.genfromtxt('samples/mid_prec_fixed_samples.csv', dtype=float,delimiter=',')\n",
    "high_prec_samples = np.genfromtxt('samples/high_prec_fixed_samples.csv', dtype=float,delimiter=',')\n",
    "print(mid_prec_samples.shape)\n",
    "print(high_prec_samples.shape)\n"
   ],
   "metadata": {
    "collapsed": false
   }
  },
  {
   "cell_type": "markdown",
   "source": [
    "# 4D joint error convergence wrt bsz"
   ],
   "metadata": {
    "collapsed": false
   }
  },
  {
   "cell_type": "code",
   "execution_count": 2,
   "outputs": [
    {
     "name": "stdout",
     "output_type": "stream",
     "text": [
      "batch size: 1, joint error: 1.7390, time to compute: 0.0046\n",
      "batch size: 2, joint error: 1.1340, time to compute: 0.0026\n",
      "batch size: 4, joint error: 0.9144, time to compute: 0.0004\n",
      "batch size: 8, joint error: 1.1132, time to compute: 0.0003\n",
      "batch size: 16, joint error: 0.8568, time to compute: 0.0003\n",
      "batch size: 32, joint error: 0.8304, time to compute: 0.0004\n",
      "batch size: 64, joint error: 0.7002, time to compute: 0.0007\n",
      "batch size: 128, joint error: 0.6450, time to compute: 0.0026\n",
      "batch size: 256, joint error: 0.6025, time to compute: 0.0092\n",
      "batch size: 512, joint error: 0.5312, time to compute: 0.0403\n",
      "batch size: 1024, joint error: 0.4820, time to compute: 0.2203\n",
      "batch size: 2048, joint error: 0.4272, time to compute: 0.9527\n",
      "batch size: 4096, joint error: 0.3816, time to compute: 4.1807\n",
      "batch size: 8192, joint error: 0.3414, time to compute: 20.0605\n"
     ]
    }
   ],
   "source": [
    "w_dim = 4\n",
    "a_dim = 6\n",
    "high_prec_samples = np.genfromtxt(f'samples/fixed_samples_{w_dim}-dim.csv', dtype=float,delimiter=',')\n",
    "joint_precision_4d = []\n",
    "joint_time_4d = []\n",
    "bsz = 1\n",
    "for i in range(14):\n",
    "    start_time = timeit.default_timer()\n",
    "    a = high_prec_samples[:bsz, w_dim:(w_dim + a_dim)]\n",
    "    b = high_prec_samples[bsz:(2*bsz), w_dim:(w_dim + a_dim)]\n",
    "    joint_err_high = joint_wass_dist(a, b)\n",
    "    elapsed = timeit.default_timer() - start_time\n",
    "    joint_precision_4d.append(joint_err_high)\n",
    "    joint_time_4d.append(elapsed)\n",
    "    print(f\"batch size: {bsz}, joint error: {joint_err_high:.4f}, time to compute: {elapsed:.4f}\")\n",
    "    bsz *=2"
   ],
   "metadata": {
    "collapsed": false
   }
  },
  {
   "cell_type": "markdown",
   "source": [
    "# 3D joint error convergence wrt bsz"
   ],
   "metadata": {
    "collapsed": false
   }
  },
  {
   "cell_type": "code",
   "execution_count": 16,
   "outputs": [
    {
     "name": "stdout",
     "output_type": "stream",
     "text": [
      "batch size: 1, joint error: 0.9698, time to compute: 0.0003\n",
      "batch size: 2, joint error: 0.5247, time to compute: 0.0005\n",
      "batch size: 4, joint error: 0.6439, time to compute: 0.0003\n",
      "batch size: 8, joint error: 0.7396, time to compute: 0.0001\n",
      "batch size: 16, joint error: 0.6804, time to compute: 0.0004\n",
      "batch size: 32, joint error: 0.5724, time to compute: 0.0003\n",
      "batch size: 64, joint error: 0.3949, time to compute: 0.0006\n",
      "batch size: 128, joint error: 0.3260, time to compute: 0.0019\n",
      "batch size: 256, joint error: 0.2690, time to compute: 0.0063\n",
      "batch size: 512, joint error: 0.2300, time to compute: 0.0360\n",
      "batch size: 1024, joint error: 0.1974, time to compute: 0.2519\n",
      "batch size: 2048, joint error: 0.1687, time to compute: 1.0044\n",
      "batch size: 4096, joint error: 0.1313, time to compute: 3.7571\n",
      "batch size: 8192, joint error: 0.1040, time to compute: 16.5749\n",
      "batch size: 16384, joint error: 0.0848, time to compute: 84.2509\n"
     ]
    }
   ],
   "source": [
    "w_dim = 3\n",
    "a_dim = 3\n",
    "joint_precision_3d = []\n",
    "joint_time_3d = []\n",
    "high_prec_samples = np.genfromtxt(f'samples/fixed_samples_{w_dim}-dim.csv', dtype=float,delimiter=',')\n",
    "bsz = 1\n",
    "for i in range(15):\n",
    "    start_time = timeit.default_timer()\n",
    "    a = high_prec_samples[:bsz, w_dim:(w_dim + a_dim)]\n",
    "    b = high_prec_samples[bsz:(2 * bsz), w_dim:(w_dim + a_dim)]\n",
    "    joint_err_high = joint_wass_dist(a, b)\n",
    "    elapsed = timeit.default_timer() - start_time\n",
    "    joint_precision_3d.append(joint_err_high)\n",
    "    joint_time_3d.append(elapsed)\n",
    "    print(f\"batch size: {bsz}, joint error: {joint_err_high:.4f}, time to compute: {elapsed:.4f}\")\n",
    "    bsz *= 2"
   ],
   "metadata": {
    "collapsed": false
   }
  },
  {
   "cell_type": "code",
   "execution_count": 2,
   "outputs": [
    {
     "name": "stdout",
     "output_type": "stream",
     "text": [
      "torch.Size([1048576, 10])\n"
     ]
    }
   ],
   "source": [
    "w_dim = 4\n",
    "a_dim = 6\n",
    "high_prec_samples = np.genfromtxt(f'samples/samples_{w_dim}-dim.csv', dtype=float,delimiter=',')\n",
    "high_prec_samples_torch = torch.tensor(high_prec_samples, dtype=torch.float)\n",
    "print(high_prec_samples_torch.shape)"
   ],
   "metadata": {
    "collapsed": false
   }
  },
  {
   "cell_type": "code",
   "execution_count": 22,
   "outputs": [
    {
     "ename": "NameError",
     "evalue": "name 'mid_prec_samples' is not defined",
     "output_type": "error",
     "traceback": [
      "\u001B[0;31m---------------------------------------------------------------------------\u001B[0m",
      "\u001B[0;31mNameError\u001B[0m                                 Traceback (most recent call last)",
      "Input \u001B[0;32mIn [22]\u001B[0m, in \u001B[0;36m<cell line: 3>\u001B[0;34m()\u001B[0m\n\u001B[1;32m      1\u001B[0m iterated_chen_mid_prec_err \u001B[38;5;241m=\u001B[39m []\n\u001B[1;32m      2\u001B[0m iterated_chen_mid_prec_bsz \u001B[38;5;241m=\u001B[39m []\n\u001B[0;32m----> 3\u001B[0m samples \u001B[38;5;241m=\u001B[39m \u001B[43mmid_prec_samples\u001B[49m\n\u001B[1;32m      4\u001B[0m \u001B[38;5;28;01mfor\u001B[39;00m i \u001B[38;5;129;01min\u001B[39;00m \u001B[38;5;28mrange\u001B[39m(\u001B[38;5;241m10\u001B[39m):\n\u001B[1;32m      5\u001B[0m     \u001B[38;5;28mprint\u001B[39m(samples\u001B[38;5;241m.\u001B[39mshape)\n",
      "\u001B[0;31mNameError\u001B[0m: name 'mid_prec_samples' is not defined"
     ]
    }
   ],
   "source": [
    "iterated_chen_mid_prec_err = []\n",
    "iterated_chen_mid_prec_bsz = []\n",
    "samples = mid_prec_samples\n",
    "for i in range(10):\n",
    "    print(samples.shape)\n",
    "    err = [sqrt(ot.wasserstein_1d(samples[:,w_dim+i],high_prec_samples[:,w_dim+i],p=2)) for i in range(a_dim)]\n",
    "    mean = sum(err)/len(err)\n",
    "    iterated_chen_mid_prec_err.append(mean)\n",
    "    iterated_chen_mid_prec_bsz.append(samples.shape[0])\n",
    "    pretty_err = [\"{0:0.5f}\".format(i) for i in err]\n",
    "    print(pretty_err)\n",
    "    samples = chen_combine(samples, w_dim)"
   ],
   "metadata": {
    "collapsed": false
   }
  },
  {
   "cell_type": "code",
   "execution_count": 3,
   "outputs": [
    {
     "name": "stdout",
     "output_type": "stream",
     "text": [
      "torch.Size([1048576, 10])\n"
     ]
    },
    {
     "name": "stderr",
     "output_type": "stream",
     "text": [
      "/home/andy/anaconda3/envs/GAN/lib/python3.10/site-packages/ot/lp/solver_1d.py:41: UserWarning: The use of `x.T` on tensors of dimension other than 2 to reverse their shape is deprecated and it will throw an error in a future release. Consider `x.mT` to transpose batches of matricesor `x.permute(*torch.arange(x.ndim - 1, -1, -1))` to reverse the dimensions of a tensor. (Triggered internally at  /opt/conda/conda-bld/pytorch_1659484746364/work/aten/src/ATen/native/TensorShape.cpp:2981.)\n",
      "  cws = cws.T.contiguous()\n"
     ]
    },
    {
     "name": "stdout",
     "output_type": "stream",
     "text": [
      "[0.020693, 0.020977, 0.020353, 0.020982, 0.019881, 0.02039]\n",
      "torch.Size([524288, 10])\n",
      "[0.004696, 0.004755, 0.004431, 0.004666, 0.003304, 0.003542]\n",
      "torch.Size([262144, 10])\n",
      "[0.003861, 0.004851, 0.003938, 0.003797, 0.003625, 0.00306]\n",
      "torch.Size([131072, 10])\n",
      "[0.004608, 0.004827, 0.004202, 0.004074, 0.003903, 0.004065]\n",
      "torch.Size([65536, 10])\n",
      "[0.005864, 0.005597, 0.006372, 0.007116, 0.005173, 0.005714]\n",
      "torch.Size([32768, 10])\n",
      "[0.010575, 0.009225, 0.008416, 0.008287, 0.005867, 0.009093]\n",
      "torch.Size([16384, 10])\n",
      "[0.012981, 0.012762, 0.011959, 0.012325, 0.008837, 0.009263]\n",
      "torch.Size([8192, 10])\n",
      "[0.016448, 0.0142, 0.011831, 0.01504, 0.016063, 0.012836]\n",
      "torch.Size([4096, 10])\n",
      "[0.021995, 0.024602, 0.027336, 0.026102, 0.014198, 0.022752]\n",
      "torch.Size([2048, 10])\n",
      "[0.025683, 0.024328, 0.024256, 0.031089, 0.025815, 0.03285]\n"
     ]
    }
   ],
   "source": [
    "iterated_chen_2mom_err = []\n",
    "iterated_chen_2mom_bsz = []\n",
    "samples = torch.tensor(gen_2mom_approx(w_dim,1048576), dtype=torch.float)\n",
    "for i in range(10):\n",
    "    err = [sqrt(ot.wasserstein_1d(samples[:,w_dim+i],high_prec_samples_torch[:,w_dim+i],p=2)) for i in range(a_dim)]\n",
    "    samples = chen_combine(samples, w_dim)\n",
    "    mean = sum(err)/len(err)\n",
    "    iterated_chen_2mom_err.append(mean)\n",
    "    iterated_chen_2mom_bsz.append(samples.shape[0])\n",
    "    print(samples.shape)\n",
    "    print(make_pretty(err, decimal_places=6))\n"
   ],
   "metadata": {
    "collapsed": false
   }
  },
  {
   "cell_type": "code",
   "execution_count": 33,
   "outputs": [
    {
     "name": "stdout",
     "output_type": "stream",
     "text": [
      "torch.Size([262144, 10])\n",
      "['0.57086', '0.46459', '0.58396', '0.52934', '0.66535', '0.54212']\n",
      "torch.Size([131072, 10])\n",
      "['0.36042', '0.25444', '0.37426', '0.32102', '0.45589', '0.33185']\n",
      "torch.Size([65536, 10])\n",
      "['0.22729', '0.12640', '0.24358', '0.18815', '0.32790', '0.20010']\n",
      "torch.Size([32768, 10])\n",
      "['0.15705', '0.05746', '0.17346', '0.10943', '0.25366', '0.12856']\n",
      "torch.Size([16384, 10])\n",
      "['0.12098', '0.03907', '0.13441', '0.07402', '0.21235', '0.08712']\n",
      "torch.Size([8192, 10])\n",
      "['0.09845', '0.04278', '0.11146', '0.05409', '0.18211', '0.06283']\n",
      "torch.Size([4096, 10])\n",
      "['0.09077', '0.05072', '0.10126', '0.04921', '0.18346', '0.06912']\n",
      "torch.Size([2048, 10])\n",
      "['0.09358', '0.07191', '0.08190', '0.04468', '0.15459', '0.06950']\n",
      "torch.Size([1024, 10])\n",
      "['0.08972', '0.06963', '0.07205', '0.05303', '0.14443', '0.07991']\n",
      "torch.Size([512, 10])\n",
      "['0.04243', '0.07977', '0.08566', '0.03863', '0.16359', '0.07064']\n",
      "torch.Size([256, 10])\n",
      "['0.06600', '0.07155', '0.09712', '0.04357', '0.17742', '0.07497']\n",
      "torch.Size([128, 10])\n",
      "['0.08456', '0.14567', '0.06332', '0.08969', '0.15761', '0.12520']\n",
      "torch.Size([64, 10])\n",
      "['0.16182', '0.11718', '0.10853', '0.09463', '0.14623', '0.10812']\n",
      "torch.Size([32, 10])\n",
      "['0.22689', '0.12640', '0.34477', '0.20995', '0.19970', '0.18283']\n",
      "torch.Size([16, 10])\n",
      "['0.23413', '0.18745', '0.29715', '0.19168', '0.17704', '0.30714']\n"
     ]
    }
   ],
   "source": [
    "iterated_chen_stdn_err = []\n",
    "iterated_chen_stdn_bsz = []\n",
    "samples = torch.randn((262144,10), dtype=torch.float)\n",
    "for i in range(15):\n",
    "    err = [sqrt(ot.wasserstein_1d(samples[:,w_dim+i],high_prec_samples_torch[:,w_dim+i],p=2)) for i in range(a_dim)]\n",
    "    samples = chen_combine(samples, w_dim)\n",
    "    mean = sum(err)/len(err)\n",
    "    iterated_chen_stdn_err.append(mean)\n",
    "    iterated_chen_stdn_bsz.append(samples.shape[0])\n",
    "    pretty_err = [\"{0:0.5f}\".format(i) for i in err]\n",
    "    print(samples.shape)\n",
    "    print(pretty_err)\n"
   ],
   "metadata": {
    "collapsed": false
   }
  },
  {
   "cell_type": "code",
   "execution_count": 8,
   "outputs": [
    {
     "name": "stderr",
     "output_type": "stream",
     "text": [
      "/tmp/ipykernel_9422/4047113905.py:20: UserWarning: Matplotlib is currently using module://matplotlib_inline.backend_inline, which is a non-GUI backend, so cannot show the figure.\n",
      "  fig.show()\n"
     ]
    },
    {
     "data": {
      "text/plain": "<Figure size 1800x720 with 1 Axes>",
      "image/png": "[encoded data removed]"
     },
     "metadata": {
      "needs_background": "light"
     },
     "output_type": "display_data"
    }
   ],
   "source": [
    "dat1 = iterated_chen_2mom_err\n",
    "#dat2 = joint_time_3d\n",
    "\n",
    "fig, ax1 = plt.subplots(1, 1, figsize=(25, 10))\n",
    "#ax2.set_xlabel(\"log_2(batch size)\", size = 20)\n",
    "#ax1.set_xlabel(\"Applications of chen_combine\\n batch_size\", size = 25)\n",
    "#ax2.tick_params(labelsize = 20)\n",
    "ax1.set_ylim([0,0.025])\n",
    "#ax2.set_ylim([0,21])\n",
    "#ax1.tick_params(labelsize = 20)\n",
    "labels = [f\"{i}\\n{2**(20-i)}\" for i in range(len(dat1))]\n",
    "ax1.set_xticks(ticks=range(len(dat1)), labels=labels, size=20)\n",
    "ax1.tick_params(labelsize = 20)\n",
    "ax1.set_title(\"1D errors of iterated chen_combine on normal with correct variances\", size=30)\n",
    "ax1.plot(dat1)\n",
    "#ax2.set_title(\"Time to compute\", size = 30)\n",
    "#ax2.plot(dat2)\n",
    "#ax2.legend(prop={'size': 15})\n",
    "\n",
    "fig.show()"
   ],
   "metadata": {
    "collapsed": false
   }
  },
  {
   "cell_type": "code",
   "execution_count": 4,
   "outputs": [],
   "source": [
    "# Calculate E[ A^2 | W ] = 1/12 * (1 + (W_1)^2 + (W_2)^2)\n",
    "\n",
    "def true_second_moments(_w):\n",
    "    _w_dim = len(_w)\n",
    "    _w_squared = [x*x for x in _w]\n",
    "    _a_dim = int((_w_dim - 1)*_w_dim/2)\n",
    "    moms = []\n",
    "    for k in range(_w_dim):\n",
    "        for l in range(k+1,_w_dim):\n",
    "            moms.append((1.0/12.0)*(1.0 + _w_squared[k] + _w_squared[l]))\n",
    "    assert len(moms) == _a_dim\n",
    "    return np.diag(moms)\n",
    "\n",
    "\n",
    "def empirical_second_moments(_a_generated: np.ndarray):\n",
    "\n",
    "    _batch_dim = _a_generated.shape[0]\n",
    "    const = 1.0/_batch_dim\n",
    "    _a_dim = _a_generated.shape[1]\n",
    "    result = np.zeros((_a_dim,_a_dim))\n",
    "    for i in range(_a_dim):\n",
    "        for j in range(i, _a_dim):\n",
    "            result[i,j] = const * np.dot(_a_generated[:,i], _a_generated[:,j])\n",
    "            if i != j:\n",
    "                result[j,i] = result[i,j]\n",
    "\n",
    "    return result\n",
    "\n",
    "\n",
    "\n",
    "def avg_st_dev_error(_w, _a_generated):\n",
    "    difference = np.abs(np.sqrt(true_second_moments(_w)) - np.sqrt(np.abs(empirical_second_moments(_a_generated))))\n",
    "    return difference.mean()\n",
    "\n",
    "def empirical_variances(_a_generated):\n",
    "    return np.diagonal(empirical_second_moments(_a_generated))"
   ],
   "metadata": {
    "collapsed": false
   }
  },
  {
   "cell_type": "code",
   "execution_count": 5,
   "outputs": [
    {
     "name": "stdout",
     "output_type": "stream",
     "text": [
      "[0.1875     0.28666667 0.17416667 0.2075     0.22416667 0.11166667\n",
      " 0.145      0.21083333 0.24416667 0.13166667]\n",
      "[0. 0. 0. 0. 0. 0. 0. 0. 0. 0.]\n",
      "0.043458536658709475\n"
     ]
    }
   ],
   "source": [
    "w_dim = 5\n",
    "a_dim = 10\n",
    "w_fixed = [1.0,-0.5,-1.2,-0.3,0.7]\n",
    "\n",
    "# test_filename = f\"samples/fixed_samples_{w_dim}-dim.csv\"\n",
    "# A_fixed_true = np.genfromtxt(test_filename,dtype=float,delimiter=',',)\n",
    "# A_fixed_true = A_fixed_true[:,w_dim:(w_dim+a_dim)]\n",
    "A_fixed_true = np.zeros((10,10))\n",
    "\n",
    "\n",
    "\n",
    "a = true_second_moments(w_fixed)\n",
    "b = empirical_second_moments(A_fixed_true)\n",
    "c = empirical_variances(A_fixed_true)\n",
    "print(np.diagonal(a))\n",
    "# print(b)\n",
    "print(c)\n",
    "print(avg_st_dev_error(w_fixed,A_fixed_true))"
   ],
   "metadata": {
    "collapsed": false
   }
  },
  {
   "cell_type": "code",
   "execution_count": 12,
   "outputs": [],
   "source": [
    "filename = f'model_saves/blubiran.txt'\n",
    "\n",
    "with open(filename, 'a+') as summary_file:\n",
    "    summary_file.seek(0)\n",
    "    lines = summary_file.read().splitlines()\n",
    "    if lines == []:\n",
    "        serial_num = 1\n",
    "        summary_file.write(str(serial_num))\n",
    "    else:\n",
    "        last_line = lines[-1]\n",
    "        serial_num = int(last_line)\n",
    "\n",
    "    summary = f\" descriptor: \" + \"report\" + f\"\\n{serial_num + 1}\"\n",
    "    summary_file.write(summary)\n",
    "\n"
   ],
   "metadata": {
    "collapsed": false
   }
  },
  {
   "cell_type": "code",
   "execution_count": 9,
   "outputs": [
    {
     "name": "stdout",
     "output_type": "stream",
     "text": [
      "beta1_0.20_beta2_0.950\n"
     ]
    }
   ],
   "source": [
    "beta1 = 0.2\n",
    "beta2 = 0.95\n",
    "print(f\"beta1_{beta1:.2f}_beta2_{beta2:.3f}\")"
   ],
   "metadata": {
    "collapsed": false
   }
  },
  {
   "cell_type": "code",
   "execution_count": null,
   "outputs": [],
   "source": [],
   "metadata": {
    "collapsed": false
   }
  }
 ],
 "metadata": {
  "kernelspec": {
   "display_name": "Python 3",
   "language": "python",
   "name": "python3"
  },
  "language_info": {
   "codemirror_mode": {
    "name": "ipython",
    "version": 2
   },
   "file_extension": ".py",
   "mimetype": "text/x-python",
   "name": "python",
   "nbconvert_exporter": "python",
   "pygments_lexer": "ipython2",
   "version": "2.7.6"
  }
 },
 "nbformat": 4,
 "nbformat_minor": 0
}
