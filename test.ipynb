{
 "cells": [
  {
   "cell_type": "code",
   "execution_count": 1,
   "outputs": [],
   "source": [
    "import numpy as np\n",
    "import ot\n",
    "import torch\n",
    "from math import sqrt\n",
    "import timeit\n",
    "\n",
    "from TheGAN import LevyGAN\n",
    "from aux_functions import *"
   ],
   "metadata": {
    "collapsed": false
   }
  },
  {
   "cell_type": "code",
   "execution_count": 6,
   "outputs": [],
   "source": [
    "lines = [\"abc\", 'def', \"ghi\"]\n",
    "\n",
    "with open(\"blublek.txt\", \"a+\") as f:\n",
    "    f.writelines(lines)"
   ],
   "metadata": {
    "collapsed": false
   }
  },
  {
   "cell_type": "code",
   "execution_count": 3,
   "outputs": [
    {
     "name": "stdout",
     "output_type": "stream",
     "text": [
      "(1048576, 10)\n"
     ]
    }
   ],
   "source": [
    "# PROOF THAT CHEN RELATION WORKS\n",
    "\n",
    "w_dim = 4\n",
    "a_dim = 6\n",
    "#shit_samples = torch.randn((262144,10), dtype=torch.float)\n",
    "#low_prec_samples = torch.tensor(np.genfromtxt('samples/low_prec_samples.csv', dtype=float,delimiter=','))\n",
    "#mid_prec_samples = np.genfromtxt('samples/mid_prec_fixed_samples.csv', dtype=float,delimiter=',')\n",
    "high_prec_samples = np.genfromtxt('samples/high_prec_fixed_samples.csv', dtype=float,delimiter=',')\n",
    "#print(mid_prec_samples.shape)\n",
    "print(high_prec_samples.shape)\n"
   ],
   "metadata": {
    "collapsed": false
   }
  },
  {
   "cell_type": "markdown",
   "source": [
    "# 4D joint error convergence wrt bsz"
   ],
   "metadata": {
    "collapsed": false
   }
  },
  {
   "cell_type": "code",
   "execution_count": 4,
   "outputs": [
    {
     "name": "stdout",
     "output_type": "stream",
     "text": [
      "batch size: 1, joint error: 1.7390, time to compute: 0.0005\n",
      "batch size: 2, joint error: 1.1340, time to compute: 0.0004\n",
      "batch size: 4, joint error: 0.9144, time to compute: 0.0004\n",
      "batch size: 8, joint error: 1.1132, time to compute: 0.0004\n",
      "batch size: 16, joint error: 0.8568, time to compute: 0.0005\n",
      "batch size: 32, joint error: 0.8304, time to compute: 0.0008\n",
      "batch size: 64, joint error: 0.7002, time to compute: 0.0016\n",
      "batch size: 128, joint error: 0.6450, time to compute: 0.0048\n",
      "batch size: 256, joint error: 0.6025, time to compute: 0.0187\n",
      "batch size: 512, joint error: 0.5312, time to compute: 0.0845\n",
      "batch size: 1024, joint error: 0.4820, time to compute: 0.3942\n",
      "batch size: 2048, joint error: 0.4272, time to compute: 1.7799\n",
      "batch size: 4096, joint error: 0.3816, time to compute: 7.6241\n",
      "batch size: 8192, joint error: 0.3414, time to compute: 31.1066\n"
     ]
    }
   ],
   "source": [
    "w_dim = 4\n",
    "a_dim = 6\n",
    "high_prec_samples = np.genfromtxt(f'samples/fixed_samples_{w_dim}-dim.csv', dtype=float,delimiter=',')\n",
    "\n",
    "bsz = 1\n",
    "for i in range(14):\n",
    "    start_time = timeit.default_timer()\n",
    "    a = high_prec_samples[:bsz, w_dim:(w_dim + a_dim)]\n",
    "    b = high_prec_samples[bsz:(2*bsz), w_dim:(w_dim + a_dim)]\n",
    "    joint_err_high = joint_wass_dist(a, b)\n",
    "    elapsed = timeit.default_timer() - start_time\n",
    "    print(f\"batch size: {bsz}, joint error: {joint_err_high:.4f}, time to compute: {elapsed:.4f}\")\n",
    "    bsz *=2"
   ],
   "metadata": {
    "collapsed": false
   }
  },
  {
   "cell_type": "markdown",
   "source": [
    "# 3D joint error convergence wrt bsz"
   ],
   "metadata": {
    "collapsed": false
   }
  },
  {
   "cell_type": "code",
   "execution_count": 5,
   "outputs": [
    {
     "name": "stdout",
     "output_type": "stream",
     "text": [
      "batch size: 1, joint error: 0.9698, time to compute: 0.0004\n",
      "batch size: 2, joint error: 0.5247, time to compute: 0.0008\n",
      "batch size: 4, joint error: 0.6439, time to compute: 0.0005\n",
      "batch size: 8, joint error: 0.7396, time to compute: 0.0005\n",
      "batch size: 16, joint error: 0.6804, time to compute: 0.0005\n",
      "batch size: 32, joint error: 0.5724, time to compute: 0.0005\n",
      "batch size: 64, joint error: 0.3949, time to compute: 0.0014\n",
      "batch size: 128, joint error: 0.3260, time to compute: 0.0054\n",
      "batch size: 256, joint error: 0.2690, time to compute: 0.0162\n",
      "batch size: 512, joint error: 0.2300, time to compute: 0.0645\n",
      "batch size: 1024, joint error: 0.1974, time to compute: 0.3165\n",
      "batch size: 2048, joint error: 0.1687, time to compute: 1.2989\n",
      "batch size: 4096, joint error: 0.1313, time to compute: 5.8474\n",
      "batch size: 8192, joint error: 0.1040, time to compute: 26.9113\n"
     ]
    }
   ],
   "source": [
    "w_dim = 3\n",
    "a_dim = 3\n",
    "high_prec_samples = np.genfromtxt(f'samples/fixed_samples_{w_dim}-dim.csv', dtype=float,delimiter=',')\n",
    "bsz = 1\n",
    "for i in range(14):\n",
    "    start_time = timeit.default_timer()\n",
    "    a = high_prec_samples[:bsz, w_dim:(w_dim + a_dim)]\n",
    "    b = high_prec_samples[bsz:(2 * bsz), w_dim:(w_dim + a_dim)]\n",
    "    joint_err_high = joint_wass_dist(a, b)\n",
    "    elapsed = timeit.default_timer() - start_time\n",
    "    print(f\"batch size: {bsz}, joint error: {joint_err_high:.4f}, time to compute: {elapsed:.4f}\")\n",
    "    bsz *= 2"
   ],
   "metadata": {
    "collapsed": false
   }
  },
  {
   "cell_type": "code",
   "execution_count": 5,
   "outputs": [
    {
     "name": "stdout",
     "output_type": "stream",
     "text": [
      "torch.Size([524288, 10])\n",
      "['0.11013', '0.11028', '0.11219', '0.11458', '0.11457', '0.11050']\n",
      "torch.Size([262144, 10])\n",
      "['0.05057', '0.04843', '0.05067', '0.05358', '0.05318', '0.04986']\n",
      "torch.Size([131072, 10])\n",
      "['0.02475', '0.02271', '0.02295', '0.02824', '0.02522', '0.02398']\n",
      "torch.Size([65536, 10])\n",
      "['0.01272', '0.01225', '0.01122', '0.01766', '0.01311', '0.01301']\n",
      "torch.Size([32768, 10])\n",
      "['0.01055', '0.01206', '0.01073', '0.01384', '0.01109', '0.01370']\n",
      "torch.Size([16384, 10])\n",
      "['0.01178', '0.01128', '0.01265', '0.01510', '0.01129', '0.01640']\n",
      "torch.Size([8192, 10])\n",
      "['0.01348', '0.01753', '0.02108', '0.01981', '0.01925', '0.02471']\n",
      "torch.Size([4096, 10])\n",
      "['0.02155', '0.01392', '0.03072', '0.02521', '0.01897', '0.04090']\n",
      "torch.Size([2048, 10])\n",
      "['0.01774', '0.03060', '0.04047', '0.02391', '0.03276', '0.03484']\n",
      "torch.Size([1024, 10])\n",
      "['0.03906', '0.03272', '0.04108', '0.03886', '0.03452', '0.04955']\n"
     ]
    }
   ],
   "source": [
    "samples = mid_prec_samples\n",
    "for i in range(10):\n",
    "    print(samples.shape)\n",
    "    err = [sqrt(ot.wasserstein_1d(samples[:,w_dim+i],high_prec_samples[:,w_dim+i],p=2)) for i in range(a_dim)]\n",
    "    pretty_err = [\"{0:0.5f}\".format(i) for i in err]\n",
    "    print(pretty_err)\n",
    "    samples = chen_combine(samples, w_dim)"
   ],
   "metadata": {
    "collapsed": false
   }
  },
  {
   "cell_type": "code",
   "execution_count": 3,
   "outputs": [
    {
     "name": "stdout",
     "output_type": "stream",
     "text": [
      "torch.Size([1048576, 10])\n",
      "['0.02043', '0.02028', '0.02015', '0.02070', '0.02021', '0.02093']\n",
      "torch.Size([524288, 10])\n",
      "['0.00469', '0.00463', '0.00376', '0.00489', '0.00364', '0.00491']\n",
      "torch.Size([262144, 10])\n",
      "['0.00326', '0.00332', '0.00398', '0.00399', '0.00261', '0.00406']\n",
      "torch.Size([131072, 10])\n",
      "['0.00328', '0.00498', '0.00557', '0.00441', '0.00431', '0.00431']\n",
      "torch.Size([65536, 10])\n",
      "['0.00752', '0.00591', '0.00738', '0.00606', '0.00560', '0.00498']\n",
      "torch.Size([32768, 10])\n",
      "['0.00778', '0.00933', '0.00952', '0.00857', '0.00725', '0.00681']\n",
      "torch.Size([16384, 10])\n",
      "['0.01025', '0.00973', '0.01364', '0.01684', '0.01440', '0.01251']\n",
      "torch.Size([8192, 10])\n",
      "['0.01143', '0.01203', '0.01242', '0.02114', '0.01369', '0.01242']\n",
      "torch.Size([4096, 10])\n",
      "['0.02291', '0.01600', '0.02695', '0.01790', '0.02083', '0.01911']\n",
      "torch.Size([2048, 10])\n",
      "['0.03958', '0.02357', '0.03886', '0.03233', '0.04769', '0.04406']\n"
     ]
    }
   ],
   "source": [
    "samples = torch.tensor(gen_2mom_approx(w_dim,1048576), dtype=torch.float)\n",
    "for i in range(10):\n",
    "    print(samples.shape)\n",
    "    err = [sqrt(ot.wasserstein_1d(samples[:,w_dim+i],high_prec_samples[:,w_dim+i],p=2)) for i in range(a_dim)]\n",
    "    pretty_err = [\"{0:0.5f}\".format(i) for i in err]\n",
    "    print(pretty_err)\n",
    "    samples = chen_combine(samples, w_dim)"
   ],
   "metadata": {
    "collapsed": false
   }
  },
  {
   "cell_type": "code",
   "execution_count": 6,
   "outputs": [
    {
     "name": "stdout",
     "output_type": "stream",
     "text": [
      "torch.Size([262144, 10])\n",
      "['0.51340', '0.51083', '0.51092', '0.50750', '0.50810', '0.51202']\n",
      "torch.Size([131072, 10])\n",
      "['0.30308', '0.30325', '0.29886', '0.29845', '0.30054', '0.30077']\n",
      "torch.Size([65536, 10])\n",
      "['0.17498', '0.17328', '0.16919', '0.16641', '0.17082', '0.17315']\n",
      "torch.Size([32768, 10])\n",
      "['0.09511', '0.09724', '0.09499', '0.08869', '0.09437', '0.09759']\n",
      "torch.Size([16384, 10])\n",
      "['0.05233', '0.05037', '0.04912', '0.04466', '0.05436', '0.05230']\n",
      "torch.Size([8192, 10])\n",
      "['0.02287', '0.02607', '0.02541', '0.03164', '0.03131', '0.03569']\n",
      "torch.Size([4096, 10])\n",
      "['0.02542', '0.02252', '0.01838', '0.02700', '0.02225', '0.03080']\n",
      "torch.Size([2048, 10])\n",
      "['0.02568', '0.03141', '0.02792', '0.03268', '0.03277', '0.04789']\n",
      "torch.Size([1024, 10])\n",
      "['0.03117', '0.04250', '0.04890', '0.03724', '0.04217', '0.03931']\n",
      "torch.Size([512, 10])\n",
      "['0.04673', '0.06918', '0.04965', '0.08538', '0.06252', '0.06134']\n"
     ]
    }
   ],
   "source": [
    "samples = torch.randn((262144,10), dtype=torch.float)\n",
    "for i in range(10):\n",
    "    print(samples.shape)\n",
    "    err = [sqrt(ot.wasserstein_1d(samples[:,w_dim+i],high_prec_samples[:,w_dim+i],p=2)) for i in range(a_dim)]\n",
    "    pretty_err = [\"{0:0.5f}\".format(i) for i in err]\n",
    "    print(pretty_err)\n",
    "    samples = chen_combine(samples, w_dim)"
   ],
   "metadata": {
    "collapsed": false
   }
  },
  {
   "cell_type": "code",
   "execution_count": 4,
   "outputs": [],
   "source": [
    "# Calculate E[ A^2 | W ] = 1/12 * (1 + (W_1)^2 + (W_2)^2)\n",
    "\n",
    "def true_second_moments(_w):\n",
    "    _w_dim = len(_w)\n",
    "    _w_squared = [x*x for x in _w]\n",
    "    _a_dim = int((_w_dim - 1)*_w_dim/2)\n",
    "    moms = []\n",
    "    for k in range(_w_dim):\n",
    "        for l in range(k+1,_w_dim):\n",
    "            moms.append((1.0/12.0)*(1.0 + _w_squared[k] + _w_squared[l]))\n",
    "    assert len(moms) == _a_dim\n",
    "    return np.diag(moms)\n",
    "\n",
    "\n",
    "def empirical_second_moments(_a_generated: np.ndarray):\n",
    "\n",
    "    _batch_dim = _a_generated.shape[0]\n",
    "    const = 1.0/_batch_dim\n",
    "    _a_dim = _a_generated.shape[1]\n",
    "    result = np.zeros((_a_dim,_a_dim))\n",
    "    for i in range(_a_dim):\n",
    "        for j in range(i, _a_dim):\n",
    "            result[i,j] = const * np.dot(_a_generated[:,i], _a_generated[:,j])\n",
    "            if i != j:\n",
    "                result[j,i] = result[i,j]\n",
    "\n",
    "    return result\n",
    "\n",
    "\n",
    "\n",
    "def avg_st_dev_error(_w, _a_generated):\n",
    "    difference = np.abs(np.sqrt(true_second_moments(_w)) - np.sqrt(np.abs(empirical_second_moments(_a_generated))))\n",
    "    return difference.mean()\n",
    "\n",
    "def empirical_variances(_a_generated):\n",
    "    return np.diagonal(empirical_second_moments(_a_generated))"
   ],
   "metadata": {
    "collapsed": false
   }
  },
  {
   "cell_type": "code",
   "execution_count": 5,
   "outputs": [
    {
     "name": "stdout",
     "output_type": "stream",
     "text": [
      "[0.1875     0.28666667 0.17416667 0.2075     0.22416667 0.11166667\n",
      " 0.145      0.21083333 0.24416667 0.13166667]\n",
      "[0. 0. 0. 0. 0. 0. 0. 0. 0. 0.]\n",
      "0.043458536658709475\n"
     ]
    }
   ],
   "source": [
    "w_dim = 5\n",
    "a_dim = 10\n",
    "w_fixed = [1.0,-0.5,-1.2,-0.3,0.7]\n",
    "\n",
    "# test_filename = f\"samples/fixed_samples_{w_dim}-dim.csv\"\n",
    "# A_fixed_true = np.genfromtxt(test_filename,dtype=float,delimiter=',',)\n",
    "# A_fixed_true = A_fixed_true[:,w_dim:(w_dim+a_dim)]\n",
    "A_fixed_true = np.zeros((10,10))\n",
    "\n",
    "\n",
    "\n",
    "a = true_second_moments(w_fixed)\n",
    "b = empirical_second_moments(A_fixed_true)\n",
    "c = empirical_variances(A_fixed_true)\n",
    "print(np.diagonal(a))\n",
    "# print(b)\n",
    "print(c)\n",
    "print(avg_st_dev_error(w_fixed,A_fixed_true))"
   ],
   "metadata": {
    "collapsed": false
   }
  },
  {
   "cell_type": "code",
   "execution_count": 12,
   "outputs": [],
   "source": [
    "filename = f'model_saves/blubiran.txt'\n",
    "\n",
    "with open(filename, 'a+') as summary_file:\n",
    "    summary_file.seek(0)\n",
    "    lines = summary_file.read().splitlines()\n",
    "    if lines == []:\n",
    "        serial_num = 1\n",
    "        summary_file.write(str(serial_num))\n",
    "    else:\n",
    "        last_line = lines[-1]\n",
    "        serial_num = int(last_line)\n",
    "\n",
    "    summary = f\" descriptor: \" + \"report\" + f\"\\n{serial_num + 1}\"\n",
    "    summary_file.write(summary)\n",
    "\n"
   ],
   "metadata": {
    "collapsed": false
   }
  },
  {
   "cell_type": "code",
   "execution_count": 9,
   "outputs": [
    {
     "name": "stdout",
     "output_type": "stream",
     "text": [
      "beta1_0.20_beta2_0.950\n"
     ]
    }
   ],
   "source": [
    "beta1 = 0.2\n",
    "beta2 = 0.95\n",
    "print(f\"beta1_{beta1:.2f}_beta2_{beta2:.3f}\")"
   ],
   "metadata": {
    "collapsed": false
   }
  },
  {
   "cell_type": "code",
   "execution_count": null,
   "outputs": [],
   "source": [],
   "metadata": {
    "collapsed": false
   }
  }
 ],
 "metadata": {
  "kernelspec": {
   "display_name": "Python 3",
   "language": "python",
   "name": "python3"
  },
  "language_info": {
   "codemirror_mode": {
    "name": "ipython",
    "version": 2
   },
   "file_extension": ".py",
   "mimetype": "text/x-python",
   "name": "python",
   "nbconvert_exporter": "python",
   "pygments_lexer": "ipython2",
   "version": "2.7.6"
  }
 },
 "nbformat": 4,
 "nbformat_minor": 0
}
