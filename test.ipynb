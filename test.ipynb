{
 "cells": [
  {
   "cell_type": "code",
   "execution_count": 2,
   "outputs": [],
   "source": [
    "import numpy as np\n",
    "import ot\n",
    "import torch\n",
    "from math import sqrt"
   ],
   "metadata": {
    "collapsed": false,
    "pycharm": {
     "name": "#%%\n"
    }
   }
  },
  {
   "cell_type": "code",
   "execution_count": 13,
   "outputs": [
    {
     "name": "stdout",
     "output_type": "stream",
     "text": [
      "1.2576899488410302e-06\n"
     ]
    }
   ],
   "source": [
    "\n",
    "samples = np.genfromtxt('fixed_res.csv',dtype=float,delimiter=',',)\n",
    "A_fixed_true = samples[:,2].squeeze()\n",
    "a1 = A_fixed_true[:1000]\n",
    "a2 = A_fixed_true[100000:200000]\n",
    "dist = ot.wasserstein_1d(a1,a2,p=2)\n",
    "print(dist)"
   ],
   "metadata": {
    "collapsed": false,
    "pycharm": {
     "name": "#%%\n"
    }
   }
  },
  {
   "cell_type": "code",
   "execution_count": 3,
   "outputs": [
    {
     "data": {
      "text/plain": "<Figure size 720x360 with 1 Axes>",
      "image/png": "[encoded data removed]"
     },
     "metadata": {
      "needs_background": "light"
     },
     "output_type": "display_data"
    }
   ],
   "source": [
    "import matplotlib.pyplot as plt\n",
    "\n",
    "a = [[1,1,1],[1,2,3],[2,3,4]]\n",
    "plt.figure(figsize=(10,5))\n",
    "plt.title(\"Generator and Discriminator Loss During Training\")\n",
    "plt.plot(a, label = [\"a\",\"b\", \"c\"])\n",
    "plt.xlabel(\"iterations\")\n",
    "plt.ylabel(\"Loss\")\n",
    "plt.legend()\n",
    "plt.show()"
   ],
   "metadata": {
    "collapsed": false,
    "pycharm": {
     "name": "#%%\n"
    }
   }
  },
  {
   "cell_type": "code",
   "execution_count": 6,
   "outputs": [],
   "source": [
    "w_dim = 4\n",
    "a_dim = 6\n",
    "\n",
    "\n",
    "def chen_combine(w_a_in: torch.TensorType):\n",
    "    # the batch dimension of the inputs will be quartered\n",
    "    out_size = w_a_in.size(0)//2\n",
    "    assert 2*out_size == w_a_in.size(0)\n",
    "    assert w_a_in.size(1) == w_dim + a_dim\n",
    "\n",
    "    # w_0_s is from 0 to t/2 and w_s_t is from t/2 to t\n",
    "    w_0_s,w_s_t = w_a_in.chunk(2)\n",
    "    result = torch.clone(w_0_s + w_s_t)\n",
    "    result[:,:w_dim] = sqrt(0.5)*result[:,:w_dim]\n",
    "    result[:,w_dim:(w_dim+a_dim)] = 0.5*result[:,w_dim:(w_dim+a_dim)]\n",
    "\n",
    "    idx = w_dim\n",
    "    for k in range(w_dim - 1):\n",
    "        for l in range(k+1,w_dim):\n",
    "            correction_term = 0.25*(w_0_s[:,k]*w_s_t[:,l] - w_0_s[:,l]*w_s_t[:,k])\n",
    "            result[:,idx] += correction_term\n",
    "            idx += 1\n",
    "\n",
    "    return result\n",
    "\n",
    "\n",
    "\n",
    "def chen_error_2step(w_a_in: torch.TensorType):\n",
    "    combined_data = chen_combine(w_a_in)\n",
    "    combined_data = chen_combine(combined_data)\n",
    "    combined_data = chen_combine(combined_data)\n",
    "    return [sqrt(ot.wasserstein_1d(combined_data[:,w_dim+i],w_a_in[:,w_dim+i],p=2)) for i in range(a_dim)]\n"
   ],
   "metadata": {
    "collapsed": false,
    "pycharm": {
     "name": "#%%\n"
    }
   }
  },
  {
   "cell_type": "code",
   "execution_count": 7,
   "outputs": [
    {
     "name": "stdout",
     "output_type": "stream",
     "text": [
      "torch.Size([262144, 10])\n",
      "torch.Size([65536, 10])\n"
     ]
    },
    {
     "name": "stderr",
     "output_type": "stream",
     "text": [
      "/home/andy/anaconda3/envs/GAN/lib/python3.10/site-packages/ot/lp/solver_1d.py:41: UserWarning: The use of `x.T` on tensors of dimension other than 2 to reverse their shape is deprecated and it will throw an error in a future release. Consider `x.mT` to transpose batches of matricesor `x.permute(*torch.arange(x.ndim - 1, -1, -1))` to reverse the dimensions of a tensor. (Triggered internally at  /opt/conda/conda-bld/pytorch_1659484746364/work/aten/src/ATen/native/TensorShape.cpp:2981.)\n",
      "  cws = cws.T.contiguous()\n"
     ]
    },
    {
     "name": "stdout",
     "output_type": "stream",
     "text": [
      "[0.41826505051808216, 0.4226793462679542, 0.4195580614214039, 0.4158377110257839, 0.4215048473007029, 0.4200040869854577]\n",
      "[0.10158312908826557, 0.10216402769640108, 0.10356997572708422, 0.09817404280582916, 0.10404973353324538, 0.10118955287648874]\n",
      "[0.01633234358012648, 0.01760287992997936, 0.019872181878243, 0.01680752610873157, 0.008911869040047132, 0.012170543989985799]\n"
     ]
    }
   ],
   "source": [
    "# PROOF THAT CHEN RELATION WORKS\n",
    "\n",
    "w_dim = 4\n",
    "a_dim = 6\n",
    "shit_samples = torch.randn((262144,10), dtype=torch.float)\n",
    "low_prec_samples = torch.tensor(np.genfromtxt('low_prec_samples.csv', dtype=float,delimiter=','))\n",
    "high_prec_samples = torch.tensor(np.genfromtxt('high_prec_samples.csv', dtype=float,delimiter=','))\n",
    "print(shit_samples.shape)\n",
    "print(high_prec_samples.shape)\n",
    "\n",
    "print(chen_error_2step(shit_samples))\n",
    "print(chen_error_2step(low_prec_samples))\n",
    "print(chen_error_2step(high_prec_samples))"
   ],
   "metadata": {
    "collapsed": false,
    "pycharm": {
     "name": "#%%\n"
    }
   }
  },
  {
   "cell_type": "code",
   "execution_count": 8,
   "outputs": [
    {
     "name": "stdout",
     "output_type": "stream",
     "text": [
      "torch.Size([524288, 10])\n",
      "['0.11013', '0.11028', '0.11219', '0.11458', '0.11457', '0.11050']\n",
      "torch.Size([262144, 10])\n",
      "['0.05057', '0.04843', '0.05067', '0.05358', '0.05318', '0.04986']\n",
      "torch.Size([131072, 10])\n",
      "['0.02475', '0.02271', '0.02295', '0.02824', '0.02522', '0.02398']\n",
      "torch.Size([65536, 10])\n",
      "['0.01272', '0.01225', '0.01122', '0.01766', '0.01311', '0.01301']\n",
      "torch.Size([32768, 10])\n",
      "['0.01055', '0.01206', '0.01073', '0.01384', '0.01109', '0.01370']\n",
      "torch.Size([16384, 10])\n",
      "['0.01178', '0.01128', '0.01265', '0.01510', '0.01129', '0.01640']\n",
      "torch.Size([8192, 10])\n",
      "['0.01348', '0.01753', '0.02108', '0.01981', '0.01925', '0.02471']\n",
      "torch.Size([4096, 10])\n",
      "['0.02155', '0.01392', '0.03072', '0.02521', '0.01897', '0.04090']\n",
      "torch.Size([2048, 10])\n",
      "['0.01774', '0.03060', '0.04047', '0.02391', '0.03276', '0.03484']\n",
      "torch.Size([1024, 10])\n",
      "['0.03906', '0.03272', '0.04108', '0.03886', '0.03452', '0.04955']\n"
     ]
    }
   ],
   "source": [
    "improved_low_prec = low_prec_samples\n",
    "for i in range(10):\n",
    "    print(improved_low_prec.shape)\n",
    "    err = [sqrt(ot.wasserstein_1d(improved_low_prec[:,w_dim+i],high_prec_samples[:,w_dim+i],p=2)) for i in range(a_dim)]\n",
    "    pretty_err = [\"{0:0.5f}\".format(i) for i in err]\n",
    "    print(pretty_err)\n",
    "    improved_low_prec = chen_combine(improved_low_prec)"
   ],
   "metadata": {
    "collapsed": false,
    "pycharm": {
     "name": "#%%\n"
    }
   }
  },
  {
   "cell_type": "code",
   "execution_count": 9,
   "outputs": [
    {
     "name": "stdout",
     "output_type": "stream",
     "text": [
      "torch.Size([262144, 10])\n",
      "['0.50962', '0.51490', '0.50857', '0.50662', '0.50998', '0.51460']\n",
      "torch.Size([131072, 10])\n",
      "['0.30344', '0.30355', '0.29989', '0.29983', '0.30244', '0.30586']\n",
      "torch.Size([65536, 10])\n",
      "['0.17211', '0.17223', '0.16926', '0.16826', '0.17053', '0.17544']\n",
      "torch.Size([32768, 10])\n",
      "['0.09378', '0.09343', '0.09100', '0.09183', '0.09063', '0.09577']\n",
      "torch.Size([16384, 10])\n",
      "['0.04602', '0.05462', '0.04849', '0.04747', '0.04614', '0.05411']\n",
      "torch.Size([8192, 10])\n",
      "['0.03436', '0.03476', '0.02638', '0.02572', '0.02797', '0.03679']\n",
      "torch.Size([4096, 10])\n",
      "['0.02396', '0.02797', '0.03414', '0.01899', '0.02042', '0.02804']\n",
      "torch.Size([2048, 10])\n",
      "['0.02899', '0.04455', '0.03398', '0.02110', '0.02574', '0.02583']\n",
      "torch.Size([1024, 10])\n",
      "['0.04284', '0.04071', '0.03078', '0.06453', '0.03242', '0.02999']\n",
      "torch.Size([512, 10])\n",
      "['0.05434', '0.06473', '0.09217', '0.05605', '0.04103', '0.04966']\n"
     ]
    }
   ],
   "source": [
    "improved_shit = shit_samples\n",
    "for i in range(10):\n",
    "    print(improved_shit.shape)\n",
    "    err = [sqrt(ot.wasserstein_1d(improved_shit[:,w_dim+i],high_prec_samples[:,w_dim+i],p=2)) for i in range(a_dim)]\n",
    "    pretty_err = [\"{0:0.5f}\".format(i) for i in err]\n",
    "    print(pretty_err)\n",
    "    improved_shit = chen_combine(improved_shit)"
   ],
   "metadata": {
    "collapsed": false,
    "pycharm": {
     "name": "#%%\n"
    }
   }
  },
  {
   "cell_type": "code",
   "execution_count": 10,
   "outputs": [
    {
     "name": "stdout",
     "output_type": "stream",
     "text": [
      "torch.Size([65536, 10])\n",
      "['0.11013', '0.11028', '0.11219', '0.11458', '0.11457', '0.11050']\n",
      "torch.Size([32768, 10])\n",
      "['0.10940', '0.11136', '0.11371', '0.11274', '0.11678', '0.11195']\n",
      "torch.Size([16384, 10])\n",
      "['0.10815', '0.11087', '0.11149', '0.11326', '0.11573', '0.10837']\n",
      "torch.Size([8192, 10])\n",
      "['0.10895', '0.11332', '0.11582', '0.11853', '0.11645', '0.11405']\n",
      "torch.Size([4096, 10])\n",
      "['0.09925', '0.11695', '0.11540', '0.11649', '0.11209', '0.11063']\n",
      "torch.Size([2048, 10])\n",
      "['0.08718', '0.10661', '0.13652', '0.10069', '0.12683', '0.11439']\n",
      "torch.Size([1024, 10])\n",
      "['0.13742', '0.11974', '0.14895', '0.11271', '0.13350', '0.14872']\n",
      "torch.Size([512, 10])\n",
      "['0.12666', '0.10743', '0.18267', '0.11199', '0.13543', '0.15180']\n",
      "torch.Size([256, 10])\n",
      "['0.15278', '0.15433', '0.18931', '0.13803', '0.11915', '0.16366']\n",
      "torch.Size([128, 10])\n",
      "['0.20102', '0.10545', '0.15247', '0.17761', '0.12289', '0.16315']\n"
     ]
    }
   ],
   "source": [
    "improved_high_prec = high_prec_samples\n",
    "for i in range(10):\n",
    "    print(improved_high_prec.shape)\n",
    "    err = [sqrt(ot.wasserstein_1d(improved_high_prec[:,w_dim+i],low_prec_samples[:,w_dim+i],p=2)) for i in range(a_dim)]\n",
    "    pretty_err = [\"{0:0.5f}\".format(i) for i in err]\n",
    "    print(pretty_err)\n",
    "    improved_high_prec = chen_combine(improved_high_prec)"
   ],
   "metadata": {
    "collapsed": false,
    "pycharm": {
     "name": "#%%\n"
    }
   }
  },
  {
   "cell_type": "code",
   "execution_count": null,
   "outputs": [],
   "source": [],
   "metadata": {
    "collapsed": false,
    "pycharm": {
     "name": "#%%\n"
    }
   }
  }
 ],
 "metadata": {
  "kernelspec": {
   "display_name": "Python 3",
   "language": "python",
   "name": "python3"
  },
  "language_info": {
   "codemirror_mode": {
    "name": "ipython",
    "version": 2
   },
   "file_extension": ".py",
   "mimetype": "text/x-python",
   "name": "python",
   "nbconvert_exporter": "python",
   "pygments_lexer": "ipython2",
   "version": "2.7.6"
  }
 },
 "nbformat": 4,
 "nbformat_minor": 0
}